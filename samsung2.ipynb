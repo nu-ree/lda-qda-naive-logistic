{
 "cells": [
  {
   "cell_type": "code",
   "execution_count": 1,
   "metadata": {},
   "outputs": [],
   "source": [
    "import numpy as np\n",
    "import pandas as pd\n",
    "import seaborn as sns\n",
    "import matplotlib.pyplot as plt\n",
    "\n",
    "from imblearn.over_sampling import SMOTE\n",
    "from sklearn.model_selection import train_test_split\n",
    "from sklearn.metrics import mean_squared_error\n",
    "from sklearn.metrics import accuracy_score, recall_score\n",
    "\n",
    "from sklearn.linear_model import LinearRegression\n",
    "\n",
    "from sklearn.metrics import roc_curve, auc\n",
    "from sklearn.metrics import roc_auc_score"
   ]
  },
  {
   "cell_type": "code",
   "execution_count": 2,
   "metadata": {},
   "outputs": [],
   "source": [
    "pd.set_option('display.max_columns', 500)\n",
    "pd.set_option('display.max_rows', 500)"
   ]
  },
  {
   "cell_type": "code",
   "execution_count": 3,
   "metadata": {},
   "outputs": [],
   "source": [
    "df = pd.read_csv('1.samsung_train.csv',encoding='CP949')"
   ]
  },
  {
   "cell_type": "code",
   "execution_count": 4,
   "metadata": {},
   "outputs": [],
   "source": [
    "df.drop(['temp1','temp2','temp3','발생분변환'],axis=1,inplace=True)"
   ]
  },
  {
   "cell_type": "code",
   "execution_count": 5,
   "metadata": {},
   "outputs": [
    {
     "data": {
      "text/plain": [
       "count    25037.000000\n",
       "mean         0.580621\n",
       "std          1.987263\n",
       "min          0.000000\n",
       "25%          0.000000\n",
       "50%          0.000000\n",
       "75%          1.000000\n",
       "max         96.000000\n",
       "Name: 총부상자수, dtype: float64"
      ]
     },
     "execution_count": 5,
     "metadata": {},
     "output_type": "execute_result"
    }
   ],
   "source": [
    "# 총부상자수 변수\n",
    "\n",
    "df['총부상자수']=df.사상자수 - df.사망자수\n",
    "df.총부상자수.describe()"
   ]
  },
  {
   "cell_type": "code",
   "execution_count": 6,
   "metadata": {},
   "outputs": [],
   "source": [
    "# 충남 연기군 -> 세종 세종 변경 (12년 7월)\n",
    "df.loc[df.발생지시군구=='연기군','발생지시군구']='세종'\n",
    "df.loc[(df.발생지시도=='충남')&(df.발생지시군구=='세종'),'발생지시도']='세종'"
   ]
  },
  {
   "cell_type": "code",
   "execution_count": 8,
   "metadata": {},
   "outputs": [],
   "source": [
    "# 충북 청원군 -> 충북 청주시 변경 (14년 7월)\n",
    "df.loc[df.발생지시군구=='청원군','발생지시군구']='청주시'"
   ]
  },
  {
   "cell_type": "code",
   "execution_count": 9,
   "metadata": {},
   "outputs": [
    {
     "data": {
      "text/html": [
       "<div>\n",
       "<style scoped>\n",
       "    .dataframe tbody tr th:only-of-type {\n",
       "        vertical-align: middle;\n",
       "    }\n",
       "\n",
       "    .dataframe tbody tr th {\n",
       "        vertical-align: top;\n",
       "    }\n",
       "\n",
       "    .dataframe thead th {\n",
       "        text-align: right;\n",
       "    }\n",
       "</style>\n",
       "<table border=\"1\" class=\"dataframe\">\n",
       "  <thead>\n",
       "    <tr style=\"text-align: right;\">\n",
       "      <th></th>\n",
       "      <th>발생년월일시</th>\n",
       "      <th>발생년</th>\n",
       "      <th>발생월</th>\n",
       "      <th>발생일</th>\n",
       "      <th>발생시</th>\n",
       "      <th>발생분</th>\n",
       "      <th>주야</th>\n",
       "      <th>요일</th>\n",
       "      <th>사망자수</th>\n",
       "      <th>사상자수</th>\n",
       "      <th>중상자수</th>\n",
       "      <th>경상자수</th>\n",
       "      <th>부상신고자수</th>\n",
       "      <th>발생지시도</th>\n",
       "      <th>발생지시군구</th>\n",
       "      <th>사고유형_대분류</th>\n",
       "      <th>사고유형_중분류</th>\n",
       "      <th>사고유형</th>\n",
       "      <th>법규위반_대분류</th>\n",
       "      <th>법규위반</th>\n",
       "      <th>도로형태_대분류</th>\n",
       "      <th>도로형태</th>\n",
       "      <th>당사자종별_1당_대분류</th>\n",
       "      <th>당사자종별_1당</th>\n",
       "      <th>당사자종별_2당_대분류</th>\n",
       "      <th>당사자종별_2당</th>\n",
       "      <th>발생위치X_UTMK</th>\n",
       "      <th>발생위치Y_UTMK</th>\n",
       "      <th>경도</th>\n",
       "      <th>위도</th>\n",
       "      <th>총부상자수</th>\n",
       "    </tr>\n",
       "  </thead>\n",
       "  <tbody>\n",
       "    <tr>\n",
       "      <th>543</th>\n",
       "      <td>201705111520</td>\n",
       "      <td>2017</td>\n",
       "      <td>5</td>\n",
       "      <td>11</td>\n",
       "      <td>15</td>\n",
       "      <td>20</td>\n",
       "      <td>주간</td>\n",
       "      <td>목</td>\n",
       "      <td>5</td>\n",
       "      <td>14</td>\n",
       "      <td>1</td>\n",
       "      <td>8</td>\n",
       "      <td>0</td>\n",
       "      <td>강원</td>\n",
       "      <td>평창군</td>\n",
       "      <td>차대차</td>\n",
       "      <td>추돌</td>\n",
       "      <td>추돌</td>\n",
       "      <td>운전자법규위반</td>\n",
       "      <td>안전운전 의무 불이행</td>\n",
       "      <td>단일로</td>\n",
       "      <td>기타단일로</td>\n",
       "      <td>승합차</td>\n",
       "      <td>승합차</td>\n",
       "      <td>승합차</td>\n",
       "      <td>승합차</td>\n",
       "      <td>1073759</td>\n",
       "      <td>1951258</td>\n",
       "      <td>128.329868</td>\n",
       "      <td>37.556878</td>\n",
       "      <td>9</td>\n",
       "    </tr>\n",
       "    <tr>\n",
       "      <th>748</th>\n",
       "      <td>201704230400</td>\n",
       "      <td>2017</td>\n",
       "      <td>4</td>\n",
       "      <td>23</td>\n",
       "      <td>4</td>\n",
       "      <td>0</td>\n",
       "      <td>야간</td>\n",
       "      <td>일</td>\n",
       "      <td>3</td>\n",
       "      <td>4</td>\n",
       "      <td>1</td>\n",
       "      <td>0</td>\n",
       "      <td>0</td>\n",
       "      <td>전남</td>\n",
       "      <td>여수시</td>\n",
       "      <td>차대차</td>\n",
       "      <td>측면충돌</td>\n",
       "      <td>측면충돌</td>\n",
       "      <td>운전자법규위반</td>\n",
       "      <td>안전운전 의무 불이행</td>\n",
       "      <td>단일로</td>\n",
       "      <td>기타단일로</td>\n",
       "      <td>승용차</td>\n",
       "      <td>승용차</td>\n",
       "      <td>화물차</td>\n",
       "      <td>화물차</td>\n",
       "      <td>1013558</td>\n",
       "      <td>1638000</td>\n",
       "      <td>127.648100</td>\n",
       "      <td>34.736452</td>\n",
       "      <td>1</td>\n",
       "    </tr>\n",
       "    <tr>\n",
       "      <th>799</th>\n",
       "      <td>201704161145</td>\n",
       "      <td>2017</td>\n",
       "      <td>4</td>\n",
       "      <td>16</td>\n",
       "      <td>11</td>\n",
       "      <td>45</td>\n",
       "      <td>주간</td>\n",
       "      <td>일</td>\n",
       "      <td>1</td>\n",
       "      <td>27</td>\n",
       "      <td>8</td>\n",
       "      <td>17</td>\n",
       "      <td>1</td>\n",
       "      <td>울산</td>\n",
       "      <td>남구</td>\n",
       "      <td>차대차</td>\n",
       "      <td>측면충돌</td>\n",
       "      <td>측면충돌</td>\n",
       "      <td>운전자법규위반</td>\n",
       "      <td>안전운전 의무 불이행</td>\n",
       "      <td>단일로</td>\n",
       "      <td>기타단일로</td>\n",
       "      <td>승합차</td>\n",
       "      <td>승합차</td>\n",
       "      <td>승용차</td>\n",
       "      <td>승용차</td>\n",
       "      <td>1160678</td>\n",
       "      <td>1729618</td>\n",
       "      <td>129.272664</td>\n",
       "      <td>35.549539</td>\n",
       "      <td>26</td>\n",
       "    </tr>\n",
       "    <tr>\n",
       "      <th>804</th>\n",
       "      <td>201704160020</td>\n",
       "      <td>2017</td>\n",
       "      <td>4</td>\n",
       "      <td>16</td>\n",
       "      <td>0</td>\n",
       "      <td>20</td>\n",
       "      <td>야간</td>\n",
       "      <td>일</td>\n",
       "      <td>3</td>\n",
       "      <td>4</td>\n",
       "      <td>1</td>\n",
       "      <td>0</td>\n",
       "      <td>0</td>\n",
       "      <td>경기</td>\n",
       "      <td>화성시</td>\n",
       "      <td>차대사람</td>\n",
       "      <td>길가장자리구역통행중</td>\n",
       "      <td>길가장자리구역통행중</td>\n",
       "      <td>운전자법규위반</td>\n",
       "      <td>안전운전 의무 불이행</td>\n",
       "      <td>단일로</td>\n",
       "      <td>기타단일로</td>\n",
       "      <td>화물차</td>\n",
       "      <td>화물차</td>\n",
       "      <td>보행자</td>\n",
       "      <td>보행자</td>\n",
       "      <td>931961</td>\n",
       "      <td>1912794</td>\n",
       "      <td>126.733188</td>\n",
       "      <td>37.211486</td>\n",
       "      <td>1</td>\n",
       "    </tr>\n",
       "    <tr>\n",
       "      <th>993</th>\n",
       "      <td>201703251000</td>\n",
       "      <td>2017</td>\n",
       "      <td>3</td>\n",
       "      <td>25</td>\n",
       "      <td>10</td>\n",
       "      <td>0</td>\n",
       "      <td>주간</td>\n",
       "      <td>토</td>\n",
       "      <td>4</td>\n",
       "      <td>5</td>\n",
       "      <td>1</td>\n",
       "      <td>0</td>\n",
       "      <td>0</td>\n",
       "      <td>경북</td>\n",
       "      <td>상주시</td>\n",
       "      <td>차대차</td>\n",
       "      <td>정면충돌</td>\n",
       "      <td>정면충돌</td>\n",
       "      <td>운전자법규위반</td>\n",
       "      <td>중앙선 침범</td>\n",
       "      <td>단일로</td>\n",
       "      <td>기타단일로</td>\n",
       "      <td>화물차</td>\n",
       "      <td>화물차</td>\n",
       "      <td>화물차</td>\n",
       "      <td>화물차</td>\n",
       "      <td>1055350</td>\n",
       "      <td>1824390</td>\n",
       "      <td>128.117380</td>\n",
       "      <td>36.415436</td>\n",
       "      <td>1</td>\n",
       "    </tr>\n",
       "  </tbody>\n",
       "</table>\n",
       "</div>"
      ],
      "text/plain": [
       "           발생년월일시   발생년  발생월  발생일  발생시  발생분  주야 요일  사망자수  사상자수  중상자수  경상자수  \\\n",
       "543  201705111520  2017    5   11   15   20  주간  목     5    14     1     8   \n",
       "748  201704230400  2017    4   23    4    0  야간  일     3     4     1     0   \n",
       "799  201704161145  2017    4   16   11   45  주간  일     1    27     8    17   \n",
       "804  201704160020  2017    4   16    0   20  야간  일     3     4     1     0   \n",
       "993  201703251000  2017    3   25   10    0  주간  토     4     5     1     0   \n",
       "\n",
       "     부상신고자수 발생지시도 발생지시군구 사고유형_대분류    사고유형_중분류        사고유형 법규위반_대분류  \\\n",
       "543       0    강원    평창군      차대차          추돌          추돌  운전자법규위반   \n",
       "748       0    전남    여수시      차대차        측면충돌        측면충돌  운전자법규위반   \n",
       "799       1    울산     남구      차대차        측면충돌        측면충돌  운전자법규위반   \n",
       "804       0    경기    화성시     차대사람  길가장자리구역통행중  길가장자리구역통행중  운전자법규위반   \n",
       "993       0    경북    상주시      차대차        정면충돌        정면충돌  운전자법규위반   \n",
       "\n",
       "            법규위반 도로형태_대분류   도로형태 당사자종별_1당_대분류 당사자종별_1당 당사자종별_2당_대분류 당사자종별_2당  \\\n",
       "543  안전운전 의무 불이행      단일로  기타단일로          승합차      승합차          승합차      승합차   \n",
       "748  안전운전 의무 불이행      단일로  기타단일로          승용차      승용차          화물차      화물차   \n",
       "799  안전운전 의무 불이행      단일로  기타단일로          승합차      승합차          승용차      승용차   \n",
       "804  안전운전 의무 불이행      단일로  기타단일로          화물차      화물차          보행자      보행자   \n",
       "993       중앙선 침범      단일로  기타단일로          화물차      화물차          화물차      화물차   \n",
       "\n",
       "     발생위치X_UTMK  발생위치Y_UTMK          경도         위도  총부상자수  \n",
       "543     1073759     1951258  128.329868  37.556878      9  \n",
       "748     1013558     1638000  127.648100  34.736452      1  \n",
       "799     1160678     1729618  129.272664  35.549539     26  \n",
       "804      931961     1912794  126.733188  37.211486      1  \n",
       "993     1055350     1824390  128.117380  36.415436      1  "
      ]
     },
     "execution_count": 9,
     "metadata": {},
     "output_type": "execute_result"
    }
   ],
   "source": [
    "# 대형교통사고 #\n",
    "\n",
    "df_big=df[(df.사망자수>=3)|(df.사상자수>=20)]\n",
    "df_big.head()"
   ]
  },
  {
   "cell_type": "markdown",
   "metadata": {},
   "source": [
    "# 1. test data 살펴보기"
   ]
  },
  {
   "cell_type": "markdown",
   "metadata": {},
   "source": [
    "### - 변수별 분포 확인"
   ]
  },
  {
   "cell_type": "code",
   "execution_count": 10,
   "metadata": {},
   "outputs": [],
   "source": [
    "df_test = pd.read_csv('test_kor.csv',encoding='CP949')"
   ]
  },
  {
   "cell_type": "code",
   "execution_count": 11,
   "metadata": {},
   "outputs": [
    {
     "data": {
      "text/html": [
       "<div>\n",
       "<style scoped>\n",
       "    .dataframe tbody tr th:only-of-type {\n",
       "        vertical-align: middle;\n",
       "    }\n",
       "\n",
       "    .dataframe tbody tr th {\n",
       "        vertical-align: top;\n",
       "    }\n",
       "\n",
       "    .dataframe thead th {\n",
       "        text-align: right;\n",
       "    }\n",
       "</style>\n",
       "<table border=\"1\" class=\"dataframe\">\n",
       "  <thead>\n",
       "    <tr style=\"text-align: right;\">\n",
       "      <th></th>\n",
       "      <th>train</th>\n",
       "      <th>predict</th>\n",
       "      <th>test</th>\n",
       "    </tr>\n",
       "  </thead>\n",
       "  <tbody>\n",
       "    <tr>\n",
       "      <th>1</th>\n",
       "      <td>0.967</td>\n",
       "      <td>48.0</td>\n",
       "      <td>34</td>\n",
       "    </tr>\n",
       "    <tr>\n",
       "      <th>2</th>\n",
       "      <td>0.028</td>\n",
       "      <td>1.0</td>\n",
       "      <td>7</td>\n",
       "    </tr>\n",
       "    <tr>\n",
       "      <th>3</th>\n",
       "      <td>0.005</td>\n",
       "      <td>0.0</td>\n",
       "      <td>0</td>\n",
       "    </tr>\n",
       "    <tr>\n",
       "      <th>na</th>\n",
       "      <td>0.000</td>\n",
       "      <td>0.0</td>\n",
       "      <td>9</td>\n",
       "    </tr>\n",
       "  </tbody>\n",
       "</table>\n",
       "</div>"
      ],
      "text/plain": [
       "    train  predict  test\n",
       "1   0.967     48.0    34\n",
       "2   0.028      1.0     7\n",
       "3   0.005      0.0     0\n",
       "na  0.000      0.0     9"
      ]
     },
     "execution_count": 11,
     "metadata": {},
     "output_type": "execute_result"
    }
   ],
   "source": [
    "# 사망자수 #\n",
    "\n",
    "train = [] \n",
    "train.append(df[df.사망자수 == 1].shape[0] / df.shape[0])\n",
    "train.append(df[df.사망자수 == 2].shape[0] / df.shape[0])\n",
    "train.append(df[df.사망자수 >= 3].shape[0] / df.shape[0])\n",
    "train.append(0)\n",
    "\n",
    "train = [round(i,3) for i in train]\n",
    "#train\n",
    "\n",
    "predict = []\n",
    "\n",
    "predict.append(df_test.shape[0]*train[0])\n",
    "predict.append(df_test.shape[0]*train[1])\n",
    "predict.append(df_test.shape[0]*train[2])\n",
    "predict.append(0)\n",
    "\n",
    "predict = [round(i,0) for i in predict]\n",
    "#predict\n",
    "\n",
    "test = []\n",
    "\n",
    "test.append((df_test.사망자수 == 1).sum())\n",
    "test.append((df_test.사망자수 == 2).sum())\n",
    "test.append(0)\n",
    "test.append(df_test.사망자수.isnull().sum())\n",
    "            \n",
    "#test\n",
    "\n",
    "temp = pd.DataFrame(index=['1','2','3','na'])\n",
    "\n",
    "temp['train']=train\n",
    "temp['predict']=predict\n",
    "temp['test']=test\n",
    "temp"
   ]
  },
  {
   "cell_type": "code",
   "execution_count": 12,
   "metadata": {},
   "outputs": [
    {
     "name": "stderr",
     "output_type": "stream",
     "text": [
      "c:\\users\\user\\appdata\\local\\programs\\python\\python36\\lib\\site-packages\\matplotlib\\font_manager.py:1328: UserWarning: findfont: Font family ['\"C:/Windows/Fonts/NanumBarunGothic.ttf\"'] not found. Falling back to DejaVu Sans\n",
      "  (prop.get_family(), self.defaultFamily[fontext]))\n"
     ]
    },
    {
     "data": {
      "image/png": "[encoded data removed]",
      "text/plain": [
       "<Figure size 432x288 with 1 Axes>"
      ]
     },
     "metadata": {},
     "output_type": "display_data"
    }
   ],
   "source": [
    "x = np.arange(4)\n",
    "\n",
    "plt.bar(x-0.15, temp.predict,color='b',width=0.3 , label='predict')\n",
    "plt.bar(x+0.15, temp.test   ,color='r',width=0.3 , label='test')\n",
    "\n",
    "plt.legend()\n",
    "plt.xticks(x,np.array(['1','2','3','na']));"
   ]
  },
  {
   "cell_type": "markdown",
   "metadata": {},
   "source": [
    "사망자수 변수는 train data에서 보면 데이터의 96프로 정도가 1값, 3프로 정도가 2 값을 가지고, 3이상의 값을 갖는 데이터 수는 매우 적습니다. \n",
    "\n",
    "이때 만약 test data가 모 dataset에서 random sampling된 dataset이라면, test data의 사망자수의 분포는 train data와 비슷할 것입니다. 이에 train data에서의 분포로 test data에서 나타날 사망자 수를 예측해보면 1명인 데이터가 48개, 2명인 데이터가 1개, 3명 이상인 데이터는 많아봐야 1개 나타나야 합니다.\n",
    "\n",
    "하지만 실제 test data에 나타난 사망자 수별 데이터수를 확인해보면, 사망자수가1명인 데이터는 34개, 2명인 데이터는 7개, 3명이상인 데이터는 아직 없고, 총 9개의 빈칸을 채워야 합니다.\n",
    "이미 test data에서 사망자수가 2명인 데이터가 train data의 분포로 예상한 개수인 1개보다 7배나 많은 7개나 나왔기 때문에, train data와 test data의 사망자 수 분포는 조금 다르단 걸 알 수 있습니다.\n",
    "\n",
    "이런 분포의 차이를 봤을 때, test data는 random sampling 돼지 않았고, 다른 stratified sampling이 사용됐을 가능성이 높다고 생각됩니다.\n",
    "즉, 사망자수가 1명인 data들, 2명인 data들, 3명이상인 data들 각각의 집단에서 일정 숫자를 정해서 sampling 하기 때문에, 실제 train data에서 많이 나타나지 않는 outlier들도 test data에서는 충분히 나타날 가능성이 있습니다.\n",
    "\n",
    "이에 특이하게 수치가 높게 나타나는 교통사고의 특징을 최대한 많이 잡아내서 그러한 교통사고를 잘 detect하는 작업이 중요하다고 생각합니다."
   ]
  },
  {
   "cell_type": "code",
   "execution_count": null,
   "metadata": {},
   "outputs": [],
   "source": [
    "# 사상자수 # "
   ]
  },
  {
   "cell_type": "code",
   "execution_count": 13,
   "metadata": {},
   "outputs": [
    {
     "data": {
      "text/plain": [
       "1      18431\n",
       "2       3537\n",
       "3       1390\n",
       "4        694\n",
       "5        377\n",
       "6        180\n",
       "7        117\n",
       "8         78\n",
       "9         47\n",
       "10        29\n",
       "11        30\n",
       "12        23\n",
       "13        12\n",
       "14        12\n",
       "15         8\n",
       "16         5\n",
       "17         4\n",
       "18        10\n",
       "19         6\n",
       "20         5\n",
       "21         2\n",
       "22         4\n",
       "23         1\n",
       "24         4\n",
       "25         4\n",
       "26         2\n",
       "27         5\n",
       "28         1\n",
       "31         2\n",
       "34         2\n",
       "35         1\n",
       "36         1\n",
       "37         2\n",
       "40         1\n",
       "43         3\n",
       "44         1\n",
       "47         1\n",
       "51         1\n",
       "57         1\n",
       "60         1\n",
       "67         1\n",
       "100        1\n",
       "Name: 사상자수, dtype: int64"
      ]
     },
     "execution_count": 13,
     "metadata": {},
     "output_type": "execute_result"
    }
   ],
   "source": [
    "df.사상자수.value_counts().sort_index()\n",
    "\n",
    "# 1, 2, 3~4, 5~8, 9~15, 16~"
   ]
  },
  {
   "cell_type": "code",
   "execution_count": 14,
   "metadata": {},
   "outputs": [
    {
     "data": {
      "text/html": [
       "<div>\n",
       "<style scoped>\n",
       "    .dataframe tbody tr th:only-of-type {\n",
       "        vertical-align: middle;\n",
       "    }\n",
       "\n",
       "    .dataframe tbody tr th {\n",
       "        vertical-align: top;\n",
       "    }\n",
       "\n",
       "    .dataframe thead th {\n",
       "        text-align: right;\n",
       "    }\n",
       "</style>\n",
       "<table border=\"1\" class=\"dataframe\">\n",
       "  <thead>\n",
       "    <tr style=\"text-align: right;\">\n",
       "      <th></th>\n",
       "      <th>train</th>\n",
       "      <th>predict</th>\n",
       "      <th>test</th>\n",
       "    </tr>\n",
       "  </thead>\n",
       "  <tbody>\n",
       "    <tr>\n",
       "      <th>1</th>\n",
       "      <td>0.736</td>\n",
       "      <td>37.0</td>\n",
       "      <td>13</td>\n",
       "    </tr>\n",
       "    <tr>\n",
       "      <th>2</th>\n",
       "      <td>0.141</td>\n",
       "      <td>7.0</td>\n",
       "      <td>8</td>\n",
       "    </tr>\n",
       "    <tr>\n",
       "      <th>3~4</th>\n",
       "      <td>0.083</td>\n",
       "      <td>4.0</td>\n",
       "      <td>4</td>\n",
       "    </tr>\n",
       "    <tr>\n",
       "      <th>5~8</th>\n",
       "      <td>0.030</td>\n",
       "      <td>2.0</td>\n",
       "      <td>4</td>\n",
       "    </tr>\n",
       "    <tr>\n",
       "      <th>9~15</th>\n",
       "      <td>0.006</td>\n",
       "      <td>0.0</td>\n",
       "      <td>3</td>\n",
       "    </tr>\n",
       "    <tr>\n",
       "      <th>16~</th>\n",
       "      <td>0.003</td>\n",
       "      <td>0.0</td>\n",
       "      <td>1</td>\n",
       "    </tr>\n",
       "    <tr>\n",
       "      <th>na</th>\n",
       "      <td>0.000</td>\n",
       "      <td>0.0</td>\n",
       "      <td>17</td>\n",
       "    </tr>\n",
       "  </tbody>\n",
       "</table>\n",
       "</div>"
      ],
      "text/plain": [
       "      train  predict  test\n",
       "1     0.736     37.0    13\n",
       "2     0.141      7.0     8\n",
       "3~4   0.083      4.0     4\n",
       "5~8   0.030      2.0     4\n",
       "9~15  0.006      0.0     3\n",
       "16~   0.003      0.0     1\n",
       "na    0.000      0.0    17"
      ]
     },
     "execution_count": 14,
     "metadata": {},
     "output_type": "execute_result"
    }
   ],
   "source": [
    "train = [] \n",
    "\n",
    "train.append(df[df.사상자수 == 1].shape[0] / df.shape[0])\n",
    "train.append(df[df.사상자수 == 2].shape[0] / df.shape[0])\n",
    "train.append(df[(df.사상자수 >= 3)&(df.사상자수<=4)].shape[0] / df.shape[0])\n",
    "train.append(df[(df.사상자수 >= 5)&(df.사상자수<=8)].shape[0] / df.shape[0])\n",
    "train.append(df[(df.사상자수 >= 9)&(df.사상자수<=15)].shape[0] / df.shape[0])\n",
    "train.append(df[(df.사상자수 >= 16)].shape[0] / df.shape[0])\n",
    "train.append(0)\n",
    "\n",
    "train = [round(i,3) for i in train]\n",
    "#train\n",
    "\n",
    "predict = []\n",
    "\n",
    "predict.append(df_test.shape[0]*train[0])\n",
    "predict.append(df_test.shape[0]*train[1])\n",
    "predict.append(df_test.shape[0]*train[2])\n",
    "predict.append(df_test.shape[0]*train[3])\n",
    "predict.append(df_test.shape[0]*train[4])\n",
    "predict.append(df_test.shape[0]*train[5])\n",
    "predict.append(0)\n",
    "\n",
    "predict = [round(i,0) for i in predict]\n",
    "#predict\n",
    "\n",
    "test = []\n",
    "\n",
    "test.append((df_test.사상자수 == 1).sum())\n",
    "test.append((df_test.사상자수 == 2).sum())\n",
    "test.append(((df_test.사상자수>=3) & (df_test.사상자수<=4)).sum())\n",
    "test.append(((df_test.사상자수>=5) & (df_test.사상자수<=8)).sum())\n",
    "test.append(((df_test.사상자수>=9) & (df_test.사상자수<=15)).sum())\n",
    "test.append((df_test.사상자수>=16).sum())\n",
    "test.append(df_test.사상자수.isnull().sum())\n",
    "            \n",
    "#test\n",
    "\n",
    "\n",
    "temp = pd.DataFrame(index=['1','2','3~4','5~8','9~15','16~','na'])\n",
    "\n",
    "temp['train']=train\n",
    "temp['predict']=predict\n",
    "temp['test']=test\n",
    "\n",
    "temp"
   ]
  },
  {
   "cell_type": "code",
   "execution_count": 15,
   "metadata": {},
   "outputs": [
    {
     "name": "stderr",
     "output_type": "stream",
     "text": [
      "c:\\users\\user\\appdata\\local\\programs\\python\\python36\\lib\\site-packages\\matplotlib\\font_manager.py:1328: UserWarning: findfont: Font family ['\"C:/Windows/Fonts/NanumBarunGothic.ttf\"'] not found. Falling back to DejaVu Sans\n",
      "  (prop.get_family(), self.defaultFamily[fontext]))\n"
     ]
    },
    {
     "data": {
      "image/png": "[encoded data removed]",
      "text/plain": [
       "<Figure size 432x288 with 1 Axes>"
      ]
     },
     "metadata": {},
     "output_type": "display_data"
    }
   ],
   "source": [
    "x = np.arange(7)\n",
    "\n",
    "plt.bar(x-0.15, temp.predict,color='b',width=0.3, label='predict')\n",
    "plt.bar(x+0.15, temp.test   ,color='r',width=0.3, label='test')\n",
    "\n",
    "plt.legend()\n",
    "plt.xticks(x,np.array(['1','2','3~4','5~8','9~15','16~','na']));"
   ]
  },
  {
   "cell_type": "code",
   "execution_count": 16,
   "metadata": {},
   "outputs": [
    {
     "data": {
      "text/plain": [
       "0     20824\n",
       "1      2698\n",
       "2       837\n",
       "3       338\n",
       "4       142\n",
       "5        68\n",
       "6        44\n",
       "7        27\n",
       "8        17\n",
       "9        10\n",
       "10        5\n",
       "11        5\n",
       "12        3\n",
       "13        5\n",
       "14        1\n",
       "15        2\n",
       "16        2\n",
       "17        1\n",
       "18        1\n",
       "21        1\n",
       "22        1\n",
       "25        1\n",
       "26        1\n",
       "28        1\n",
       "45        1\n",
       "54        1\n",
       "Name: 중상자수, dtype: int64"
      ]
     },
     "execution_count": 16,
     "metadata": {},
     "output_type": "execute_result"
    }
   ],
   "source": [
    "# 중상자수 #\n",
    "\n",
    "df.중상자수.value_counts().sort_index()\n",
    "\n",
    "# 0, 1, 2, 34, 5~8, 9~"
   ]
  },
  {
   "cell_type": "code",
   "execution_count": 17,
   "metadata": {},
   "outputs": [
    {
     "data": {
      "text/html": [
       "<div>\n",
       "<style scoped>\n",
       "    .dataframe tbody tr th:only-of-type {\n",
       "        vertical-align: middle;\n",
       "    }\n",
       "\n",
       "    .dataframe tbody tr th {\n",
       "        vertical-align: top;\n",
       "    }\n",
       "\n",
       "    .dataframe thead th {\n",
       "        text-align: right;\n",
       "    }\n",
       "</style>\n",
       "<table border=\"1\" class=\"dataframe\">\n",
       "  <thead>\n",
       "    <tr style=\"text-align: right;\">\n",
       "      <th></th>\n",
       "      <th>train</th>\n",
       "      <th>predict</th>\n",
       "      <th>test</th>\n",
       "    </tr>\n",
       "  </thead>\n",
       "  <tbody>\n",
       "    <tr>\n",
       "      <th>0</th>\n",
       "      <td>0.832</td>\n",
       "      <td>42.0</td>\n",
       "      <td>23</td>\n",
       "    </tr>\n",
       "    <tr>\n",
       "      <th>1</th>\n",
       "      <td>0.108</td>\n",
       "      <td>5.0</td>\n",
       "      <td>7</td>\n",
       "    </tr>\n",
       "    <tr>\n",
       "      <th>2</th>\n",
       "      <td>0.033</td>\n",
       "      <td>2.0</td>\n",
       "      <td>1</td>\n",
       "    </tr>\n",
       "    <tr>\n",
       "      <th>3~4</th>\n",
       "      <td>0.019</td>\n",
       "      <td>1.0</td>\n",
       "      <td>4</td>\n",
       "    </tr>\n",
       "    <tr>\n",
       "      <th>5~8</th>\n",
       "      <td>0.006</td>\n",
       "      <td>0.0</td>\n",
       "      <td>0</td>\n",
       "    </tr>\n",
       "    <tr>\n",
       "      <th>9~</th>\n",
       "      <td>0.002</td>\n",
       "      <td>0.0</td>\n",
       "      <td>1</td>\n",
       "    </tr>\n",
       "    <tr>\n",
       "      <th>na</th>\n",
       "      <td>0.000</td>\n",
       "      <td>0.0</td>\n",
       "      <td>14</td>\n",
       "    </tr>\n",
       "  </tbody>\n",
       "</table>\n",
       "</div>"
      ],
      "text/plain": [
       "     train  predict  test\n",
       "0    0.832     42.0    23\n",
       "1    0.108      5.0     7\n",
       "2    0.033      2.0     1\n",
       "3~4  0.019      1.0     4\n",
       "5~8  0.006      0.0     0\n",
       "9~   0.002      0.0     1\n",
       "na   0.000      0.0    14"
      ]
     },
     "execution_count": 17,
     "metadata": {},
     "output_type": "execute_result"
    }
   ],
   "source": [
    "train = [] \n",
    "\n",
    "train.append(df[df.중상자수 == 0].shape[0] / df.shape[0])\n",
    "train.append(df[df.중상자수 == 1].shape[0] / df.shape[0])\n",
    "train.append(df[df.중상자수 == 2].shape[0] / df.shape[0])\n",
    "train.append(df[(df.중상자수 >= 3)&(df.중상자수<=4)].shape[0] / df.shape[0])\n",
    "train.append(df[(df.중상자수 >= 5)&(df.중상자수<=8)].shape[0] / df.shape[0])\n",
    "train.append(df[df.중상자수 >= 9].shape[0] / df.shape[0])\n",
    "train.append(0)\n",
    "\n",
    "train = [round(i,3) for i in train]\n",
    "#train\n",
    "\n",
    "predict = []\n",
    "\n",
    "predict.append(df_test.shape[0]*train[0])\n",
    "predict.append(df_test.shape[0]*train[1])\n",
    "predict.append(df_test.shape[0]*train[2])\n",
    "predict.append(df_test.shape[0]*train[3])\n",
    "predict.append(df_test.shape[0]*train[4])\n",
    "predict.append(df_test.shape[0]*train[5])\n",
    "predict.append(0)\n",
    "\n",
    "predict = [round(i,0) for i in predict]\n",
    "#predict\n",
    "\n",
    "test = []\n",
    "\n",
    "test.append((df_test.중상자수 == 0).sum())\n",
    "test.append((df_test.중상자수 == 1).sum())\n",
    "test.append((df_test.중상자수 == 2).sum())\n",
    "test.append(((df_test.중상자수>=3) & (df_test.중상자수<=4)).sum())\n",
    "test.append(((df_test.중상자수>=5) & (df_test.중상자수<=8)).sum())\n",
    "test.append((df_test.중상자수 >= 9).sum())\n",
    "test.append(df_test.중상자수.isnull().sum())\n",
    "            \n",
    "#test\n",
    "\n",
    "temp = pd.DataFrame(index=['0','1','2','3~4','5~8','9~','na'])\n",
    "\n",
    "temp['train']=train\n",
    "temp['predict']=predict\n",
    "temp['test']=test\n",
    "\n",
    "temp"
   ]
  },
  {
   "cell_type": "code",
   "execution_count": 18,
   "metadata": {},
   "outputs": [
    {
     "name": "stderr",
     "output_type": "stream",
     "text": [
      "c:\\users\\user\\appdata\\local\\programs\\python\\python36\\lib\\site-packages\\matplotlib\\font_manager.py:1328: UserWarning: findfont: Font family ['\"C:/Windows/Fonts/NanumBarunGothic.ttf\"'] not found. Falling back to DejaVu Sans\n",
      "  (prop.get_family(), self.defaultFamily[fontext]))\n"
     ]
    },
    {
     "data": {
      "image/png": "[encoded data removed]",
      "text/plain": [
       "<Figure size 432x288 with 1 Axes>"
      ]
     },
     "metadata": {},
     "output_type": "display_data"
    }
   ],
   "source": [
    "x = np.arange(7)\n",
    "\n",
    "plt.bar(x-0.15, temp.predict,color='b',width=0.3, label='predict')\n",
    "plt.bar(x+0.15, temp.test   ,color='r',width=0.3, label='test')\n",
    "\n",
    "plt.legend()\n",
    "plt.xticks(x,np.array(['0','1','2','3~4','5~8','9~','na']));"
   ]
  },
  {
   "cell_type": "code",
   "execution_count": 19,
   "metadata": {},
   "outputs": [
    {
     "data": {
      "text/plain": [
       "0     21818\n",
       "1      2084\n",
       "2       582\n",
       "3       245\n",
       "4       100\n",
       "5        52\n",
       "6        38\n",
       "7        38\n",
       "8        18\n",
       "9        10\n",
       "10        6\n",
       "11        7\n",
       "12        4\n",
       "13        5\n",
       "15        3\n",
       "16        4\n",
       "17        7\n",
       "18        3\n",
       "19        1\n",
       "20        1\n",
       "21        1\n",
       "22        2\n",
       "23        2\n",
       "26        1\n",
       "28        1\n",
       "29        1\n",
       "33        1\n",
       "41        1\n",
       "62        1\n",
       "Name: 경상자수, dtype: int64"
      ]
     },
     "execution_count": 19,
     "metadata": {},
     "output_type": "execute_result"
    }
   ],
   "source": [
    "# 경상자수 #\n",
    "\n",
    "df.경상자수.value_counts().sort_index()\n",
    "\n",
    "#0, 1, 2, 34, 58, 9~"
   ]
  },
  {
   "cell_type": "code",
   "execution_count": 20,
   "metadata": {},
   "outputs": [
    {
     "data": {
      "text/html": [
       "<div>\n",
       "<style scoped>\n",
       "    .dataframe tbody tr th:only-of-type {\n",
       "        vertical-align: middle;\n",
       "    }\n",
       "\n",
       "    .dataframe tbody tr th {\n",
       "        vertical-align: top;\n",
       "    }\n",
       "\n",
       "    .dataframe thead th {\n",
       "        text-align: right;\n",
       "    }\n",
       "</style>\n",
       "<table border=\"1\" class=\"dataframe\">\n",
       "  <thead>\n",
       "    <tr style=\"text-align: right;\">\n",
       "      <th></th>\n",
       "      <th>train</th>\n",
       "      <th>predict</th>\n",
       "      <th>test</th>\n",
       "    </tr>\n",
       "  </thead>\n",
       "  <tbody>\n",
       "    <tr>\n",
       "      <th>0</th>\n",
       "      <td>0.871</td>\n",
       "      <td>44.0</td>\n",
       "      <td>27</td>\n",
       "    </tr>\n",
       "    <tr>\n",
       "      <th>1</th>\n",
       "      <td>0.083</td>\n",
       "      <td>4.0</td>\n",
       "      <td>5</td>\n",
       "    </tr>\n",
       "    <tr>\n",
       "      <th>2</th>\n",
       "      <td>0.023</td>\n",
       "      <td>1.0</td>\n",
       "      <td>3</td>\n",
       "    </tr>\n",
       "    <tr>\n",
       "      <th>3~4</th>\n",
       "      <td>0.014</td>\n",
       "      <td>1.0</td>\n",
       "      <td>1</td>\n",
       "    </tr>\n",
       "    <tr>\n",
       "      <th>5~8</th>\n",
       "      <td>0.006</td>\n",
       "      <td>0.0</td>\n",
       "      <td>2</td>\n",
       "    </tr>\n",
       "    <tr>\n",
       "      <th>9~</th>\n",
       "      <td>0.002</td>\n",
       "      <td>0.0</td>\n",
       "      <td>4</td>\n",
       "    </tr>\n",
       "    <tr>\n",
       "      <th>na</th>\n",
       "      <td>0.000</td>\n",
       "      <td>0.0</td>\n",
       "      <td>8</td>\n",
       "    </tr>\n",
       "  </tbody>\n",
       "</table>\n",
       "</div>"
      ],
      "text/plain": [
       "     train  predict  test\n",
       "0    0.871     44.0    27\n",
       "1    0.083      4.0     5\n",
       "2    0.023      1.0     3\n",
       "3~4  0.014      1.0     1\n",
       "5~8  0.006      0.0     2\n",
       "9~   0.002      0.0     4\n",
       "na   0.000      0.0     8"
      ]
     },
     "execution_count": 20,
     "metadata": {},
     "output_type": "execute_result"
    }
   ],
   "source": [
    "train = [] \n",
    "\n",
    "train.append(df[df.경상자수 == 0].shape[0] / df.shape[0])\n",
    "train.append(df[df.경상자수 == 1].shape[0] / df.shape[0])\n",
    "train.append(df[df.경상자수 == 2].shape[0] / df.shape[0])\n",
    "train.append(df[(df.경상자수 >= 3)&(df.경상자수<=4)].shape[0] / df.shape[0])\n",
    "train.append(df[(df.경상자수 >= 5)&(df.경상자수<=8)].shape[0] / df.shape[0])\n",
    "train.append(df[df.경상자수 >= 9].shape[0] / df.shape[0])\n",
    "train.append(0)\n",
    "\n",
    "train = [round(i,3) for i in train]\n",
    "#train\n",
    "\n",
    "predict = []\n",
    "\n",
    "predict.append(df_test.shape[0]*train[0])\n",
    "predict.append(df_test.shape[0]*train[1])\n",
    "predict.append(df_test.shape[0]*train[2])\n",
    "predict.append(df_test.shape[0]*train[3])\n",
    "predict.append(df_test.shape[0]*train[4])\n",
    "predict.append(df_test.shape[0]*train[5])\n",
    "predict.append(0)\n",
    "\n",
    "predict = [round(i,0) for i in predict]\n",
    "#predict\n",
    "\n",
    "test = []\n",
    "\n",
    "test.append((df_test.경상자수 == 0).sum())\n",
    "test.append((df_test.경상자수 == 1).sum())\n",
    "test.append((df_test.경상자수 == 2).sum())\n",
    "test.append(((df_test.경상자수>=3) & (df_test.경상자수<=4)).sum())\n",
    "test.append(((df_test.경상자수>=5) & (df_test.경상자수<=8)).sum())\n",
    "test.append((df_test.경상자수 >= 9).sum())\n",
    "test.append(df_test.경상자수.isnull().sum())\n",
    "            \n",
    "#test\n",
    "\n",
    "temp = pd.DataFrame(index=['0','1','2','3~4','5~8','9~','na'])\n",
    "\n",
    "temp['train']=train\n",
    "temp['predict']=predict\n",
    "temp['test']=test\n",
    "\n",
    "temp"
   ]
  },
  {
   "cell_type": "code",
   "execution_count": 21,
   "metadata": {
    "scrolled": true
   },
   "outputs": [
    {
     "name": "stderr",
     "output_type": "stream",
     "text": [
      "c:\\users\\user\\appdata\\local\\programs\\python\\python36\\lib\\site-packages\\matplotlib\\font_manager.py:1328: UserWarning: findfont: Font family ['\"C:/Windows/Fonts/NanumBarunGothic.ttf\"'] not found. Falling back to DejaVu Sans\n",
      "  (prop.get_family(), self.defaultFamily[fontext]))\n"
     ]
    },
    {
     "data": {
      "image/png": "[encoded data removed]",
      "text/plain": [
       "<Figure size 432x288 with 1 Axes>"
      ]
     },
     "metadata": {},
     "output_type": "display_data"
    }
   ],
   "source": [
    "x = np.arange(7)\n",
    "\n",
    "plt.bar(x-0.15, temp.predict,color='b',width=0.3, label='predict')\n",
    "plt.bar(x+0.15, temp.test   ,color='r',width=0.3, label='test')\n",
    "\n",
    "plt.legend()\n",
    "plt.xticks(x,np.array(['0','1','2','3~4','5~8','9~','na']));"
   ]
  },
  {
   "cell_type": "code",
   "execution_count": 22,
   "metadata": {},
   "outputs": [
    {
     "data": {
      "text/plain": [
       "0     24596\n",
       "1       353\n",
       "2        43\n",
       "3        17\n",
       "4         7\n",
       "6         6\n",
       "5         5\n",
       "7         4\n",
       "30        1\n",
       "14        1\n",
       "11        1\n",
       "9         1\n",
       "67        1\n",
       "16        1\n",
       "Name: 부상신고자수, dtype: int64"
      ]
     },
     "execution_count": 22,
     "metadata": {},
     "output_type": "execute_result"
    }
   ],
   "source": [
    "# 부상신고자수 # \n",
    "\n",
    "df.부상신고자수.value_counts()\n",
    "\n",
    "# 0, 1, 23, 4~"
   ]
  },
  {
   "cell_type": "code",
   "execution_count": 23,
   "metadata": {},
   "outputs": [
    {
     "data": {
      "text/html": [
       "<div>\n",
       "<style scoped>\n",
       "    .dataframe tbody tr th:only-of-type {\n",
       "        vertical-align: middle;\n",
       "    }\n",
       "\n",
       "    .dataframe tbody tr th {\n",
       "        vertical-align: top;\n",
       "    }\n",
       "\n",
       "    .dataframe thead th {\n",
       "        text-align: right;\n",
       "    }\n",
       "</style>\n",
       "<table border=\"1\" class=\"dataframe\">\n",
       "  <thead>\n",
       "    <tr style=\"text-align: right;\">\n",
       "      <th></th>\n",
       "      <th>train</th>\n",
       "      <th>predict</th>\n",
       "      <th>test</th>\n",
       "    </tr>\n",
       "  </thead>\n",
       "  <tbody>\n",
       "    <tr>\n",
       "      <th>0</th>\n",
       "      <td>0.982</td>\n",
       "      <td>49.0</td>\n",
       "      <td>45</td>\n",
       "    </tr>\n",
       "    <tr>\n",
       "      <th>1</th>\n",
       "      <td>0.014</td>\n",
       "      <td>1.0</td>\n",
       "      <td>1</td>\n",
       "    </tr>\n",
       "    <tr>\n",
       "      <th>2~3</th>\n",
       "      <td>0.002</td>\n",
       "      <td>0.0</td>\n",
       "      <td>0</td>\n",
       "    </tr>\n",
       "    <tr>\n",
       "      <th>4~</th>\n",
       "      <td>0.001</td>\n",
       "      <td>0.0</td>\n",
       "      <td>2</td>\n",
       "    </tr>\n",
       "    <tr>\n",
       "      <th>na</th>\n",
       "      <td>0.000</td>\n",
       "      <td>0.0</td>\n",
       "      <td>2</td>\n",
       "    </tr>\n",
       "  </tbody>\n",
       "</table>\n",
       "</div>"
      ],
      "text/plain": [
       "     train  predict  test\n",
       "0    0.982     49.0    45\n",
       "1    0.014      1.0     1\n",
       "2~3  0.002      0.0     0\n",
       "4~   0.001      0.0     2\n",
       "na   0.000      0.0     2"
      ]
     },
     "execution_count": 23,
     "metadata": {},
     "output_type": "execute_result"
    }
   ],
   "source": [
    "train = [] \n",
    "\n",
    "train.append(df[df.부상신고자수 == 0].shape[0] / df.shape[0])\n",
    "train.append(df[df.부상신고자수 == 1].shape[0] / df.shape[0])\n",
    "train.append(df[(df.부상신고자수 >= 2)&(df.부상신고자수<=3)].shape[0] / df.shape[0])\n",
    "train.append(df[df.부상신고자수 >= 4].shape[0] / df.shape[0])\n",
    "train.append(0)\n",
    "\n",
    "train = [round(i,3) for i in train]\n",
    "# train\n",
    "\n",
    "predict = []\n",
    "\n",
    "predict.append(df_test.shape[0]*train[0])\n",
    "predict.append(df_test.shape[0]*train[1])\n",
    "predict.append(df_test.shape[0]*train[2])\n",
    "predict.append(df_test.shape[0]*train[3])\n",
    "predict.append(0)\n",
    "\n",
    "predict = [round(i,0) for i in predict]\n",
    "# predict\n",
    "\n",
    "test = []\n",
    "\n",
    "test.append((df_test.부상신고자수 == 0).sum())\n",
    "test.append((df_test.부상신고자수 == 1).sum())\n",
    "test.append(((df_test.부상신고자수>=2) & (df_test.부상신고자수<=3)).sum())\n",
    "test.append((df_test.부상신고자수 >= 4).sum())\n",
    "test.append(df_test.부상신고자수.isnull().sum())\n",
    "            \n",
    "# test\n",
    "\n",
    "temp = pd.DataFrame(index=['0','1','2~3','4~','na'])\n",
    "\n",
    "temp['train']=train\n",
    "temp['predict']=predict\n",
    "temp['test']=test\n",
    "\n",
    "temp"
   ]
  },
  {
   "cell_type": "code",
   "execution_count": 24,
   "metadata": {},
   "outputs": [
    {
     "name": "stderr",
     "output_type": "stream",
     "text": [
      "c:\\users\\user\\appdata\\local\\programs\\python\\python36\\lib\\site-packages\\matplotlib\\font_manager.py:1328: UserWarning: findfont: Font family ['\"C:/Windows/Fonts/NanumBarunGothic.ttf\"'] not found. Falling back to DejaVu Sans\n",
      "  (prop.get_family(), self.defaultFamily[fontext]))\n"
     ]
    },
    {
     "data": {
      "image/png": "[encoded data removed]",
      "text/plain": [
       "<Figure size 432x288 with 1 Axes>"
      ]
     },
     "metadata": {},
     "output_type": "display_data"
    }
   ],
   "source": [
    "x = np.arange(5)\n",
    "\n",
    "plt.bar(x-0.15, temp.predict,color='b',width=0.3, label='predict')\n",
    "plt.bar(x+0.15, temp.test   ,color='r',width=0.3, label='test')\n",
    "\n",
    "plt.legend()\n",
    "plt.xticks(x,np.array(['0','1','2~3','4~','na']));"
   ]
  },
  {
   "cell_type": "code",
   "execution_count": null,
   "metadata": {},
   "outputs": [],
   "source": [
    "# 발생지역 # "
   ]
  },
  {
   "cell_type": "code",
   "execution_count": 25,
   "metadata": {},
   "outputs": [],
   "source": [
    "def get_dist(df, df_test, variable):\n",
    "    train = (df[variable].value_counts() / df.shape[0])\n",
    "    train.append(pd.Series([0]))\n",
    "\n",
    "    ind = train.index.tolist()\n",
    "    ind.append('na')\n",
    "\n",
    "    temp = pd.DataFrame(index=ind)\n",
    "\n",
    "    temp['train'] = round(train,2)\n",
    "    temp['predict'] = round(train * 50,0)\n",
    "\n",
    "\n",
    "    test = []\n",
    "    for i in df[variable].value_counts().index.tolist():\n",
    "    \n",
    "        test.append((df_test[variable] == i).sum())\n",
    "\n",
    "    test.append((df_test[variable].isnull()).sum())\n",
    "\n",
    "    temp['test'] = test\n",
    "    \n",
    "    \n",
    "\n",
    "    x = np.arange(temp.shape[0])\n",
    "\n",
    "    plt.figure(figsize=(12,6))\n",
    "    plt.bar(x-0.15, temp.predict,color='b',width=0.3, label='predict')\n",
    "    plt.bar(x+0.15, temp.test   ,color='r',width=0.3, label='test')\n",
    "\n",
    "    plt.legend()\n",
    "    plt.xticks(x,temp.index);\n",
    "    \n",
    "    return temp"
   ]
  },
  {
   "cell_type": "code",
   "execution_count": 41,
   "metadata": {},
   "outputs": [],
   "source": [
    "# get_dist(df, df_test, '발생지시도')"
   ]
  },
  {
   "cell_type": "code",
   "execution_count": 42,
   "metadata": {},
   "outputs": [],
   "source": [
    "# 사고유형 대분류 # \n",
    "\n",
    "# get_dist(df, df_test, '사고유형_대분류')"
   ]
  },
  {
   "cell_type": "code",
   "execution_count": 43,
   "metadata": {},
   "outputs": [],
   "source": [
    "# 사고유형 중분류 #\n",
    "\n",
    "# get_dist(df,df_test,'사고유형_중분류')"
   ]
  },
  {
   "cell_type": "code",
   "execution_count": 44,
   "metadata": {},
   "outputs": [],
   "source": [
    "# 법규위반 #\n",
    "\n",
    "# get_dist(df,df_test,'법규위반')"
   ]
  },
  {
   "cell_type": "code",
   "execution_count": 45,
   "metadata": {},
   "outputs": [],
   "source": [
    "# 도로형태 #\n",
    "\n",
    "# get_dist(df, df_test,'도로형태')"
   ]
  },
  {
   "cell_type": "code",
   "execution_count": 46,
   "metadata": {},
   "outputs": [],
   "source": [
    "# 요일 #\n",
    "\n",
    "# get_dist(df,df_test,'요일')"
   ]
  },
  {
   "cell_type": "code",
   "execution_count": 47,
   "metadata": {
    "scrolled": true
   },
   "outputs": [],
   "source": [
    "# 주야 #\n",
    "\n",
    "# get_dist(df,df_test,'주야')"
   ]
  },
  {
   "cell_type": "markdown",
   "metadata": {},
   "source": [
    "test data에서 각 변수별 분포를 살펴보니, "
   ]
  },
  {
   "cell_type": "markdown",
   "metadata": {},
   "source": [
    "# 2. 사고 위험도\n",
    "\n",
    "경기도지역 통계자료에 보면, 교통사고 위험도라는 지표가 존재.     \n",
    "             \n",
    "각 지역별로 다음을 계산.         \n",
    "(사망자수*12 + 부상자수*3)/교통사고건수            \n",
    "       \n",
    "사망자수에 가중치를 더 주고 교통사고 건수로 나눴기때문에, 각 지역별로 교통사고가 발생했을 때 인명피해가 어느정도 나는지를 비교할 수 있을 것이라고 생각.     \n",
    "         \n",
    "그런데 다른 지역에서는 이 지표에 관한 자료를 찾기 힘들어서, 구하는 식을 조금 변형해서 train data에 사용해보기로 함.    \n",
    "원래 지표의 분모에는 교통사고건수가 들어가는데, train data에서는 전체 교통사고 건수가 아닌 교통사망사고 건수를 구할 수 있으니, 분모를 교통사망사고건수로 넣고 계산해보기로 함.     \n",
    "            \n",
    "이때 단순 지역별 사고 위험도만 계산하지 말고 train data에서 주어진 여러 변수들의 조합과 관련된 사고 위험도들을 계산하여, 사고 위험도가 높은 여러 조건들을 만들고자 함.\n",
    "예를들어, 요일x주야 별로 사고위험도1을 측정, 당사자종별 조합별로 사고위험도2를 측정한 결과, 토요일 낮에 발생하는 사고들이 사고위험도1이 높고, 승합차-승합차 조합에서 사고위험도2가 높게 나타났다고 하자. 그러면 어떤 교통사고가 토요일 낮에 승합차 승합차끼리 발생했으면, 사고위험도 합이 매우 높으니 대형 교통사고일 확률이 조금 높지 않을까 생각.     "
   ]
  },
  {
   "cell_type": "markdown",
   "metadata": {},
   "source": [
    "그런데 사고 피해자들 수치를 이용해서 위험도라는 변수를 새로 만드니까, 이 변수를 이용해서 다시 피해자들 수치를 예측하면 답을 알고 수치를 예측하는 것과 같아서 train set안에서 overfitting 될 가능성이 높다고 생각한다. 이에 애초에 train set을 train_train, train_test set으로 나눈 후, train_train set 데이터만 이용해서 이 위험도를 측정한 후, 이를 train_test set에도 적용시켜서 위험도가 높은 사고일수록 실제 피해가 크게 나타나는지를 확인해보고자 함.  "
   ]
  },
  {
   "cell_type": "code",
   "execution_count": 27,
   "metadata": {},
   "outputs": [
    {
     "data": {
      "text/plain": [
       "Index(['주야', '요일', '사망자수', '사상자수', '중상자수', '경상자수', '부상신고자수', '발생지시도', '발생지시군구',\n",
       "       '사고유형_대분류', '사고유형_중분류', '법규위반', '도로형태_대분류', '도로형태', '당사자종별_1당_대분류',\n",
       "       '당사자종별_2당_대분류'],\n",
       "      dtype='object')"
      ]
     },
     "execution_count": 27,
     "metadata": {},
     "output_type": "execute_result"
    }
   ],
   "source": [
    "df_test.columns"
   ]
  },
  {
   "cell_type": "code",
   "execution_count": 28,
   "metadata": {},
   "outputs": [],
   "source": [
    "X = df[['주야', '요일','사망자수', '사상자수', '중상자수', '경상자수', '부상신고자수','총부상자수', '발생지시도', '발생지시군구', '사고유형_대분류', '사고유형_중분류', '법규위반', '도로형태_대분류', '도로형태', '당사자종별_1당_대분류',\n",
    "       '당사자종별_2당_대분류']]\n",
    "\n",
    "y = df[['사망자수', '사상자수', '중상자수', '경상자수', '부상신고자수']]"
   ]
  },
  {
   "cell_type": "code",
   "execution_count": 32,
   "metadata": {},
   "outputs": [],
   "source": [
    "train_train, train_test, y_train, y_test = train_test_split(X,y,test_size=0.4, random_state=42)"
   ]
  },
  {
   "cell_type": "code",
   "execution_count": 33,
   "metadata": {},
   "outputs": [
    {
     "data": {
      "text/plain": [
       "((15022, 17), (15022, 5), (10015, 17), (10015, 5))"
      ]
     },
     "execution_count": 33,
     "metadata": {},
     "output_type": "execute_result"
    }
   ],
   "source": [
    "train_train.shape, y_train.shape, train_test.shape, y_test.shape"
   ]
  },
  {
   "cell_type": "markdown",
   "metadata": {},
   "source": [
    "## - 발생시군구_위험도"
   ]
  },
  {
   "cell_type": "code",
   "execution_count": 37,
   "metadata": {},
   "outputs": [
    {
     "data": {
      "text/plain": [
       "발생지시도  발생지시군구\n",
       "경기     화성시       5\n",
       "인천     서구        5\n",
       "전남     여수시       5\n",
       "충남     천안시       4\n",
       "충북     충주시       4\n",
       "Name: 발생년, dtype: int64"
      ]
     },
     "execution_count": 37,
     "metadata": {},
     "output_type": "execute_result"
    }
   ],
   "source": [
    "df_big.groupby(['발생지시도','발생지시군구']).count().발생년.sort_values(ascending=False).head()"
   ]
  },
  {
   "cell_type": "markdown",
   "metadata": {},
   "source": [
    "대형교통사고는 애초에 잘 발생하지 않아서 아예 발생하지 않은 지역도 있는데, 반대로 특히 몇몇 지역에서는 4~5번씩 자주 발생했음.    \n",
    "교통사고가 발생하면 대형교통사고로 이어지기 쉬운 특정 지역이 있을 것이라고 생각.        \n",
    "이때 시도 단위는 너무 넓어서 그런 특정 일부 지역의 특성을 반영하지는 못한다고 생각해서 군구 단위로 위험도를 계산해보기로 함. "
   ]
  },
  {
   "cell_type": "code",
   "execution_count": 145,
   "metadata": {},
   "outputs": [
    {
     "name": "stderr",
     "output_type": "stream",
     "text": [
      "c:\\users\\user\\appdata\\local\\programs\\python\\python36\\lib\\site-packages\\pandas\\core\\indexing.py:543: SettingWithCopyWarning: \n",
      "A value is trying to be set on a copy of a slice from a DataFrame.\n",
      "Try using .loc[row_indexer,col_indexer] = value instead\n",
      "\n",
      "See the caveats in the documentation: http://pandas.pydata.org/pandas-docs/stable/indexing.html#indexing-view-versus-copy\n",
      "  self.obj[item] = s\n"
     ]
    },
    {
     "data": {
      "text/plain": [
       "count    15022.000000\n",
       "mean        14.273865\n",
       "std          1.070885\n",
       "min         12.000000\n",
       "25%         13.688702\n",
       "50%         14.178082\n",
       "75%         14.742188\n",
       "max         26.666667\n",
       "Name: 발생시군구_위험도, dtype: float64"
      ]
     },
     "execution_count": 145,
     "metadata": {},
     "output_type": "execute_result"
    }
   ],
   "source": [
    "# 지역별 전체 교통사고 횟수\n",
    "\n",
    "total= train_train.groupby(['발생지시도','발생지시군구']).count().주야.sort_index()\n",
    "#total\n",
    "\n",
    "# 지역별 사망자 수\n",
    "\n",
    "a = train_train.groupby(['발생지시도','발생지시군구']).sum().사망자수.sort_index()\n",
    "#a\n",
    "\n",
    "# 지역별 총 부상자수\n",
    "\n",
    "b = train_train.groupby(['발생지시도','발생지시군구']).sum().총부상자수.sort_index()\n",
    "#b\n",
    "\n",
    "temp = (a*12 + b*3)/total\n",
    "\n",
    "for i,j in temp.index:\n",
    "    train_train.loc[(train_train.발생지시도==i)&(train_train.발생지시군구==j),'발생시군구_위험도'] = temp[i,j]\n",
    "\n",
    "train_train.발생시군구_위험도.describe()"
   ]
  },
  {
   "cell_type": "code",
   "execution_count": 39,
   "metadata": {},
   "outputs": [
    {
     "name": "stderr",
     "output_type": "stream",
     "text": [
      "c:\\users\\user\\appdata\\local\\programs\\python\\python36\\lib\\site-packages\\matplotlib\\font_manager.py:1328: UserWarning: findfont: Font family ['\"C:/Windows/Fonts/NanumBarunGothic.ttf\"'] not found. Falling back to DejaVu Sans\n",
      "  (prop.get_family(), self.defaultFamily[fontext]))\n"
     ]
    },
    {
     "data": {
      "image/png": "[encoded data removed]",
      "text/plain": [
       "<Figure size 432x288 with 1 Axes>"
      ]
     },
     "metadata": {},
     "output_type": "display_data"
    }
   ],
   "source": [
    "train_train.발생시군구_위험도.hist();"
   ]
  },
  {
   "cell_type": "code",
   "execution_count": 40,
   "metadata": {
    "scrolled": true
   },
   "outputs": [
    {
     "data": {
      "text/plain": [
       "발생지시군구\n",
       "고성군     26.666667\n",
       "곡성군     20.806452\n",
       "평창군     20.341463\n",
       "단양군     19.200000\n",
       "임실군     17.333333\n",
       "중구      17.225806\n",
       "부평구     16.615385\n",
       "인제군     16.500000\n",
       "해운대구    16.260000\n",
       "보령시     16.237500\n",
       "장수군     16.050000\n",
       "Name: 발생시군구_위험도, dtype: float64"
      ]
     },
     "execution_count": 40,
     "metadata": {},
     "output_type": "execute_result"
    }
   ],
   "source": [
    "train_train[train_train.발생시군구_위험도>=16].groupby('발생지시군구').mean().발생시군구_위험도.sort_values(ascending=False)"
   ]
  },
  {
   "cell_type": "code",
   "execution_count": 146,
   "metadata": {},
   "outputs": [
    {
     "name": "stderr",
     "output_type": "stream",
     "text": [
      "c:\\users\\user\\appdata\\local\\programs\\python\\python36\\lib\\site-packages\\pandas\\core\\indexing.py:543: SettingWithCopyWarning: \n",
      "A value is trying to be set on a copy of a slice from a DataFrame.\n",
      "Try using .loc[row_indexer,col_indexer] = value instead\n",
      "\n",
      "See the caveats in the documentation: http://pandas.pydata.org/pandas-docs/stable/indexing.html#indexing-view-versus-copy\n",
      "  self.obj[item] = s\n"
     ]
    },
    {
     "data": {
      "text/plain": [
       "count    10015.000000\n",
       "mean        14.273218\n",
       "std          1.015729\n",
       "min         12.000000\n",
       "25%         13.692308\n",
       "50%         14.210526\n",
       "75%         14.742857\n",
       "max         26.666667\n",
       "Name: 발생시군구_위험도, dtype: float64"
      ]
     },
     "execution_count": 146,
     "metadata": {},
     "output_type": "execute_result"
    }
   ],
   "source": [
    "temp = train_train.groupby(['발생지시도','발생지시군구']).mean().발생시군구_위험도\n",
    "\n",
    "for i, j in temp.index:\n",
    "    train_test.loc[(train_test.발생지시도==i)&(train_test.발생지시군구==j),'발생시군구_위험도'] = temp[i,j]    \n",
    "\n",
    "train_test.발생시군구_위험도.describe()"
   ]
  },
  {
   "cell_type": "code",
   "execution_count": 45,
   "metadata": {},
   "outputs": [
    {
     "data": {
      "text/plain": [
       "발생지시군구\n",
       "평창군     20.341463\n",
       "임실군     17.333333\n",
       "해운대구    16.260000\n",
       "강릉시     15.720000\n",
       "정선군     15.681818\n",
       "Name: 발생시군구_위험도, dtype: float64"
      ]
     },
     "execution_count": 45,
     "metadata": {},
     "output_type": "execute_result"
    }
   ],
   "source": [
    "train_test.loc[X_test.사망자수>=3].groupby('발생지시군구').mean().발생시군구_위험도.sort_values(ascending=False).head()"
   ]
  },
  {
   "cell_type": "code",
   "execution_count": 147,
   "metadata": {},
   "outputs": [
    {
     "name": "stderr",
     "output_type": "stream",
     "text": [
      "c:\\users\\user\\appdata\\local\\programs\\python\\python36\\lib\\site-packages\\matplotlib\\font_manager.py:1328: UserWarning: findfont: Font family ['\"C:/Windows/Fonts/NanumBarunGothic.ttf\"'] not found. Falling back to DejaVu Sans\n",
      "  (prop.get_family(), self.defaultFamily[fontext]))\n"
     ]
    },
    {
     "data": {
      "image/png": "[encoded data removed]",
      "text/plain": [
       "<Figure size 432x288 with 1 Axes>"
      ]
     },
     "metadata": {},
     "output_type": "display_data"
    }
   ],
   "source": [
    "high=[]\n",
    "low=[]\n",
    "\n",
    "# 사상자수 1\n",
    "total = train_test[(train_test.사상자수==1)].shape[0]\n",
    "a = train_test[(train_test.사상자수==1)&(train_test.발생시군구_위험도<=16)].shape[0]\n",
    "b = train_test[(train_test.사상자수==1)&(train_test.발생시군구_위험도>16)].shape[0]\n",
    "\n",
    "low.append(a/total)\n",
    "high.append(b/total)\n",
    "\n",
    "# 사상자수 2\n",
    "total = train_test[(train_test.사상자수==2)].shape[0]\n",
    "a = train_test[(train_test.사상자수==2)&(train_test.발생시군구_위험도<=16)].shape[0]\n",
    "b = train_test[(train_test.사상자수==2)&(train_test.발생시군구_위험도>16)].shape[0]\n",
    "\n",
    "low.append(a/total)\n",
    "high.append(b/total)\n",
    "\n",
    "# 사상자수 3~4\n",
    "total = train_test[(train_test.사상자수>=3)&(train_test.사상자수<=4)].shape[0]\n",
    "a = train_test[(train_test.사상자수>=3)&(train_test.사상자수<=4)&(train_test.발생시군구_위험도<=16)].shape[0]\n",
    "b = train_test[(train_test.사상자수>=3)&(train_test.사상자수<=4)&(train_test.발생시군구_위험도>16)].shape[0]\n",
    "\n",
    "low.append(a/total)\n",
    "high.append(b/total)\n",
    "\n",
    "# 사상자수 5~8\n",
    "total = train_test[(train_test.사상자수>=5)&(train_test.사상자수<=8)].shape[0]\n",
    "a = train_test[(train_test.사상자수>=5)&(train_test.사상자수<=8)&(train_test.발생시군구_위험도<=16)].shape[0]\n",
    "b = train_test[(train_test.사상자수>=5)&(train_test.사상자수<=8)&(train_test.발생시군구_위험도>16)].shape[0]\n",
    "\n",
    "low.append(a/total)\n",
    "high.append(b/total)\n",
    "\n",
    "# 사상자수 9~20\n",
    "total = train_test[(train_test.사상자수>=9)&(train_test.사상자수<=20)].shape[0]\n",
    "a = train_test[(train_test.사상자수>=9)&(train_test.사상자수<=20)&(train_test.발생시군구_위험도<=16)].shape[0]\n",
    "b = train_test[(train_test.사상자수>=9)&(train_test.사상자수<=20)&(train_test.발생시군구_위험도>16)].shape[0]\n",
    "\n",
    "low.append(a/total)\n",
    "high.append(b/total)\n",
    "\n",
    "# 사상자수 20~\n",
    "total = train_test[(train_test.사상자수>=20)].shape[0]\n",
    "a = train_test[(train_test.사상자수>=20)&(train_test.발생시군구_위험도<=16)].shape[0]\n",
    "b = train_test[(train_test.사상자수>=20)&(train_test.발생시군구_위험도>16)].shape[0]\n",
    "\n",
    "low.append(a/total)\n",
    "high.append(b/total)\n",
    "\n",
    "N = 6 \n",
    "ind = np.arange(N)\n",
    "width = 0.35\n",
    "\n",
    "p1 = plt.bar(ind, low, width)\n",
    "p2 = plt.bar(ind, high, width, bottom=low)\n",
    "\n",
    "#plt.ylabel('주야 비율')\n",
    "plt.xticks(ind, ('1','2','3~4','5~8','9~20','20~'))\n",
    "#plt.legend((p1[0],p2[0]),('주간','야간'))\n",
    "plt.show()"
   ]
  },
  {
   "cell_type": "markdown",
   "metadata": {},
   "source": [
    "## - 발생지시도x요일x(주야) 위험도"
   ]
  },
  {
   "cell_type": "code",
   "execution_count": 77,
   "metadata": {},
   "outputs": [],
   "source": [
    "df['요일x주야'] = df['요일'] + '/' + df['주야']\n",
    "#df['요일x주야'] = df['요일x주야'].apply(lambda x : '/'.join(sorted(x.split('/'))))"
   ]
  },
  {
   "cell_type": "code",
   "execution_count": 78,
   "metadata": {},
   "outputs": [
    {
     "data": {
      "text/html": [
       "<div>\n",
       "<style scoped>\n",
       "    .dataframe tbody tr th:only-of-type {\n",
       "        vertical-align: middle;\n",
       "    }\n",
       "\n",
       "    .dataframe tbody tr th {\n",
       "        vertical-align: top;\n",
       "    }\n",
       "\n",
       "    .dataframe thead th {\n",
       "        text-align: right;\n",
       "    }\n",
       "</style>\n",
       "<table border=\"1\" class=\"dataframe\">\n",
       "  <thead>\n",
       "    <tr style=\"text-align: right;\">\n",
       "      <th></th>\n",
       "      <th>사상자수</th>\n",
       "    </tr>\n",
       "    <tr>\n",
       "      <th>요일x주야</th>\n",
       "      <th></th>\n",
       "    </tr>\n",
       "  </thead>\n",
       "  <tbody>\n",
       "    <tr>\n",
       "      <th>월/주간</th>\n",
       "      <td>1.612423</td>\n",
       "    </tr>\n",
       "    <tr>\n",
       "      <th>월/야간</th>\n",
       "      <td>1.487254</td>\n",
       "    </tr>\n",
       "    <tr>\n",
       "      <th>화/주간</th>\n",
       "      <td>1.681167</td>\n",
       "    </tr>\n",
       "    <tr>\n",
       "      <th>화/야간</th>\n",
       "      <td>1.481784</td>\n",
       "    </tr>\n",
       "    <tr>\n",
       "      <th>수/주간</th>\n",
       "      <td>1.659977</td>\n",
       "    </tr>\n",
       "    <tr>\n",
       "      <th>수/야간</th>\n",
       "      <td>1.567232</td>\n",
       "    </tr>\n",
       "    <tr>\n",
       "      <th>목/주간</th>\n",
       "      <td>1.682149</td>\n",
       "    </tr>\n",
       "    <tr>\n",
       "      <th>목/야간</th>\n",
       "      <td>1.466220</td>\n",
       "    </tr>\n",
       "    <tr>\n",
       "      <th>금/주간</th>\n",
       "      <td>1.780542</td>\n",
       "    </tr>\n",
       "    <tr>\n",
       "      <th>금/야간</th>\n",
       "      <td>1.516010</td>\n",
       "    </tr>\n",
       "    <tr>\n",
       "      <th>토/주간</th>\n",
       "      <td>1.749408</td>\n",
       "    </tr>\n",
       "    <tr>\n",
       "      <th>토/야간</th>\n",
       "      <td>1.579653</td>\n",
       "    </tr>\n",
       "    <tr>\n",
       "      <th>일/주간</th>\n",
       "      <td>1.958709</td>\n",
       "    </tr>\n",
       "    <tr>\n",
       "      <th>일/야간</th>\n",
       "      <td>1.583824</td>\n",
       "    </tr>\n",
       "  </tbody>\n",
       "</table>\n",
       "</div>"
      ],
      "text/plain": [
       "           사상자수\n",
       "요일x주야          \n",
       "월/주간   1.612423\n",
       "월/야간   1.487254\n",
       "화/주간   1.681167\n",
       "화/야간   1.481784\n",
       "수/주간   1.659977\n",
       "수/야간   1.567232\n",
       "목/주간   1.682149\n",
       "목/야간   1.466220\n",
       "금/주간   1.780542\n",
       "금/야간   1.516010\n",
       "토/주간   1.749408\n",
       "토/야간   1.579653\n",
       "일/주간   1.958709\n",
       "일/야간   1.583824"
      ]
     },
     "execution_count": 78,
     "metadata": {},
     "output_type": "execute_result"
    }
   ],
   "source": [
    "temp = pd.DataFrame(df.groupby('요일x주야').mean().사상자수)\n",
    "temp = temp.loc[['월/주간','월/야간','화/주간','화/야간','수/주간','수/야간','목/주간','목/야간','금/주간','금/야간','토/주간','토/야간','일/주간','일/야간']]\n",
    "temp"
   ]
  },
  {
   "cell_type": "code",
   "execution_count": 79,
   "metadata": {},
   "outputs": [
    {
     "data": {
      "text/plain": [
       "<matplotlib.axes._subplots.AxesSubplot at 0x23e95bed668>"
      ]
     },
     "execution_count": 79,
     "metadata": {},
     "output_type": "execute_result"
    },
    {
     "name": "stderr",
     "output_type": "stream",
     "text": [
      "c:\\users\\user\\appdata\\local\\programs\\python\\python36\\lib\\site-packages\\matplotlib\\font_manager.py:1328: UserWarning: findfont: Font family ['\"C:/Windows/Fonts/NanumBarunGothic.ttf\"'] not found. Falling back to DejaVu Sans\n",
      "  (prop.get_family(), self.defaultFamily[fontext]))\n"
     ]
    },
    {
     "data": {
      "image/png": "[encoded data removed]",
      "text/plain": [
       "<Figure size 432x288 with 1 Axes>"
      ]
     },
     "metadata": {},
     "output_type": "display_data"
    }
   ],
   "source": [
    "sns.barplot(x=temp.index, y=temp.사상자수)"
   ]
  },
  {
   "cell_type": "markdown",
   "metadata": {},
   "source": [
    "보통 주간에 야간에비해 평균사상자수가 높게 나타난다. 또한 미세하긴 하지만 평일보다는 금토일 주간에 수치가 높게 나타난다.      \n",
    "이는 주로 야간보다 주간에, 또 평일보다는 주말에 많이 활동하는 우리의 생활패턴이 반영된 결과라고 생각.     \n",
    "       \n",
    "요일과 주야와 더불어서 우리의 생활 패턴에 또 많은 영향을 주는 것은 어느 시도인지. 대도시인지 대도시 주변 지역인지에 따라서 요일,주야별로 사람들의 이동 패턴이 다르게 나타날 것임. 즉 차량의 흐름이 시도x요일x주야 별로 다르니, 평균 사상자수도 다른 패턴을 보일 것임.    \n",
    "      \n",
    "시도x요일x주야별로 평균 사상자수 살펴보기"
   ]
  },
  {
   "cell_type": "code",
   "execution_count": 80,
   "metadata": {},
   "outputs": [
    {
     "name": "stderr",
     "output_type": "stream",
     "text": [
      "c:\\users\\user\\appdata\\local\\programs\\python\\python36\\lib\\site-packages\\matplotlib\\font_manager.py:1328: UserWarning: findfont: Font family ['\"C:/Windows/Fonts/NanumBarunGothic.ttf\"'] not found. Falling back to DejaVu Sans\n",
      "  (prop.get_family(), self.defaultFamily[fontext]))\n"
     ]
    },
    {
     "data": {
      "image/png": "[encoded data removed]",
      "text/plain": [
       "<Figure size 1440x864 with 8 Axes>"
      ]
     },
     "metadata": {},
     "output_type": "display_data"
    }
   ],
   "source": [
    "a = ['서울','인천','부산','울산','대구','광주','대전','세종']\n",
    "\n",
    "\n",
    "fig = plt.figure(figsize=(20,12))\n",
    "\n",
    "for n,i in enumerate(a):\n",
    "    temp = pd.DataFrame(df[df.발생지시도==i].groupby('요일x주야').mean().사상자수)\n",
    "    temp = temp.loc[['월/주간','월/야간','화/주간','화/야간','수/주간','수/야간','목/주간','목/야간','금/주간','금/야간','토/주간','토/야간','일/주간','일/야간']]\n",
    "    \n",
    "    \n",
    "    \n",
    "    ax = fig.add_subplot(2,4,n+1)\n",
    "    sns.barplot(x=temp.index, y=temp.사상자수,ax=ax, color='b')\n",
    "    \n",
    "plt.tight_layout()\n"
   ]
  },
  {
   "cell_type": "code",
   "execution_count": 351,
   "metadata": {},
   "outputs": [
    {
     "name": "stderr",
     "output_type": "stream",
     "text": [
      "c:\\users\\user\\appdata\\local\\programs\\python\\python36\\lib\\site-packages\\matplotlib\\font_manager.py:1328: UserWarning: findfont: Font family ['\"C:/Windows/Fonts/NanumBarunGothic.ttf\"'] not found. Falling back to DejaVu Sans\n",
      "  (prop.get_family(), self.defaultFamily[fontext]))\n"
     ]
    },
    {
     "data": {
      "image/png": "[encoded data removed]",
      "text/plain": [
       "<Figure size 1440x864 with 9 Axes>"
      ]
     },
     "metadata": {},
     "output_type": "display_data"
    }
   ],
   "source": [
    "b=  ['경기','경북','경남','전북','전남','충북','충남','강원','제주']\n",
    "\n",
    "\n",
    "fig = plt.figure(figsize=(20,12))\n",
    "\n",
    "for n,i in enumerate(b):\n",
    "    temp = pd.DataFrame(df[df.발생지시도==i].groupby('요일x주야').mean().사상자수)\n",
    "    temp = temp.loc[['월/주간','월/야간','화/주간','화/야간','수/주간','수/야간','목/주간','목/야간','금/주간','금/야간','토/주간','토/야간','일/주간','일/야간']]\n",
    "    \n",
    "    \n",
    "    \n",
    "    ax = fig.add_subplot(3,3,n+1)\n",
    "    sns.barplot(x=temp.index, y=temp.사상자수,ax=ax, color='b')\n",
    "    \n",
    "plt.tight_layout()\n"
   ]
  },
  {
   "cell_type": "markdown",
   "metadata": {},
   "source": [
    "차량들의 이동 패턴이 시도x요일x주야별로 다르게 나타나니, 사고 위험도도 시도x요일x주야를 기준으로 계산하기."
   ]
  },
  {
   "cell_type": "code",
   "execution_count": 82,
   "metadata": {},
   "outputs": [
    {
     "data": {
      "text/plain": [
       "Index(['주야', '요일', '사망자수', '사상자수', '중상자수', '경상자수', '부상신고자수', '총부상자수', '발생지시도',\n",
       "       '발생지시군구', '사고유형_대분류', '사고유형_중분류', '법규위반', '도로형태_대분류', '도로형태',\n",
       "       '당사자종별_1당_대분류', '당사자종별_2당_대분류', '발생시군구_위험도'],\n",
       "      dtype='object')"
      ]
     },
     "execution_count": 82,
     "metadata": {},
     "output_type": "execute_result"
    }
   ],
   "source": [
    "train_train.columns"
   ]
  },
  {
   "cell_type": "code",
   "execution_count": 83,
   "metadata": {},
   "outputs": [
    {
     "name": "stderr",
     "output_type": "stream",
     "text": [
      "c:\\users\\user\\appdata\\local\\programs\\python\\python36\\lib\\site-packages\\pandas\\core\\indexing.py:362: SettingWithCopyWarning: \n",
      "A value is trying to be set on a copy of a slice from a DataFrame.\n",
      "Try using .loc[row_indexer,col_indexer] = value instead\n",
      "\n",
      "See the caveats in the documentation: http://pandas.pydata.org/pandas-docs/stable/indexing.html#indexing-view-versus-copy\n",
      "  self.obj[key] = _infer_fill_value(value)\n",
      "c:\\users\\user\\appdata\\local\\programs\\python\\python36\\lib\\site-packages\\pandas\\core\\indexing.py:543: SettingWithCopyWarning: \n",
      "A value is trying to be set on a copy of a slice from a DataFrame.\n",
      "Try using .loc[row_indexer,col_indexer] = value instead\n",
      "\n",
      "See the caveats in the documentation: http://pandas.pydata.org/pandas-docs/stable/indexing.html#indexing-view-versus-copy\n",
      "  self.obj[item] = s\n"
     ]
    },
    {
     "data": {
      "text/plain": [
       "count    15022.000000\n",
       "mean        14.273865\n",
       "std          1.048010\n",
       "min         12.000000\n",
       "25%         13.626168\n",
       "50%         14.096234\n",
       "75%         14.680000\n",
       "max         21.420000\n",
       "Name: 발생지시도x요일x주야_위험도, dtype: float64"
      ]
     },
     "execution_count": 83,
     "metadata": {},
     "output_type": "execute_result"
    }
   ],
   "source": [
    "total = train_train.groupby(['발생지시도','요일','주야']).count().도로형태.sort_index()\n",
    "#total\n",
    "\n",
    "a = train_train.groupby(['발생지시도','요일','주야']).sum().사망자수.sort_index()\n",
    "#a\n",
    "\n",
    "b=train_train.groupby(['발생지시도','요일','주야']).sum().총부상자수.sort_index()\n",
    "#b\n",
    "\n",
    "temp = (a*12+b*3)/total\n",
    "\n",
    "#temp\n",
    "\n",
    "for i,j,k in temp.index:\n",
    "    train_train.loc[(train_train.발생지시도==i)&(train_train.요일==j)&(train_train.주야==k),'발생지시도x요일x주야_위험도'] = temp[i,j,k]\n",
    "\n",
    "train_train.발생지시도x요일x주야_위험도.describe()"
   ]
  },
  {
   "cell_type": "code",
   "execution_count": 84,
   "metadata": {},
   "outputs": [
    {
     "data": {
      "text/plain": [
       "<matplotlib.axes._subplots.AxesSubplot at 0x23e9a1503c8>"
      ]
     },
     "execution_count": 84,
     "metadata": {},
     "output_type": "execute_result"
    },
    {
     "name": "stderr",
     "output_type": "stream",
     "text": [
      "c:\\users\\user\\appdata\\local\\programs\\python\\python36\\lib\\site-packages\\matplotlib\\font_manager.py:1328: UserWarning: findfont: Font family ['\"C:/Windows/Fonts/NanumBarunGothic.ttf\"'] not found. Falling back to DejaVu Sans\n",
      "  (prop.get_family(), self.defaultFamily[fontext]))\n"
     ]
    },
    {
     "data": {
      "image/png": "[encoded data removed]",
      "text/plain": [
       "<Figure size 432x288 with 1 Axes>"
      ]
     },
     "metadata": {},
     "output_type": "display_data"
    }
   ],
   "source": [
    "train_train.발생지시도x요일x주야_위험도.hist()"
   ]
  },
  {
   "cell_type": "code",
   "execution_count": 87,
   "metadata": {},
   "outputs": [
    {
     "data": {
      "text/plain": [
       "발생지시도  요일  주야\n",
       "강원     금   주간    21.420000\n",
       "제주     화   주간    19.650000\n",
       "광주     목   주간    19.411765\n",
       "제주     목   주간    18.545455\n",
       "울산     일   주간    18.400000\n",
       "Name: 발생지시도x요일x주야_위험도, dtype: float64"
      ]
     },
     "execution_count": 87,
     "metadata": {},
     "output_type": "execute_result"
    }
   ],
   "source": [
    "train_train[train_train.발생지시도x요일x주야_위험도>=16].groupby(['발생지시도','요일','주야']).mean().발생지시도x요일x주야_위험도.sort_values(ascending=False).head()"
   ]
  },
  {
   "cell_type": "code",
   "execution_count": 89,
   "metadata": {},
   "outputs": [
    {
     "name": "stderr",
     "output_type": "stream",
     "text": [
      "c:\\users\\user\\appdata\\local\\programs\\python\\python36\\lib\\site-packages\\pandas\\core\\indexing.py:543: SettingWithCopyWarning: \n",
      "A value is trying to be set on a copy of a slice from a DataFrame.\n",
      "Try using .loc[row_indexer,col_indexer] = value instead\n",
      "\n",
      "See the caveats in the documentation: http://pandas.pydata.org/pandas-docs/stable/indexing.html#indexing-view-versus-copy\n",
      "  self.obj[item] = s\n"
     ]
    },
    {
     "data": {
      "text/plain": [
       "count    10015.000000\n",
       "mean        14.271924\n",
       "std          1.062931\n",
       "min         12.000000\n",
       "25%         13.645161\n",
       "50%         14.096234\n",
       "75%         14.650000\n",
       "max         21.420000\n",
       "Name: 발생지시도x요일x주야_위험도, dtype: float64"
      ]
     },
     "execution_count": 89,
     "metadata": {},
     "output_type": "execute_result"
    }
   ],
   "source": [
    "temp = train_train.groupby(['발생지시도','요일','주야']).mean().발생지시도x요일x주야_위험도\n",
    "for i, j, k in temp.index:\n",
    "    train_test.loc[(train_test.발생지시도==i)&(train_test.요일==j)&(train_test.주야==k),'발생지시도x요일x주야_위험도'] = temp[i,j,k]    \n",
    "\n",
    "train_test.발생지시도x요일x주야_위험도.describe()"
   ]
  },
  {
   "cell_type": "code",
   "execution_count": 91,
   "metadata": {
    "scrolled": true
   },
   "outputs": [
    {
     "data": {
      "text/plain": [
       "발생지시도  요일  주야\n",
       "광주     목   주간    19.411765\n",
       "강원     일   주간    18.000000\n",
       "충북     화   주간    16.500000\n",
       "강원     월   야간    15.937500\n",
       "전북     화   주간    15.821053\n",
       "Name: 발생지시도x요일x주야_위험도, dtype: float64"
      ]
     },
     "execution_count": 91,
     "metadata": {},
     "output_type": "execute_result"
    }
   ],
   "source": [
    "train_test.loc[X_test.사망자수>=3].groupby(['발생지시도','요일','주야']).mean().발생지시도x요일x주야_위험도.sort_values(ascending=False).head()"
   ]
  },
  {
   "cell_type": "code",
   "execution_count": 148,
   "metadata": {},
   "outputs": [
    {
     "name": "stderr",
     "output_type": "stream",
     "text": [
      "c:\\users\\user\\appdata\\local\\programs\\python\\python36\\lib\\site-packages\\matplotlib\\font_manager.py:1328: UserWarning: findfont: Font family ['\"C:/Windows/Fonts/NanumBarunGothic.ttf\"'] not found. Falling back to DejaVu Sans\n",
      "  (prop.get_family(), self.defaultFamily[fontext]))\n"
     ]
    },
    {
     "data": {
      "image/png": "[encoded data removed]",
      "text/plain": [
       "<Figure size 432x288 with 1 Axes>"
      ]
     },
     "metadata": {},
     "output_type": "display_data"
    }
   ],
   "source": [
    "high=[]\n",
    "low=[]\n",
    "\n",
    "# 사상자수 1\n",
    "total = train_test[(train_test.사상자수==1)].shape[0]\n",
    "a = train_test[(train_test.사상자수==1)&(train_test.발생지시도x요일x주야_위험도<=16)].shape[0]\n",
    "b = train_test[(train_test.사상자수==1)&(train_test.발생지시도x요일x주야_위험도>16)].shape[0]\n",
    "\n",
    "low.append(a/total)\n",
    "high.append(b/total)\n",
    "\n",
    "# 사상자수 2\n",
    "total = train_test[(train_test.사상자수==2)].shape[0]\n",
    "a = train_test[(train_test.사상자수==2)&(train_test.발생지시도x요일x주야_위험도<=16)].shape[0]\n",
    "b = train_test[(train_test.사상자수==2)&(train_test.발생지시도x요일x주야_위험도>16)].shape[0]\n",
    "\n",
    "low.append(a/total)\n",
    "high.append(b/total)\n",
    "\n",
    "# 사상자수 3~4\n",
    "total = train_test[(train_test.사상자수>=3)&(train_test.사상자수<=4)].shape[0]\n",
    "a = train_test[(train_test.사상자수>=3)&(train_test.사상자수<=4)&(train_test.발생지시도x요일x주야_위험도<=16)].shape[0]\n",
    "b = train_test[(train_test.사상자수>=3)&(train_test.사상자수<=4)&(train_test.발생지시도x요일x주야_위험도>16)].shape[0]\n",
    "\n",
    "low.append(a/total)\n",
    "high.append(b/total)\n",
    "\n",
    "# 사상자수 5~8\n",
    "total = train_test[(train_test.사상자수>=5)&(train_test.사상자수<=8)].shape[0]\n",
    "a = train_test[(train_test.사상자수>=5)&(train_test.사상자수<=8)&(train_test.발생지시도x요일x주야_위험도<=16)].shape[0]\n",
    "b = train_test[(train_test.사상자수>=5)&(train_test.사상자수<=8)&(train_test.발생지시도x요일x주야_위험도>16)].shape[0]\n",
    "\n",
    "low.append(a/total)\n",
    "high.append(b/total)\n",
    "\n",
    "# 사상자수 9~20\n",
    "total = train_test[(train_test.사상자수>=9)&(train_test.사상자수<=20)].shape[0]\n",
    "a = train_test[(train_test.사상자수>=9)&(train_test.사상자수<=20)&(train_test.발생지시도x요일x주야_위험도<=16)].shape[0]\n",
    "b = train_test[(train_test.사상자수>=9)&(train_test.사상자수<=20)&(train_test.발생지시도x요일x주야_위험도>16)].shape[0]\n",
    "\n",
    "low.append(a/total)\n",
    "high.append(b/total)\n",
    "\n",
    "# 사상자수 20~\n",
    "total = train_test[(train_test.사상자수>=20)].shape[0]\n",
    "a = train_test[(train_test.사상자수>=20)&(train_test.발생지시도x요일x주야_위험도<=16)].shape[0]\n",
    "b = train_test[(train_test.사상자수>=20)&(train_test.발생지시도x요일x주야_위험도>16)].shape[0]\n",
    "\n",
    "low.append(a/total)\n",
    "high.append(b/total)\n",
    "\n",
    "N = 6 \n",
    "ind = np.arange(N)\n",
    "width = 0.35\n",
    "\n",
    "p1 = plt.bar(ind, low, width)\n",
    "p2 = plt.bar(ind, high, width, bottom=low)\n",
    "\n",
    "#plt.ylabel('주야 비율')\n",
    "plt.xticks(ind, ('1','2','3~4','5~8','9~20','20~'))\n",
    "#plt.legend((p1[0],p2[0]),('주간','야간'))\n",
    "plt.show()"
   ]
  },
  {
   "cell_type": "markdown",
   "metadata": {},
   "source": [
    "## - 차량x사고유형중분류_위험도"
   ]
  },
  {
   "cell_type": "markdown",
   "metadata": {},
   "source": [
    "우선 특히 사고가 나면 피해자가 많이 생기는 차종 조합이 있을 것 같다."
   ]
  },
  {
   "cell_type": "code",
   "execution_count": 95,
   "metadata": {},
   "outputs": [],
   "source": [
    "df['차량조합'] = df['당사자종별_1당_대분류'] + '/' + df['당사자종별_2당_대분류']"
   ]
  },
  {
   "cell_type": "code",
   "execution_count": 96,
   "metadata": {},
   "outputs": [
    {
     "name": "stderr",
     "output_type": "stream",
     "text": [
      "c:\\users\\user\\appdata\\local\\programs\\python\\python36\\lib\\site-packages\\matplotlib\\font_manager.py:1328: UserWarning: findfont: Font family ['\"C:/Windows/Fonts/NanumBarunGothic.ttf\"'] not found. Falling back to DejaVu Sans\n",
      "  (prop.get_family(), self.defaultFamily[fontext]))\n"
     ]
    },
    {
     "data": {
      "image/png": "[encoded data removed]",
      "text/plain": [
       "<Figure size 1440x864 with 1 Axes>"
      ]
     },
     "metadata": {},
     "output_type": "display_data"
    }
   ],
   "source": [
    "temp = pd.DataFrame(df.groupby('차량조합').mean().사상자수.sort_values(ascending=False))\n",
    "\n",
    "plt.figure(figsize=(20,12))\n",
    "sns.barplot(x=temp.index, y=temp.사상자수);"
   ]
  },
  {
   "cell_type": "markdown",
   "metadata": {},
   "source": [
    "차종 조합별로 평균 사상자수가 비슷비슷한 경우도 있지만, 일부 차종에서는 유난히 수치가 높게 나타남.       \n",
    "즉, 사고가 나면 위험한 특정 몇몇 차종 조합이 있다고 생각."
   ]
  },
  {
   "cell_type": "markdown",
   "metadata": {},
   "source": [
    "이때 혹시 차종조합에 따라서 덜 위험한 사고유형이나 더 위험한 사고 유형이 있는지 몇몇 차량조합 확인해보기."
   ]
  },
  {
   "cell_type": "code",
   "execution_count": 97,
   "metadata": {},
   "outputs": [
    {
     "data": {
      "text/html": [
       "<div>\n",
       "<style scoped>\n",
       "    .dataframe tbody tr th:only-of-type {\n",
       "        vertical-align: middle;\n",
       "    }\n",
       "\n",
       "    .dataframe tbody tr th {\n",
       "        vertical-align: top;\n",
       "    }\n",
       "\n",
       "    .dataframe thead th {\n",
       "        text-align: right;\n",
       "    }\n",
       "</style>\n",
       "<table border=\"1\" class=\"dataframe\">\n",
       "  <thead>\n",
       "    <tr style=\"text-align: right;\">\n",
       "      <th></th>\n",
       "      <th>사상자수</th>\n",
       "    </tr>\n",
       "    <tr>\n",
       "      <th>차량조합</th>\n",
       "      <th></th>\n",
       "    </tr>\n",
       "  </thead>\n",
       "  <tbody>\n",
       "    <tr>\n",
       "      <th>승합차/승합차</th>\n",
       "      <td>16.333333</td>\n",
       "    </tr>\n",
       "    <tr>\n",
       "      <th>건설기계/승합차</th>\n",
       "      <td>9.375000</td>\n",
       "    </tr>\n",
       "    <tr>\n",
       "      <th>승합차/건설기계</th>\n",
       "      <td>7.642857</td>\n",
       "    </tr>\n",
       "    <tr>\n",
       "      <th>승합차/화물차</th>\n",
       "      <td>6.144444</td>\n",
       "    </tr>\n",
       "    <tr>\n",
       "      <th>승합차/승용차</th>\n",
       "      <td>5.301370</td>\n",
       "    </tr>\n",
       "  </tbody>\n",
       "</table>\n",
       "</div>"
      ],
      "text/plain": [
       "               사상자수\n",
       "차량조합               \n",
       "승합차/승합차   16.333333\n",
       "건설기계/승합차   9.375000\n",
       "승합차/건설기계   7.642857\n",
       "승합차/화물차    6.144444\n",
       "승합차/승용차    5.301370"
      ]
     },
     "execution_count": 97,
     "metadata": {},
     "output_type": "execute_result"
    }
   ],
   "source": [
    "temp.head()"
   ]
  },
  {
   "cell_type": "code",
   "execution_count": 98,
   "metadata": {},
   "outputs": [
    {
     "name": "stdout",
     "output_type": "stream",
     "text": [
      "사고유형_중분류\n",
      "측면직각충돌    12.300000\n",
      "추돌        21.950000\n",
      "정면충돌       6.833333\n",
      "기타        13.833333\n",
      "Name: 사상자수, dtype: float64\n",
      "----------------------\n",
      "사고유형_중분류\n",
      "측면직각충돌    10\n",
      "추돌        20\n",
      "정면충돌       6\n",
      "기타         6\n",
      "Name: 사상자수, dtype: int64\n"
     ]
    }
   ],
   "source": [
    "print(df[df.차량조합=='승합차/승합차'].groupby('사고유형_중분류').mean().사상자수.sort_index(ascending=False))\n",
    "print('----------------------')\n",
    "print(df[df.차량조합=='승합차/승합차'].groupby('사고유형_중분류').count().사상자수.sort_index(ascending=False))"
   ]
  },
  {
   "cell_type": "code",
   "execution_count": 99,
   "metadata": {},
   "outputs": [
    {
     "name": "stdout",
     "output_type": "stream",
     "text": [
      "사고유형_중분류\n",
      "측면충돌       1.000000\n",
      "측면직각충돌    10.333333\n",
      "추돌        12.000000\n",
      "Name: 사상자수, dtype: float64\n",
      "----------------------\n",
      "사고유형_중분류\n",
      "측면충돌      1\n",
      "측면직각충돌    6\n",
      "추돌        1\n",
      "Name: 사상자수, dtype: int64\n"
     ]
    }
   ],
   "source": [
    "print(df[df.차량조합=='건설기계/승합차'].groupby('사고유형_중분류').mean().사상자수.sort_index(ascending=False))\n",
    "print('----------------------')\n",
    "print(df[df.차량조합=='건설기계/승합차'].groupby('사고유형_중분류').count().사상자수.sort_index(ascending=False))"
   ]
  },
  {
   "cell_type": "code",
   "execution_count": 100,
   "metadata": {},
   "outputs": [
    {
     "name": "stdout",
     "output_type": "stream",
     "text": [
      "사고유형_중분류\n",
      "측면직각충돌     9.5\n",
      "추돌         2.6\n",
      "정면충돌      14.4\n",
      "기타         1.5\n",
      "Name: 사상자수, dtype: float64\n",
      "----------------------\n",
      "사고유형_중분류\n",
      "측면직각충돌    2\n",
      "추돌        5\n",
      "정면충돌      5\n",
      "기타        2\n",
      "Name: 사상자수, dtype: int64\n"
     ]
    }
   ],
   "source": [
    "print(df[df.차량조합=='승합차/건설기계'].groupby('사고유형_중분류').mean().사상자수.sort_index(ascending=False))\n",
    "print('----------------------')\n",
    "print(df[df.차량조합=='승합차/건설기계'].groupby('사고유형_중분류').count().사상자수.sort_index(ascending=False))"
   ]
  },
  {
   "cell_type": "markdown",
   "metadata": {},
   "source": [
    "차량 조합별로 더 위험한 사고유형 중분류가 있을 수도 있겠지만, 너무 잘게 쪼개다보니 각 경우별로 데이터 수가 너무 적어지는 문제가 있어서, 그냥 차종조합별로 위험도를 계산해야 할 듯."
   ]
  },
  {
   "cell_type": "code",
   "execution_count": 101,
   "metadata": {
    "scrolled": true
   },
   "outputs": [
    {
     "name": "stderr",
     "output_type": "stream",
     "text": [
      "c:\\users\\user\\appdata\\local\\programs\\python\\python36\\lib\\site-packages\\pandas\\core\\indexing.py:362: SettingWithCopyWarning: \n",
      "A value is trying to be set on a copy of a slice from a DataFrame.\n",
      "Try using .loc[row_indexer,col_indexer] = value instead\n",
      "\n",
      "See the caveats in the documentation: http://pandas.pydata.org/pandas-docs/stable/indexing.html#indexing-view-versus-copy\n",
      "  self.obj[key] = _infer_fill_value(value)\n",
      "c:\\users\\user\\appdata\\local\\programs\\python\\python36\\lib\\site-packages\\pandas\\core\\indexing.py:543: SettingWithCopyWarning: \n",
      "A value is trying to be set on a copy of a slice from a DataFrame.\n",
      "Try using .loc[row_indexer,col_indexer] = value instead\n",
      "\n",
      "See the caveats in the documentation: http://pandas.pydata.org/pandas-docs/stable/indexing.html#indexing-view-versus-copy\n",
      "  self.obj[item] = s\n"
     ]
    },
    {
     "data": {
      "text/plain": [
       "count    15022.000000\n",
       "mean        14.273865\n",
       "std          3.866146\n",
       "min         12.000000\n",
       "25%         12.451557\n",
       "50%         12.548387\n",
       "75%         14.298335\n",
       "max         69.782609\n",
       "Name: 차량조합_위험도, dtype: float64"
      ]
     },
     "execution_count": 101,
     "metadata": {},
     "output_type": "execute_result"
    }
   ],
   "source": [
    "total = train_train.groupby(['당사자종별_1당_대분류','당사자종별_2당_대분류']).count().사고유형_중분류\n",
    "#total\n",
    "\n",
    "a = train_train.groupby(['당사자종별_1당_대분류','당사자종별_2당_대분류']).sum().사망자수.sort_index()\n",
    "#a\n",
    "\n",
    "b = train_train.groupby(['당사자종별_1당_대분류','당사자종별_2당_대분류']).sum().총부상자수.sort_index()\n",
    "#b\n",
    "\n",
    "temp = (a*12+b*3)/total\n",
    "\n",
    "temp\n",
    "\n",
    "for i,j in temp.index:\n",
    "    train_train.loc[(train_train.당사자종별_1당_대분류==i)&(train_train.당사자종별_2당_대분류==j),'차량조합_위험도'] = temp[i,j]\n",
    "\n",
    "train_train.차량조합_위험도.describe()"
   ]
  },
  {
   "cell_type": "code",
   "execution_count": 102,
   "metadata": {
    "scrolled": true
   },
   "outputs": [
    {
     "data": {
      "text/plain": [
       "<matplotlib.axes._subplots.AxesSubplot at 0x23e9a366438>"
      ]
     },
     "execution_count": 102,
     "metadata": {},
     "output_type": "execute_result"
    },
    {
     "name": "stderr",
     "output_type": "stream",
     "text": [
      "c:\\users\\user\\appdata\\local\\programs\\python\\python36\\lib\\site-packages\\matplotlib\\font_manager.py:1328: UserWarning: findfont: Font family ['\"C:/Windows/Fonts/NanumBarunGothic.ttf\"'] not found. Falling back to DejaVu Sans\n",
      "  (prop.get_family(), self.defaultFamily[fontext]))\n"
     ]
    },
    {
     "data": {
      "image/png": "[encoded data removed]",
      "text/plain": [
       "<Figure size 432x288 with 1 Axes>"
      ]
     },
     "metadata": {},
     "output_type": "display_data"
    }
   ],
   "source": [
    "train_train.차량조합_위험도.hist()"
   ]
  },
  {
   "cell_type": "code",
   "execution_count": 103,
   "metadata": {
    "scrolled": false
   },
   "outputs": [
    {
     "data": {
      "text/plain": [
       "당사자종별_1당_대분류  당사자종별_2당_대분류\n",
       "승합차           승합차             69.782609\n",
       "건설기계          승합차             64.000000\n",
       "승합차           건설기계            46.800000\n",
       "              화물차             31.187500\n",
       "              승용차             27.230769\n",
       "승용차           열차              27.000000\n",
       "화물차           승합차             25.836735\n",
       "승용차           승합차             24.327869\n",
       "특수차           특수차             24.000000\n",
       "건설기계          승용차             24.000000\n",
       "특수차           승용차             22.666667\n",
       "승합차           없음              22.077670\n",
       "원동기장치자전거      이륜차             21.000000\n",
       "건설기계          특수차             21.000000\n",
       "Name: 차량조합_위험도, dtype: float64"
      ]
     },
     "execution_count": 103,
     "metadata": {},
     "output_type": "execute_result"
    }
   ],
   "source": [
    "train_train[train_train.차량조합_위험도>=20].groupby(['당사자종별_1당_대분류','당사자종별_2당_대분류']).mean().차량조합_위험도.sort_values(ascending=False)"
   ]
  },
  {
   "cell_type": "code",
   "execution_count": 104,
   "metadata": {
    "scrolled": true
   },
   "outputs": [
    {
     "name": "stderr",
     "output_type": "stream",
     "text": [
      "c:\\users\\user\\appdata\\local\\programs\\python\\python36\\lib\\site-packages\\pandas\\core\\indexing.py:362: SettingWithCopyWarning: \n",
      "A value is trying to be set on a copy of a slice from a DataFrame.\n",
      "Try using .loc[row_indexer,col_indexer] = value instead\n",
      "\n",
      "See the caveats in the documentation: http://pandas.pydata.org/pandas-docs/stable/indexing.html#indexing-view-versus-copy\n",
      "  self.obj[key] = _infer_fill_value(value)\n",
      "c:\\users\\user\\appdata\\local\\programs\\python\\python36\\lib\\site-packages\\pandas\\core\\indexing.py:543: SettingWithCopyWarning: \n",
      "A value is trying to be set on a copy of a slice from a DataFrame.\n",
      "Try using .loc[row_indexer,col_indexer] = value instead\n",
      "\n",
      "See the caveats in the documentation: http://pandas.pydata.org/pandas-docs/stable/indexing.html#indexing-view-versus-copy\n",
      "  self.obj[item] = s\n"
     ]
    },
    {
     "data": {
      "text/plain": [
       "count    10006.000000\n",
       "mean        14.268425\n",
       "std          4.141830\n",
       "min         12.000000\n",
       "25%         12.451557\n",
       "50%         12.548387\n",
       "75%         14.298335\n",
       "max         69.782609\n",
       "Name: 차량조합_위험도, dtype: float64"
      ]
     },
     "execution_count": 104,
     "metadata": {},
     "output_type": "execute_result"
    }
   ],
   "source": [
    "temp = train_train.groupby(['당사자종별_1당_대분류','당사자종별_2당_대분류']).mean().차량조합_위험도\n",
    "for i, j in temp.index:\n",
    "    train_test.loc[(train_test.당사자종별_1당_대분류==i)&(train_test.당사자종별_2당_대분류==j),'차량조합_위험도'] = temp[i,j]    \n",
    "train_test.차량조합_위험도.describe()"
   ]
  },
  {
   "cell_type": "code",
   "execution_count": 105,
   "metadata": {
    "scrolled": true
   },
   "outputs": [
    {
     "data": {
      "text/plain": [
       "당사자종별_1당_대분류  당사자종별_2당_대분류\n",
       "승합차           승합차             69.782609\n",
       "건설기계          승합차             64.000000\n",
       "승합차           건설기계            46.800000\n",
       "              화물차             31.187500\n",
       "              승용차             27.230769\n",
       "Name: 차량조합_위험도, dtype: float64"
      ]
     },
     "execution_count": 105,
     "metadata": {},
     "output_type": "execute_result"
    }
   ],
   "source": [
    "train_test.loc[train_test.사상자수>=10].groupby(['당사자종별_1당_대분류','당사자종별_2당_대분류']).mean().차량조합_위험도.sort_values(ascending=False).head()"
   ]
  },
  {
   "cell_type": "code",
   "execution_count": 149,
   "metadata": {},
   "outputs": [
    {
     "name": "stderr",
     "output_type": "stream",
     "text": [
      "c:\\users\\user\\appdata\\local\\programs\\python\\python36\\lib\\site-packages\\matplotlib\\font_manager.py:1328: UserWarning: findfont: Font family ['\"C:/Windows/Fonts/NanumBarunGothic.ttf\"'] not found. Falling back to DejaVu Sans\n",
      "  (prop.get_family(), self.defaultFamily[fontext]))\n"
     ]
    },
    {
     "data": {
      "image/png": "[encoded data removed]",
      "text/plain": [
       "<Figure size 432x288 with 1 Axes>"
      ]
     },
     "metadata": {},
     "output_type": "display_data"
    }
   ],
   "source": [
    "high=[]\n",
    "low=[]\n",
    "\n",
    "# 사상자수 1\n",
    "total = train_test[(train_test.사상자수==1)].shape[0]\n",
    "a = train_test[(train_test.사상자수==1)&(train_test.차량조합_위험도<=16)].shape[0]\n",
    "b = train_test[(train_test.사상자수==1)&(train_test.차량조합_위험도>16)].shape[0]\n",
    "\n",
    "low.append(a/total)\n",
    "high.append(b/total)\n",
    "\n",
    "# 사상자수 2\n",
    "total = train_test[(train_test.사상자수==2)].shape[0]\n",
    "a = train_test[(train_test.사상자수==2)&(train_test.차량조합_위험도<=16)].shape[0]\n",
    "b = train_test[(train_test.사상자수==2)&(train_test.차량조합_위험도>16)].shape[0]\n",
    "\n",
    "low.append(a/total)\n",
    "high.append(b/total)\n",
    "\n",
    "# 사상자수 3~4\n",
    "total = train_test[(train_test.사상자수>=3)&(train_test.사상자수<=4)].shape[0]\n",
    "a = train_test[(train_test.사상자수>=3)&(train_test.사상자수<=4)&(train_test.차량조합_위험도<=16)].shape[0]\n",
    "b = train_test[(train_test.사상자수>=3)&(train_test.사상자수<=4)&(train_test.차량조합_위험도>16)].shape[0]\n",
    "\n",
    "low.append(a/total)\n",
    "high.append(b/total)\n",
    "\n",
    "# 사상자수 5~8\n",
    "total = train_test[(train_test.사상자수>=5)&(train_test.사상자수<=8)].shape[0]\n",
    "a = train_test[(train_test.사상자수>=5)&(train_test.사상자수<=8)&(train_test.차량조합_위험도<=16)].shape[0]\n",
    "b = train_test[(train_test.사상자수>=5)&(train_test.사상자수<=8)&(train_test.차량조합_위험도>16)].shape[0]\n",
    "\n",
    "low.append(a/total)\n",
    "high.append(b/total)\n",
    "\n",
    "# 사상자수 9~20\n",
    "total = train_test[(train_test.사상자수>=9)&(train_test.사상자수<=20)].shape[0]\n",
    "a = train_test[(train_test.사상자수>=9)&(train_test.사상자수<=20)&(train_test.차량조합_위험도<=16)].shape[0]\n",
    "b = train_test[(train_test.사상자수>=9)&(train_test.사상자수<=20)&(train_test.차량조합_위험도>16)].shape[0]\n",
    "\n",
    "low.append(a/total)\n",
    "high.append(b/total)\n",
    "\n",
    "# 사상자수 20~\n",
    "total = train_test[(train_test.사상자수>=20)].shape[0]\n",
    "a = train_test[(train_test.사상자수>=20)&(train_test.차량조합_위험도<=16)].shape[0]\n",
    "b = train_test[(train_test.사상자수>=20)&(train_test.차량조합_위험도>16)].shape[0]\n",
    "\n",
    "low.append(a/total)\n",
    "high.append(b/total)\n",
    "\n",
    "N = 6 \n",
    "ind = np.arange(N)\n",
    "width = 0.35\n",
    "\n",
    "p1 = plt.bar(ind, low, width)\n",
    "p2 = plt.bar(ind, high, width, bottom=low)\n",
    "\n",
    "#plt.ylabel('주야 비율')\n",
    "plt.xticks(ind, ('1','2','3~4','5~8','9~20','20~'))\n",
    "#plt.legend((p1[0],p2[0]),('주간','야간'))\n",
    "plt.show()"
   ]
  },
  {
   "cell_type": "markdown",
   "metadata": {},
   "source": [
    "## - 사고유형중분류_위험도"
   ]
  },
  {
   "cell_type": "code",
   "execution_count": 108,
   "metadata": {},
   "outputs": [
    {
     "data": {
      "text/plain": [
       "측면직각충돌    3037\n",
       "추돌        2668\n",
       "기타        2260\n",
       "정면충돌      1589\n",
       "측면충돌       298\n",
       "후진중충돌        5\n",
       "Name: 사고유형_중분류, dtype: int64"
      ]
     },
     "execution_count": 108,
     "metadata": {},
     "output_type": "execute_result"
    }
   ],
   "source": [
    "df[df.사고유형_대분류=='차대차'].사고유형_중분류.value_counts()"
   ]
  },
  {
   "cell_type": "code",
   "execution_count": 109,
   "metadata": {},
   "outputs": [
    {
     "data": {
      "text/plain": [
       "사고유형_중분류\n",
       "직전진행          3.000000\n",
       "정면충돌          2.640025\n",
       "추돌            2.488006\n",
       "차단기돌파         2.000000\n",
       "측면직각충돌        1.983866\n",
       "측면충돌          1.795302\n",
       "주/정차차량 충돌     1.600000\n",
       "공작물충돌         1.520690\n",
       "기타            1.487429\n",
       "전도            1.424528\n",
       "전도전복          1.417363\n",
       "도로이탈          1.416048\n",
       "전복            1.333333\n",
       "보도통행중         1.295620\n",
       "후진중충돌         1.200000\n",
       "길가장자리구역통행중    1.178344\n",
       "횡단중           1.091098\n",
       "차도통행중         1.076835\n",
       "경보기무시         1.000000\n",
       "Name: 사상자수, dtype: float64"
      ]
     },
     "execution_count": 109,
     "metadata": {},
     "output_type": "execute_result"
    }
   ],
   "source": [
    "df.groupby('사고유형_중분류').mean().사상자수.sort_values(ascending=False)"
   ]
  },
  {
   "cell_type": "markdown",
   "metadata": {},
   "source": [
    "사고유형 중분류에서 차대사람 사고인 횡단중, 차도통행중, 보도통행중, 길가장자리구역 통행중사고는 피해 규모가 크지 않아 위험도가 작아 보인다. \n",
    "반면 차대차 사고는 그 안에서도 후진중충돌의 경우 평균 사상자수가 1.2명이고, 정면충돌은 2.64이다. 즉 피해의 심각성의 분산이 크기때문에,    \n",
    "사고유형 대분류보다 더 세세하게 중분류별로 위험도를 파악해야할 것 같다."
   ]
  },
  {
   "cell_type": "code",
   "execution_count": 110,
   "metadata": {},
   "outputs": [
    {
     "name": "stderr",
     "output_type": "stream",
     "text": [
      "c:\\users\\user\\appdata\\local\\programs\\python\\python36\\lib\\site-packages\\pandas\\core\\indexing.py:362: SettingWithCopyWarning: \n",
      "A value is trying to be set on a copy of a slice from a DataFrame.\n",
      "Try using .loc[row_indexer,col_indexer] = value instead\n",
      "\n",
      "See the caveats in the documentation: http://pandas.pydata.org/pandas-docs/stable/indexing.html#indexing-view-versus-copy\n",
      "  self.obj[key] = _infer_fill_value(value)\n",
      "c:\\users\\user\\appdata\\local\\programs\\python\\python36\\lib\\site-packages\\pandas\\core\\indexing.py:543: SettingWithCopyWarning: \n",
      "A value is trying to be set on a copy of a slice from a DataFrame.\n",
      "Try using .loc[row_indexer,col_indexer] = value instead\n",
      "\n",
      "See the caveats in the documentation: http://pandas.pydata.org/pandas-docs/stable/indexing.html#indexing-view-versus-copy\n",
      "  self.obj[item] = s\n"
     ]
    },
    {
     "data": {
      "text/plain": [
       "count    15022.000000\n",
       "mean        14.273865\n",
       "std          1.795045\n",
       "min         12.000000\n",
       "25%         12.340360\n",
       "50%         13.770619\n",
       "75%         15.392697\n",
       "max         27.000000\n",
       "Name: 사고유형_위험도, dtype: float64"
      ]
     },
     "execution_count": 110,
     "metadata": {},
     "output_type": "execute_result"
    }
   ],
   "source": [
    "total = train_train.groupby(['사고유형_중분류']).count().당사자종별_1당_대분류\n",
    "#total\n",
    "\n",
    "a = train_train.groupby(['사고유형_중분류']).sum().사망자수.sort_index()\n",
    "#a\n",
    "\n",
    "b = train_train.groupby(['사고유형_중분류']).sum().총부상자수.sort_index()\n",
    "#b\n",
    "\n",
    "temp = (a*12+b*3)/total\n",
    "\n",
    "temp\n",
    "\n",
    "for i in temp.index:\n",
    "    train_train.loc[(train_train.사고유형_중분류==i),'사고유형_위험도'] = temp[i]\n",
    "\n",
    "train_train.사고유형_위험도.describe()"
   ]
  },
  {
   "cell_type": "code",
   "execution_count": 111,
   "metadata": {
    "scrolled": true
   },
   "outputs": [
    {
     "data": {
      "text/plain": [
       "<matplotlib.axes._subplots.AxesSubplot at 0x23e95b95048>"
      ]
     },
     "execution_count": 111,
     "metadata": {},
     "output_type": "execute_result"
    },
    {
     "name": "stderr",
     "output_type": "stream",
     "text": [
      "c:\\users\\user\\appdata\\local\\programs\\python\\python36\\lib\\site-packages\\matplotlib\\font_manager.py:1328: UserWarning: findfont: Font family ['\"C:/Windows/Fonts/NanumBarunGothic.ttf\"'] not found. Falling back to DejaVu Sans\n",
      "  (prop.get_family(), self.defaultFamily[fontext]))\n"
     ]
    },
    {
     "data": {
      "image/png": "[encoded data removed]",
      "text/plain": [
       "<Figure size 432x288 with 1 Axes>"
      ]
     },
     "metadata": {},
     "output_type": "display_data"
    }
   ],
   "source": [
    "train_train.사고유형_위험도.hist()"
   ]
  },
  {
   "cell_type": "code",
   "execution_count": 112,
   "metadata": {},
   "outputs": [
    {
     "data": {
      "text/plain": [
       "사고유형_중분류\n",
       "직전진행     27.000000\n",
       "차단기돌파    19.500000\n",
       "정면충돌     17.849693\n",
       "추돌       17.502783\n",
       "Name: 사고유형_위험도, dtype: float64"
      ]
     },
     "execution_count": 112,
     "metadata": {},
     "output_type": "execute_result"
    }
   ],
   "source": [
    "train_train[train_train.사고유형_위험도>=16].groupby(['사고유형_중분류']).mean().사고유형_위험도.sort_values(ascending=False)"
   ]
  },
  {
   "cell_type": "code",
   "execution_count": 113,
   "metadata": {},
   "outputs": [
    {
     "name": "stderr",
     "output_type": "stream",
     "text": [
      "c:\\users\\user\\appdata\\local\\programs\\python\\python36\\lib\\site-packages\\pandas\\core\\indexing.py:362: SettingWithCopyWarning: \n",
      "A value is trying to be set on a copy of a slice from a DataFrame.\n",
      "Try using .loc[row_indexer,col_indexer] = value instead\n",
      "\n",
      "See the caveats in the documentation: http://pandas.pydata.org/pandas-docs/stable/indexing.html#indexing-view-versus-copy\n",
      "  self.obj[key] = _infer_fill_value(value)\n",
      "c:\\users\\user\\appdata\\local\\programs\\python\\python36\\lib\\site-packages\\pandas\\core\\indexing.py:543: SettingWithCopyWarning: \n",
      "A value is trying to be set on a copy of a slice from a DataFrame.\n",
      "Try using .loc[row_indexer,col_indexer] = value instead\n",
      "\n",
      "See the caveats in the documentation: http://pandas.pydata.org/pandas-docs/stable/indexing.html#indexing-view-versus-copy\n",
      "  self.obj[item] = s\n"
     ]
    },
    {
     "data": {
      "text/plain": [
       "count    10015.000000\n",
       "mean        14.265647\n",
       "std          1.764440\n",
       "min         12.000000\n",
       "25%         12.832258\n",
       "50%         13.770619\n",
       "75%         15.392697\n",
       "max         17.849693\n",
       "Name: 사고유형_위험도, dtype: float64"
      ]
     },
     "execution_count": 113,
     "metadata": {},
     "output_type": "execute_result"
    }
   ],
   "source": [
    "temp = train_train.groupby(['사고유형_중분류']).mean().사고유형_위험도\n",
    "for i in temp.index:\n",
    "    train_test.loc[(train_test.사고유형_중분류==i),'사고유형_위험도'] = temp[i]    \n",
    "train_test.사고유형_위험도.describe()"
   ]
  },
  {
   "cell_type": "code",
   "execution_count": 114,
   "metadata": {
    "scrolled": true
   },
   "outputs": [
    {
     "data": {
      "text/plain": [
       "사고유형_중분류\n",
       "정면충돌         17.849693\n",
       "추돌           17.502783\n",
       "측면직각충돌       15.392697\n",
       "측면충돌         15.033149\n",
       "공작물충돌        14.056082\n",
       "기타           13.770619\n",
       "전도전복         13.627010\n",
       "도로이탈         13.591687\n",
       "주/정차차량 충돌    12.000000\n",
       "Name: 사고유형_위험도, dtype: float64"
      ]
     },
     "execution_count": 114,
     "metadata": {},
     "output_type": "execute_result"
    }
   ],
   "source": [
    "train_test.loc[train_test.사망자수>=3].groupby(['사고유형_중분류']).mean().사고유형_위험도.sort_values(ascending=False)"
   ]
  },
  {
   "cell_type": "code",
   "execution_count": 116,
   "metadata": {},
   "outputs": [
    {
     "name": "stderr",
     "output_type": "stream",
     "text": [
      "c:\\users\\user\\appdata\\local\\programs\\python\\python36\\lib\\site-packages\\matplotlib\\font_manager.py:1328: UserWarning: findfont: Font family ['\"C:/Windows/Fonts/NanumBarunGothic.ttf\"'] not found. Falling back to DejaVu Sans\n",
      "  (prop.get_family(), self.defaultFamily[fontext]))\n"
     ]
    },
    {
     "data": {
      "image/png": "[encoded data removed]",
      "text/plain": [
       "<Figure size 432x288 with 1 Axes>"
      ]
     },
     "metadata": {},
     "output_type": "display_data"
    }
   ],
   "source": [
    "high=[]\n",
    "low=[]\n",
    "\n",
    "# 사상자수 1\n",
    "total = train_test[(train_test.사상자수==1)].shape[0]\n",
    "a = train_test[(train_test.사상자수==1)&(train_test.사고유형_위험도<=16)].shape[0]\n",
    "b = train_test[(train_test.사상자수==1)&(train_test.사고유형_위험도>16)].shape[0]\n",
    "\n",
    "low.append(a/total)\n",
    "high.append(b/total)\n",
    "\n",
    "# 사상자수 2\n",
    "total = train_test[(train_test.사상자수==2)].shape[0]\n",
    "a = train_test[(train_test.사상자수==2)&(train_test.사고유형_위험도<=16)].shape[0]\n",
    "b = train_test[(train_test.사상자수==2)&(train_test.사고유형_위험도>16)].shape[0]\n",
    "\n",
    "low.append(a/total)\n",
    "high.append(b/total)\n",
    "\n",
    "# 사상자수 3~4\n",
    "total = train_test[(train_test.사상자수>=3)&(train_test.사상자수<=4)].shape[0]\n",
    "a = train_test[(train_test.사상자수>=3)&(train_test.사상자수<=4)&(train_test.사고유형_위험도<=16)].shape[0]\n",
    "b = train_test[(train_test.사상자수>=3)&(train_test.사상자수<=4)&(train_test.사고유형_위험도>16)].shape[0]\n",
    "\n",
    "low.append(a/total)\n",
    "high.append(b/total)\n",
    "\n",
    "# 사상자수 5~8\n",
    "total = train_test[(train_test.사상자수>=5)&(train_test.사상자수<=8)].shape[0]\n",
    "a = train_test[(train_test.사상자수>=5)&(train_test.사상자수<=8)&(train_test.사고유형_위험도<=16)].shape[0]\n",
    "b = train_test[(train_test.사상자수>=5)&(train_test.사상자수<=8)&(train_test.사고유형_위험도>16)].shape[0]\n",
    "\n",
    "low.append(a/total)\n",
    "high.append(b/total)\n",
    "\n",
    "# 사상자수 9~20\n",
    "total = train_test[(train_test.사상자수>=9)&(train_test.사상자수<=20)].shape[0]\n",
    "a = train_test[(train_test.사상자수>=9)&(train_test.사상자수<=20)&(train_test.사고유형_위험도<=16)].shape[0]\n",
    "b = train_test[(train_test.사상자수>=9)&(train_test.사상자수<=20)&(train_test.사고유형_위험도>16)].shape[0]\n",
    "\n",
    "low.append(a/total)\n",
    "high.append(b/total)\n",
    "\n",
    "# 사상자수 20~\n",
    "total = train_test[(train_test.사상자수>=20)].shape[0]\n",
    "a = train_test[(train_test.사상자수>=20)&(train_test.사고유형_위험도<=16)].shape[0]\n",
    "b = train_test[(train_test.사상자수>=20)&(train_test.사고유형_위험도>16)].shape[0]\n",
    "\n",
    "low.append(a/total)\n",
    "high.append(b/total)\n",
    "\n",
    "N = 6 \n",
    "ind = np.arange(N)\n",
    "width = 0.35\n",
    "\n",
    "p1 = plt.bar(ind, low, width)\n",
    "p2 = plt.bar(ind, high, width, bottom=low)\n",
    "\n",
    "#plt.ylabel('주야 비율')\n",
    "plt.xticks(ind, ('1','2','3~4','5~8','9~20','20~'))\n",
    "#plt.legend((p1[0],p2[0]),('주간','야간'))\n",
    "plt.show()"
   ]
  },
  {
   "cell_type": "markdown",
   "metadata": {},
   "source": [
    "## - 4가지 위험도"
   ]
  },
  {
   "cell_type": "code",
   "execution_count": 119,
   "metadata": {},
   "outputs": [
    {
     "name": "stderr",
     "output_type": "stream",
     "text": [
      "c:\\users\\user\\appdata\\local\\programs\\python\\python36\\lib\\site-packages\\ipykernel_launcher.py:1: SettingWithCopyWarning: \n",
      "A value is trying to be set on a copy of a slice from a DataFrame.\n",
      "Try using .loc[row_indexer,col_indexer] = value instead\n",
      "\n",
      "See the caveats in the documentation: http://pandas.pydata.org/pandas-docs/stable/indexing.html#indexing-view-versus-copy\n",
      "  \"\"\"Entry point for launching an IPython kernel.\n",
      "c:\\users\\user\\appdata\\local\\programs\\python\\python36\\lib\\site-packages\\ipykernel_launcher.py:2: SettingWithCopyWarning: \n",
      "A value is trying to be set on a copy of a slice from a DataFrame.\n",
      "Try using .loc[row_indexer,col_indexer] = value instead\n",
      "\n",
      "See the caveats in the documentation: http://pandas.pydata.org/pandas-docs/stable/indexing.html#indexing-view-versus-copy\n",
      "  \n"
     ]
    },
    {
     "data": {
      "text/html": [
       "<div>\n",
       "<style scoped>\n",
       "    .dataframe tbody tr th:only-of-type {\n",
       "        vertical-align: middle;\n",
       "    }\n",
       "\n",
       "    .dataframe tbody tr th {\n",
       "        vertical-align: top;\n",
       "    }\n",
       "\n",
       "    .dataframe thead th {\n",
       "        text-align: right;\n",
       "    }\n",
       "</style>\n",
       "<table border=\"1\" class=\"dataframe\">\n",
       "  <thead>\n",
       "    <tr style=\"text-align: right;\">\n",
       "      <th></th>\n",
       "      <th>위험도합</th>\n",
       "      <th>위험도평균</th>\n",
       "    </tr>\n",
       "  </thead>\n",
       "  <tbody>\n",
       "    <tr>\n",
       "      <th>22192</th>\n",
       "      <td>53.819662</td>\n",
       "      <td>13.454915</td>\n",
       "    </tr>\n",
       "    <tr>\n",
       "      <th>20239</th>\n",
       "      <td>52.982943</td>\n",
       "      <td>13.245736</td>\n",
       "    </tr>\n",
       "    <tr>\n",
       "      <th>20989</th>\n",
       "      <td>58.036769</td>\n",
       "      <td>14.509192</td>\n",
       "    </tr>\n",
       "    <tr>\n",
       "      <th>18177</th>\n",
       "      <td>54.773560</td>\n",
       "      <td>13.693390</td>\n",
       "    </tr>\n",
       "    <tr>\n",
       "      <th>14464</th>\n",
       "      <td>54.200541</td>\n",
       "      <td>13.550135</td>\n",
       "    </tr>\n",
       "  </tbody>\n",
       "</table>\n",
       "</div>"
      ],
      "text/plain": [
       "            위험도합      위험도평균\n",
       "22192  53.819662  13.454915\n",
       "20239  52.982943  13.245736\n",
       "20989  58.036769  14.509192\n",
       "18177  54.773560  13.693390\n",
       "14464  54.200541  13.550135"
      ]
     },
     "execution_count": 119,
     "metadata": {},
     "output_type": "execute_result"
    }
   ],
   "source": [
    "train_test['위험도합']=train_test.발생시군구_위험도 + train_test.발생지시도x요일x주야_위험도 + train_test.차량조합_위험도 + train_test.사고유형_위험도\n",
    "train_test['위험도평균']=train_test.위험도합 / 4\n",
    "\n",
    "train_test[['위험도합','위험도평균']].head()"
   ]
  },
  {
   "cell_type": "code",
   "execution_count": 120,
   "metadata": {},
   "outputs": [
    {
     "name": "stdout",
     "output_type": "stream",
     "text": [
      "count    10006.000000\n",
      "mean        57.077518\n",
      "std          5.408939\n",
      "min         49.690955\n",
      "25%         53.718797\n",
      "50%         55.624031\n",
      "75%         58.970989\n",
      "max        117.443093\n",
      "Name: 위험도합, dtype: float64\n",
      "-------\n",
      "count    10006.000000\n",
      "mean        14.269379\n",
      "std          1.352235\n",
      "min         12.422739\n",
      "25%         13.429699\n",
      "50%         13.906008\n",
      "75%         14.742747\n",
      "max         29.360773\n",
      "Name: 위험도평균, dtype: float64\n"
     ]
    }
   ],
   "source": [
    "print(train_test.위험도합.describe())\n",
    "print('-------')\n",
    "print(train_test.위험도평균.describe())"
   ]
  },
  {
   "cell_type": "markdown",
   "metadata": {},
   "source": [
    "위험도합은 60이상이면 조금 위험하다고 볼 수 있고, 위험도평균은 16정도 이상이면 위험하다고 생각"
   ]
  },
  {
   "cell_type": "code",
   "execution_count": 121,
   "metadata": {
    "scrolled": true
   },
   "outputs": [
    {
     "name": "stderr",
     "output_type": "stream",
     "text": [
      "c:\\users\\user\\appdata\\local\\programs\\python\\python36\\lib\\site-packages\\matplotlib\\font_manager.py:1328: UserWarning: findfont: Font family ['\"C:/Windows/Fonts/NanumBarunGothic.ttf\"'] not found. Falling back to DejaVu Sans\n",
      "  (prop.get_family(), self.defaultFamily[fontext]))\n"
     ]
    },
    {
     "data": {
      "image/png": "[encoded data removed]",
      "text/plain": [
       "<Figure size 432x288 with 1 Axes>"
      ]
     },
     "metadata": {},
     "output_type": "display_data"
    }
   ],
   "source": [
    "high=[]\n",
    "low=[]\n",
    "\n",
    "# 사상자수 1\n",
    "total = train_test[(train_test.사상자수==1)].shape[0]\n",
    "a = train_test[(train_test.사상자수==1)&(train_test.위험도합<=60)].shape[0]\n",
    "b = train_test[(train_test.사상자수==1)&(train_test.위험도합>60)].shape[0]\n",
    "\n",
    "low.append(a/total)\n",
    "high.append(b/total)\n",
    "\n",
    "# 사상자수 2\n",
    "total = train_test[(train_test.사상자수==2)].shape[0]\n",
    "a = train_test[(train_test.사상자수==2)&(train_test.위험도합<=60)].shape[0]\n",
    "b = train_test[(train_test.사상자수==2)&(train_test.위험도합>60)].shape[0]\n",
    "\n",
    "low.append(a/total)\n",
    "high.append(b/total)\n",
    "\n",
    "# 사상자수 3~4\n",
    "total = train_test[(train_test.사상자수>=3)&(train_test.사상자수<=4)].shape[0]\n",
    "a = train_test[(train_test.사상자수>=3)&(train_test.사상자수<=4)&(train_test.위험도합<=60)].shape[0]\n",
    "b = train_test[(train_test.사상자수>=3)&(train_test.사상자수<=4)&(train_test.위험도합>60)].shape[0]\n",
    "\n",
    "low.append(a/total)\n",
    "high.append(b/total)\n",
    "\n",
    "# 사상자수 5~8\n",
    "total = train_test[(train_test.사상자수>=5)&(train_test.사상자수<=8)].shape[0]\n",
    "a = train_test[(train_test.사상자수>=5)&(train_test.사상자수<=8)&(train_test.위험도합<=60)].shape[0]\n",
    "b = train_test[(train_test.사상자수>=5)&(train_test.사상자수<=8)&(train_test.위험도합>60)].shape[0]\n",
    "\n",
    "low.append(a/total)\n",
    "high.append(b/total)\n",
    "\n",
    "# 사상자수 9~20\n",
    "total = train_test[(train_test.사상자수>=9)&(train_test.사상자수<=20)].shape[0]\n",
    "a = train_test[(train_test.사상자수>=9)&(train_test.사상자수<=20)&(train_test.위험도합<=60)].shape[0]\n",
    "b = train_test[(train_test.사상자수>=9)&(train_test.사상자수<=20)&(train_test.위험도합>60)].shape[0]\n",
    "\n",
    "low.append(a/total)\n",
    "high.append(b/total)\n",
    "\n",
    "# 사상자수 20~\n",
    "total = train_test[(train_test.사상자수>=20)].shape[0]\n",
    "a = train_test[(train_test.사상자수>=20)&(train_test.위험도합<=60)].shape[0]\n",
    "b = train_test[(train_test.사상자수>=20)&(train_test.위험도합>60)].shape[0]\n",
    "\n",
    "low.append(a/total)\n",
    "high.append(b/total)\n",
    "\n",
    "N = 6 \n",
    "ind = np.arange(N)\n",
    "width = 0.35\n",
    "\n",
    "p1 = plt.bar(ind, low, width)\n",
    "p2 = plt.bar(ind, high, width, bottom=low)\n",
    "\n",
    "#plt.ylabel('주야 비율')\n",
    "plt.xticks(ind, ('1','2','3~4','5~8','9~20','20~'))\n",
    "#plt.legend((p1[0],p2[0]),('주간','야간'))\n",
    "plt.show()"
   ]
  },
  {
   "cell_type": "code",
   "execution_count": 122,
   "metadata": {},
   "outputs": [
    {
     "name": "stderr",
     "output_type": "stream",
     "text": [
      "c:\\users\\user\\appdata\\local\\programs\\python\\python36\\lib\\site-packages\\matplotlib\\font_manager.py:1328: UserWarning: findfont: Font family ['\"C:/Windows/Fonts/NanumBarunGothic.ttf\"'] not found. Falling back to DejaVu Sans\n",
      "  (prop.get_family(), self.defaultFamily[fontext]))\n"
     ]
    },
    {
     "data": {
      "image/png": "[encoded data removed]",
      "text/plain": [
       "<Figure size 432x288 with 1 Axes>"
      ]
     },
     "metadata": {},
     "output_type": "display_data"
    }
   ],
   "source": [
    "high=[]\n",
    "low=[]\n",
    "\n",
    "# 사상자수 1\n",
    "total = train_test[(train_test.사상자수==1)].shape[0]\n",
    "a = train_test[(train_test.사상자수==1)&(train_test.위험도평균<=16)].shape[0]\n",
    "b = train_test[(train_test.사상자수==1)&(train_test.위험도평균>16)].shape[0]\n",
    "\n",
    "low.append(a/total)\n",
    "high.append(b/total)\n",
    "\n",
    "# 사상자수 2\n",
    "total = train_test[(train_test.사상자수==2)].shape[0]\n",
    "a = train_test[(train_test.사상자수==2)&(train_test.위험도평균<=16)].shape[0]\n",
    "b = train_test[(train_test.사상자수==2)&(train_test.위험도평균>16)].shape[0]\n",
    "\n",
    "low.append(a/total)\n",
    "high.append(b/total)\n",
    "\n",
    "# 사상자수 3~4\n",
    "total = train_test[(train_test.사상자수>=3)&(train_test.사상자수<=4)].shape[0]\n",
    "a = train_test[(train_test.사상자수>=3)&(train_test.사상자수<=4)&(train_test.위험도평균<=16)].shape[0]\n",
    "b = train_test[(train_test.사상자수>=3)&(train_test.사상자수<=4)&(train_test.위험도평균>16)].shape[0]\n",
    "\n",
    "low.append(a/total)\n",
    "high.append(b/total)\n",
    "\n",
    "# 사상자수 5~8\n",
    "total = train_test[(train_test.사상자수>=5)&(train_test.사상자수<=8)].shape[0]\n",
    "a = train_test[(train_test.사상자수>=5)&(train_test.사상자수<=8)&(train_test.위험도평균<=16)].shape[0]\n",
    "b = train_test[(train_test.사상자수>=5)&(train_test.사상자수<=8)&(train_test.위험도평균>16)].shape[0]\n",
    "\n",
    "low.append(a/total)\n",
    "high.append(b/total)\n",
    "\n",
    "# 사상자수 9~20\n",
    "total = train_test[(train_test.사상자수>=9)&(train_test.사상자수<=20)].shape[0]\n",
    "a = train_test[(train_test.사상자수>=9)&(train_test.사상자수<=20)&(train_test.위험도평균<=16)].shape[0]\n",
    "b = train_test[(train_test.사상자수>=9)&(train_test.사상자수<=20)&(train_test.위험도평균>16)].shape[0]\n",
    "\n",
    "low.append(a/total)\n",
    "high.append(b/total)\n",
    "\n",
    "# 사상자수 20~\n",
    "total = train_test[(train_test.사상자수>=20)].shape[0]\n",
    "a = train_test[(train_test.사상자수>=20)&(train_test.위험도평균<=16)].shape[0]\n",
    "b = train_test[(train_test.사상자수>=20)&(train_test.위험도평균>16)].shape[0]\n",
    "\n",
    "low.append(a/total)\n",
    "high.append(b/total)\n",
    "\n",
    "N = 6 \n",
    "ind = np.arange(N)\n",
    "width = 0.35\n",
    "\n",
    "p1 = plt.bar(ind, low, width)\n",
    "p2 = plt.bar(ind, high, width, bottom=low)\n",
    "\n",
    "#plt.ylabel('주야 비율')\n",
    "plt.xticks(ind, ('1','2','3~4','5~8','9~20','20~'))\n",
    "#plt.legend((p1[0],p2[0]),('주간','야간'))\n",
    "plt.show()"
   ]
  },
  {
   "cell_type": "code",
   "execution_count": null,
   "metadata": {},
   "outputs": [],
   "source": [
    "train_test.발생시군구_위험도\n",
    "train_test.발생지시도x요일x주야_위험도"
   ]
  },
  {
   "cell_type": "markdown",
   "metadata": {},
   "source": [
    "train data를 기준으로 계산한 4가지 위험도들을 test data에 그대로 사용해본 결과, 발생지시군구_위험도와 발생지시도x요일x주야_위험도보다는 차량조합_위험도와 사고유형_위험도가 좀 더 피해자가 큰 사고를 예측하는데 유용할 것 같다.      \n",
    "       \n",
    "4가지를 모두 합한 위험도합이나 평균을 낸 위험도 평균수치도 사상자수가 많은 사고일수록 위험도 수치가 높게 측정된 사고의 비율이 많아, 피해자 수가 많은 특이한 사고를 예측하는데 조금이나마 도움이 되지 않을까.             \n",
    "나중에 사용할때는 train_train, train_test set을 합한 전체 train data에서 4가지 위험도를 계산한 후 test data에 변수를 추가하여 사용하면 될 것 같다."
   ]
  },
  {
   "cell_type": "markdown",
   "metadata": {},
   "source": [
    "# 3. 추가데이터"
   ]
  },
  {
   "cell_type": "markdown",
   "metadata": {},
   "source": [
    "## - 사고안전지수"
   ]
  },
  {
   "cell_type": "code",
   "execution_count": 124,
   "metadata": {
    "scrolled": true
   },
   "outputs": [],
   "source": [
    "df_safe = pd.read_csv('safe.csv',encoding='CP949')"
   ]
  },
  {
   "cell_type": "code",
   "execution_count": 125,
   "metadata": {},
   "outputs": [
    {
     "data": {
      "text/html": [
       "<div>\n",
       "<style scoped>\n",
       "    .dataframe tbody tr th:only-of-type {\n",
       "        vertical-align: middle;\n",
       "    }\n",
       "\n",
       "    .dataframe tbody tr th {\n",
       "        vertical-align: top;\n",
       "    }\n",
       "\n",
       "    .dataframe thead th {\n",
       "        text-align: right;\n",
       "    }\n",
       "</style>\n",
       "<table border=\"1\" class=\"dataframe\">\n",
       "  <thead>\n",
       "    <tr style=\"text-align: right;\">\n",
       "      <th></th>\n",
       "      <th>시</th>\n",
       "      <th>군구</th>\n",
       "      <th>2012</th>\n",
       "      <th>2013</th>\n",
       "      <th>2014</th>\n",
       "      <th>2015</th>\n",
       "      <th>2016</th>\n",
       "      <th>평균</th>\n",
       "    </tr>\n",
       "  </thead>\n",
       "  <tbody>\n",
       "    <tr>\n",
       "      <th>0</th>\n",
       "      <td>서울</td>\n",
       "      <td>종로구</td>\n",
       "      <td>67.3</td>\n",
       "      <td>66.4</td>\n",
       "      <td>68.4</td>\n",
       "      <td>71.3</td>\n",
       "      <td>76.9</td>\n",
       "      <td>70.1</td>\n",
       "    </tr>\n",
       "    <tr>\n",
       "      <th>1</th>\n",
       "      <td>서울</td>\n",
       "      <td>중구</td>\n",
       "      <td>58.9</td>\n",
       "      <td>58.5</td>\n",
       "      <td>65.2</td>\n",
       "      <td>61.0</td>\n",
       "      <td>68.5</td>\n",
       "      <td>62.4</td>\n",
       "    </tr>\n",
       "    <tr>\n",
       "      <th>2</th>\n",
       "      <td>서울</td>\n",
       "      <td>용산구</td>\n",
       "      <td>76.3</td>\n",
       "      <td>76.6</td>\n",
       "      <td>79.0</td>\n",
       "      <td>76.3</td>\n",
       "      <td>79.1</td>\n",
       "      <td>77.5</td>\n",
       "    </tr>\n",
       "    <tr>\n",
       "      <th>3</th>\n",
       "      <td>서울</td>\n",
       "      <td>성동구</td>\n",
       "      <td>83.5</td>\n",
       "      <td>83.0</td>\n",
       "      <td>81.0</td>\n",
       "      <td>85.8</td>\n",
       "      <td>80.4</td>\n",
       "      <td>82.7</td>\n",
       "    </tr>\n",
       "    <tr>\n",
       "      <th>4</th>\n",
       "      <td>서울</td>\n",
       "      <td>동대문구</td>\n",
       "      <td>73.9</td>\n",
       "      <td>73.2</td>\n",
       "      <td>66.6</td>\n",
       "      <td>76.7</td>\n",
       "      <td>74.3</td>\n",
       "      <td>72.9</td>\n",
       "    </tr>\n",
       "  </tbody>\n",
       "</table>\n",
       "</div>"
      ],
      "text/plain": [
       "    시    군구  2012  2013  2014  2015  2016    평균\n",
       "0  서울   종로구  67.3  66.4  68.4  71.3  76.9  70.1\n",
       "1  서울    중구  58.9  58.5  65.2  61.0  68.5  62.4\n",
       "2  서울   용산구  76.3  76.6  79.0  76.3  79.1  77.5\n",
       "3  서울   성동구  83.5  83.0  81.0  85.8  80.4  82.7\n",
       "4  서울  동대문구  73.9  73.2  66.6  76.7  74.3  72.9"
      ]
     },
     "execution_count": 125,
     "metadata": {},
     "output_type": "execute_result"
    }
   ],
   "source": [
    "df_safe.head()"
   ]
  },
  {
   "cell_type": "code",
   "execution_count": 127,
   "metadata": {},
   "outputs": [
    {
     "data": {
      "text/plain": [
       "시   군구 \n",
       "강원  강릉시    83.6\n",
       "    고성군    76.2\n",
       "    동해시    81.9\n",
       "    삼척시    80.1\n",
       "    속초시    78.8\n",
       "Name: 평균, dtype: float64"
      ]
     },
     "execution_count": 127,
     "metadata": {},
     "output_type": "execute_result"
    }
   ],
   "source": [
    "temp = df_safe.groupby(['시','군구']).mean().평균\n",
    "temp.head()"
   ]
  },
  {
   "cell_type": "code",
   "execution_count": 128,
   "metadata": {},
   "outputs": [
    {
     "data": {
      "text/html": [
       "<div>\n",
       "<style scoped>\n",
       "    .dataframe tbody tr th:only-of-type {\n",
       "        vertical-align: middle;\n",
       "    }\n",
       "\n",
       "    .dataframe tbody tr th {\n",
       "        vertical-align: top;\n",
       "    }\n",
       "\n",
       "    .dataframe thead th {\n",
       "        text-align: right;\n",
       "    }\n",
       "</style>\n",
       "<table border=\"1\" class=\"dataframe\">\n",
       "  <thead>\n",
       "    <tr style=\"text-align: right;\">\n",
       "      <th></th>\n",
       "      <th>발생년월일시</th>\n",
       "      <th>발생년</th>\n",
       "      <th>발생월</th>\n",
       "      <th>발생일</th>\n",
       "      <th>발생시</th>\n",
       "      <th>발생분</th>\n",
       "      <th>주야</th>\n",
       "      <th>요일</th>\n",
       "      <th>사망자수</th>\n",
       "      <th>사상자수</th>\n",
       "      <th>중상자수</th>\n",
       "      <th>경상자수</th>\n",
       "      <th>부상신고자수</th>\n",
       "      <th>발생지시도</th>\n",
       "      <th>발생지시군구</th>\n",
       "      <th>사고유형_대분류</th>\n",
       "      <th>사고유형_중분류</th>\n",
       "      <th>사고유형</th>\n",
       "      <th>법규위반_대분류</th>\n",
       "      <th>법규위반</th>\n",
       "      <th>도로형태_대분류</th>\n",
       "      <th>도로형태</th>\n",
       "      <th>당사자종별_1당_대분류</th>\n",
       "      <th>당사자종별_1당</th>\n",
       "      <th>당사자종별_2당_대분류</th>\n",
       "      <th>당사자종별_2당</th>\n",
       "      <th>발생위치X_UTMK</th>\n",
       "      <th>발생위치Y_UTMK</th>\n",
       "      <th>경도</th>\n",
       "      <th>위도</th>\n",
       "      <th>총부상자수</th>\n",
       "      <th>요일x주야</th>\n",
       "      <th>차량조합</th>\n",
       "      <th>사고안전도</th>\n",
       "    </tr>\n",
       "  </thead>\n",
       "  <tbody>\n",
       "    <tr>\n",
       "      <th>0</th>\n",
       "      <td>201706302314</td>\n",
       "      <td>2017</td>\n",
       "      <td>6</td>\n",
       "      <td>30</td>\n",
       "      <td>23</td>\n",
       "      <td>14</td>\n",
       "      <td>야간</td>\n",
       "      <td>금</td>\n",
       "      <td>1</td>\n",
       "      <td>1</td>\n",
       "      <td>0</td>\n",
       "      <td>0</td>\n",
       "      <td>0</td>\n",
       "      <td>경기</td>\n",
       "      <td>성남시</td>\n",
       "      <td>차대사람</td>\n",
       "      <td>횡단중</td>\n",
       "      <td>횡단중</td>\n",
       "      <td>운전자법규위반</td>\n",
       "      <td>안전운전 의무 불이행</td>\n",
       "      <td>단일로</td>\n",
       "      <td>기타단일로</td>\n",
       "      <td>승용차</td>\n",
       "      <td>승용차</td>\n",
       "      <td>보행자</td>\n",
       "      <td>보행자</td>\n",
       "      <td>967633</td>\n",
       "      <td>1937456</td>\n",
       "      <td>127.134130</td>\n",
       "      <td>37.435704</td>\n",
       "      <td>0</td>\n",
       "      <td>금/야간</td>\n",
       "      <td>승용차/보행자</td>\n",
       "      <td>76.4</td>\n",
       "    </tr>\n",
       "    <tr>\n",
       "      <th>1</th>\n",
       "      <td>201706302145</td>\n",
       "      <td>2017</td>\n",
       "      <td>6</td>\n",
       "      <td>30</td>\n",
       "      <td>21</td>\n",
       "      <td>45</td>\n",
       "      <td>야간</td>\n",
       "      <td>금</td>\n",
       "      <td>1</td>\n",
       "      <td>4</td>\n",
       "      <td>2</td>\n",
       "      <td>1</td>\n",
       "      <td>0</td>\n",
       "      <td>전남</td>\n",
       "      <td>곡성군</td>\n",
       "      <td>차대차</td>\n",
       "      <td>추돌</td>\n",
       "      <td>추돌</td>\n",
       "      <td>운전자법규위반</td>\n",
       "      <td>안전운전 의무 불이행</td>\n",
       "      <td>단일로</td>\n",
       "      <td>기타단일로</td>\n",
       "      <td>승용차</td>\n",
       "      <td>승용차</td>\n",
       "      <td>승용차</td>\n",
       "      <td>승용차</td>\n",
       "      <td>966456</td>\n",
       "      <td>1696405</td>\n",
       "      <td>127.131220</td>\n",
       "      <td>35.262534</td>\n",
       "      <td>3</td>\n",
       "      <td>금/야간</td>\n",
       "      <td>승용차/승용차</td>\n",
       "      <td>76.7</td>\n",
       "    </tr>\n",
       "    <tr>\n",
       "      <th>2</th>\n",
       "      <td>201706302150</td>\n",
       "      <td>2017</td>\n",
       "      <td>6</td>\n",
       "      <td>30</td>\n",
       "      <td>21</td>\n",
       "      <td>50</td>\n",
       "      <td>야간</td>\n",
       "      <td>금</td>\n",
       "      <td>1</td>\n",
       "      <td>1</td>\n",
       "      <td>0</td>\n",
       "      <td>0</td>\n",
       "      <td>0</td>\n",
       "      <td>충남</td>\n",
       "      <td>서산시</td>\n",
       "      <td>차대사람</td>\n",
       "      <td>차도통행중</td>\n",
       "      <td>차도통행중</td>\n",
       "      <td>운전자법규위반</td>\n",
       "      <td>안전운전 의무 불이행</td>\n",
       "      <td>단일로</td>\n",
       "      <td>기타단일로</td>\n",
       "      <td>승용차</td>\n",
       "      <td>승용차</td>\n",
       "      <td>보행자</td>\n",
       "      <td>보행자</td>\n",
       "      <td>900057</td>\n",
       "      <td>1865697</td>\n",
       "      <td>126.379922</td>\n",
       "      <td>36.784142</td>\n",
       "      <td>0</td>\n",
       "      <td>금/야간</td>\n",
       "      <td>승용차/보행자</td>\n",
       "      <td>73.5</td>\n",
       "    </tr>\n",
       "    <tr>\n",
       "      <th>3</th>\n",
       "      <td>201706301910</td>\n",
       "      <td>2017</td>\n",
       "      <td>6</td>\n",
       "      <td>30</td>\n",
       "      <td>19</td>\n",
       "      <td>10</td>\n",
       "      <td>야간</td>\n",
       "      <td>금</td>\n",
       "      <td>1</td>\n",
       "      <td>1</td>\n",
       "      <td>0</td>\n",
       "      <td>0</td>\n",
       "      <td>0</td>\n",
       "      <td>대구</td>\n",
       "      <td>서구</td>\n",
       "      <td>차대차</td>\n",
       "      <td>측면충돌</td>\n",
       "      <td>측면충돌</td>\n",
       "      <td>운전자법규위반</td>\n",
       "      <td>안전운전 의무 불이행</td>\n",
       "      <td>교차로</td>\n",
       "      <td>교차로부근</td>\n",
       "      <td>승용차</td>\n",
       "      <td>승용차</td>\n",
       "      <td>이륜차</td>\n",
       "      <td>이륜차</td>\n",
       "      <td>1095230</td>\n",
       "      <td>1764891</td>\n",
       "      <td>128.554945</td>\n",
       "      <td>35.875973</td>\n",
       "      <td>0</td>\n",
       "      <td>금/야간</td>\n",
       "      <td>승용차/이륜차</td>\n",
       "      <td>72.0</td>\n",
       "    </tr>\n",
       "    <tr>\n",
       "      <th>4</th>\n",
       "      <td>201706301702</td>\n",
       "      <td>2017</td>\n",
       "      <td>6</td>\n",
       "      <td>30</td>\n",
       "      <td>17</td>\n",
       "      <td>2</td>\n",
       "      <td>주간</td>\n",
       "      <td>금</td>\n",
       "      <td>1</td>\n",
       "      <td>2</td>\n",
       "      <td>1</td>\n",
       "      <td>0</td>\n",
       "      <td>0</td>\n",
       "      <td>서울</td>\n",
       "      <td>영등포구</td>\n",
       "      <td>차대차</td>\n",
       "      <td>측면충돌</td>\n",
       "      <td>측면충돌</td>\n",
       "      <td>운전자법규위반</td>\n",
       "      <td>중앙선 침범</td>\n",
       "      <td>단일로</td>\n",
       "      <td>교량위</td>\n",
       "      <td>이륜차</td>\n",
       "      <td>이륜차</td>\n",
       "      <td>화물차</td>\n",
       "      <td>화물차</td>\n",
       "      <td>947576</td>\n",
       "      <td>1946355</td>\n",
       "      <td>126.906786</td>\n",
       "      <td>37.514993</td>\n",
       "      <td>1</td>\n",
       "      <td>금/주간</td>\n",
       "      <td>이륜차/화물차</td>\n",
       "      <td>72.8</td>\n",
       "    </tr>\n",
       "  </tbody>\n",
       "</table>\n",
       "</div>"
      ],
      "text/plain": [
       "         발생년월일시   발생년  발생월  발생일  발생시  발생분  주야 요일  사망자수  사상자수  중상자수  경상자수  \\\n",
       "0  201706302314  2017    6   30   23   14  야간  금     1     1     0     0   \n",
       "1  201706302145  2017    6   30   21   45  야간  금     1     4     2     1   \n",
       "2  201706302150  2017    6   30   21   50  야간  금     1     1     0     0   \n",
       "3  201706301910  2017    6   30   19   10  야간  금     1     1     0     0   \n",
       "4  201706301702  2017    6   30   17    2  주간  금     1     2     1     0   \n",
       "\n",
       "   부상신고자수 발생지시도 발생지시군구 사고유형_대분류 사고유형_중분류   사고유형 법규위반_대분류         법규위반  \\\n",
       "0       0    경기    성남시     차대사람      횡단중    횡단중  운전자법규위반  안전운전 의무 불이행   \n",
       "1       0    전남    곡성군      차대차       추돌     추돌  운전자법규위반  안전운전 의무 불이행   \n",
       "2       0    충남    서산시     차대사람    차도통행중  차도통행중  운전자법규위반  안전운전 의무 불이행   \n",
       "3       0    대구     서구      차대차     측면충돌   측면충돌  운전자법규위반  안전운전 의무 불이행   \n",
       "4       0    서울   영등포구      차대차     측면충돌   측면충돌  운전자법규위반       중앙선 침범   \n",
       "\n",
       "  도로형태_대분류   도로형태 당사자종별_1당_대분류 당사자종별_1당 당사자종별_2당_대분류 당사자종별_2당  발생위치X_UTMK  \\\n",
       "0      단일로  기타단일로          승용차      승용차          보행자      보행자      967633   \n",
       "1      단일로  기타단일로          승용차      승용차          승용차      승용차      966456   \n",
       "2      단일로  기타단일로          승용차      승용차          보행자      보행자      900057   \n",
       "3      교차로  교차로부근          승용차      승용차          이륜차      이륜차     1095230   \n",
       "4      단일로    교량위          이륜차      이륜차          화물차      화물차      947576   \n",
       "\n",
       "   발생위치Y_UTMK          경도         위도  총부상자수 요일x주야     차량조합  사고안전도  \n",
       "0     1937456  127.134130  37.435704      0  금/야간  승용차/보행자   76.4  \n",
       "1     1696405  127.131220  35.262534      3  금/야간  승용차/승용차   76.7  \n",
       "2     1865697  126.379922  36.784142      0  금/야간  승용차/보행자   73.5  \n",
       "3     1764891  128.554945  35.875973      0  금/야간  승용차/이륜차   72.0  \n",
       "4     1946355  126.906786  37.514993      1  금/주간  이륜차/화물차   72.8  "
      ]
     },
     "execution_count": 128,
     "metadata": {},
     "output_type": "execute_result"
    }
   ],
   "source": [
    "for i,j in temp.index:\n",
    "    df.loc[(df.발생지시도==i)&(df.발생지시군구==j),'사고안전도']=temp[i,j]\n",
    "    \n",
    "df.head()\n",
    "\n",
    "# 인천 옹진군, 울릉군은 안전도가 계산이 안돼있음. 그래서 비슷한 정도로 사고가 나는 지역의 사고안전도를 사용\n",
    "# 인천 옹진군 = 충북 증평군\n",
    "# 경북 울릉군 = 경기 과천시"
   ]
  },
  {
   "cell_type": "code",
   "execution_count": 129,
   "metadata": {
    "scrolled": true
   },
   "outputs": [
    {
     "data": {
      "text/plain": [
       "0"
      ]
     },
     "execution_count": 129,
     "metadata": {},
     "output_type": "execute_result"
    }
   ],
   "source": [
    "df.사고안전도.isnull().sum()"
   ]
  },
  {
   "cell_type": "markdown",
   "metadata": {},
   "source": [
    "# - 날씨 위험도"
   ]
  },
  {
   "cell_type": "markdown",
   "metadata": {},
   "source": [
    "특히 큰 사고가 날 위험이 높은 날씨가 있을까. 날씨별로 사고위험도 측정"
   ]
  },
  {
   "cell_type": "code",
   "execution_count": 131,
   "metadata": {},
   "outputs": [
    {
     "data": {
      "text/html": [
       "<div>\n",
       "<style scoped>\n",
       "    .dataframe tbody tr th:only-of-type {\n",
       "        vertical-align: middle;\n",
       "    }\n",
       "\n",
       "    .dataframe tbody tr th {\n",
       "        vertical-align: top;\n",
       "    }\n",
       "\n",
       "    .dataframe thead th {\n",
       "        text-align: right;\n",
       "    }\n",
       "</style>\n",
       "<table border=\"1\" class=\"dataframe\">\n",
       "  <thead>\n",
       "    <tr style=\"text-align: right;\">\n",
       "      <th></th>\n",
       "      <th>분류</th>\n",
       "      <th>12</th>\n",
       "      <th>13</th>\n",
       "      <th>14</th>\n",
       "      <th>15</th>\n",
       "      <th>16</th>\n",
       "      <th>평균</th>\n",
       "    </tr>\n",
       "  </thead>\n",
       "  <tbody>\n",
       "    <tr>\n",
       "      <th>0</th>\n",
       "      <td>합계</td>\n",
       "      <td>4.91</td>\n",
       "      <td>4.86</td>\n",
       "      <td>4.78</td>\n",
       "      <td>4.77</td>\n",
       "      <td>4.74</td>\n",
       "      <td>4.81</td>\n",
       "    </tr>\n",
       "    <tr>\n",
       "      <th>1</th>\n",
       "      <td>기타</td>\n",
       "      <td>4.78</td>\n",
       "      <td>4.61</td>\n",
       "      <td>4.31</td>\n",
       "      <td>4.46</td>\n",
       "      <td>4.49</td>\n",
       "      <td>4.53</td>\n",
       "    </tr>\n",
       "    <tr>\n",
       "      <th>2</th>\n",
       "      <td>맑음</td>\n",
       "      <td>4.85</td>\n",
       "      <td>4.82</td>\n",
       "      <td>4.74</td>\n",
       "      <td>4.73</td>\n",
       "      <td>4.70</td>\n",
       "      <td>4.77</td>\n",
       "    </tr>\n",
       "    <tr>\n",
       "      <th>3</th>\n",
       "      <td>비</td>\n",
       "      <td>5.17</td>\n",
       "      <td>5.09</td>\n",
       "      <td>5.07</td>\n",
       "      <td>4.95</td>\n",
       "      <td>4.91</td>\n",
       "      <td>5.04</td>\n",
       "    </tr>\n",
       "    <tr>\n",
       "      <th>4</th>\n",
       "      <td>흐림</td>\n",
       "      <td>5.23</td>\n",
       "      <td>5.12</td>\n",
       "      <td>5.04</td>\n",
       "      <td>5.04</td>\n",
       "      <td>5.12</td>\n",
       "      <td>5.11</td>\n",
       "    </tr>\n",
       "    <tr>\n",
       "      <th>5</th>\n",
       "      <td>눈</td>\n",
       "      <td>5.54</td>\n",
       "      <td>5.87</td>\n",
       "      <td>5.29</td>\n",
       "      <td>5.54</td>\n",
       "      <td>5.68</td>\n",
       "      <td>5.58</td>\n",
       "    </tr>\n",
       "    <tr>\n",
       "      <th>6</th>\n",
       "      <td>안개</td>\n",
       "      <td>6.46</td>\n",
       "      <td>6.74</td>\n",
       "      <td>6.10</td>\n",
       "      <td>7.39</td>\n",
       "      <td>7.17</td>\n",
       "      <td>6.77</td>\n",
       "    </tr>\n",
       "  </tbody>\n",
       "</table>\n",
       "</div>"
      ],
      "text/plain": [
       "   분류    12    13    14    15    16    평균\n",
       "0  합계  4.91  4.86  4.78  4.77  4.74  4.81\n",
       "1  기타  4.78  4.61  4.31  4.46  4.49  4.53\n",
       "2  맑음  4.85  4.82  4.74  4.73  4.70  4.77\n",
       "3   비  5.17  5.09  5.07  4.95  4.91  5.04\n",
       "4  흐림  5.23  5.12  5.04  5.04  5.12  5.11\n",
       "5   눈  5.54  5.87  5.29  5.54  5.68  5.58\n",
       "6  안개  6.46  6.74  6.10  7.39  7.17  6.77"
      ]
     },
     "execution_count": 131,
     "metadata": {},
     "output_type": "execute_result"
    }
   ],
   "source": [
    "df_sun = pd.read_csv('safe_sun.csv',encoding='CP949')\n",
    "df_sun"
   ]
  },
  {
   "cell_type": "code",
   "execution_count": 132,
   "metadata": {},
   "outputs": [
    {
     "data": {
      "text/html": [
       "<div>\n",
       "<style scoped>\n",
       "    .dataframe tbody tr th:only-of-type {\n",
       "        vertical-align: middle;\n",
       "    }\n",
       "\n",
       "    .dataframe tbody tr th {\n",
       "        vertical-align: top;\n",
       "    }\n",
       "\n",
       "    .dataframe thead th {\n",
       "        text-align: right;\n",
       "    }\n",
       "</style>\n",
       "<table border=\"1\" class=\"dataframe\">\n",
       "  <thead>\n",
       "    <tr style=\"text-align: right;\">\n",
       "      <th></th>\n",
       "      <th>분류</th>\n",
       "      <th>12</th>\n",
       "      <th>13</th>\n",
       "      <th>14</th>\n",
       "      <th>15</th>\n",
       "      <th>16</th>\n",
       "      <th>평균</th>\n",
       "      <th>차이</th>\n",
       "    </tr>\n",
       "  </thead>\n",
       "  <tbody>\n",
       "    <tr>\n",
       "      <th>0</th>\n",
       "      <td>합계</td>\n",
       "      <td>4.91</td>\n",
       "      <td>4.86</td>\n",
       "      <td>4.78</td>\n",
       "      <td>4.77</td>\n",
       "      <td>4.74</td>\n",
       "      <td>4.81</td>\n",
       "      <td>0.00</td>\n",
       "    </tr>\n",
       "    <tr>\n",
       "      <th>1</th>\n",
       "      <td>기타</td>\n",
       "      <td>4.78</td>\n",
       "      <td>4.61</td>\n",
       "      <td>4.31</td>\n",
       "      <td>4.46</td>\n",
       "      <td>4.49</td>\n",
       "      <td>4.53</td>\n",
       "      <td>-0.28</td>\n",
       "    </tr>\n",
       "    <tr>\n",
       "      <th>2</th>\n",
       "      <td>맑음</td>\n",
       "      <td>4.85</td>\n",
       "      <td>4.82</td>\n",
       "      <td>4.74</td>\n",
       "      <td>4.73</td>\n",
       "      <td>4.70</td>\n",
       "      <td>4.77</td>\n",
       "      <td>-0.04</td>\n",
       "    </tr>\n",
       "    <tr>\n",
       "      <th>3</th>\n",
       "      <td>비</td>\n",
       "      <td>5.17</td>\n",
       "      <td>5.09</td>\n",
       "      <td>5.07</td>\n",
       "      <td>4.95</td>\n",
       "      <td>4.91</td>\n",
       "      <td>5.04</td>\n",
       "      <td>0.23</td>\n",
       "    </tr>\n",
       "    <tr>\n",
       "      <th>4</th>\n",
       "      <td>흐림</td>\n",
       "      <td>5.23</td>\n",
       "      <td>5.12</td>\n",
       "      <td>5.04</td>\n",
       "      <td>5.04</td>\n",
       "      <td>5.12</td>\n",
       "      <td>5.11</td>\n",
       "      <td>0.30</td>\n",
       "    </tr>\n",
       "    <tr>\n",
       "      <th>5</th>\n",
       "      <td>눈</td>\n",
       "      <td>5.54</td>\n",
       "      <td>5.87</td>\n",
       "      <td>5.29</td>\n",
       "      <td>5.54</td>\n",
       "      <td>5.68</td>\n",
       "      <td>5.58</td>\n",
       "      <td>0.77</td>\n",
       "    </tr>\n",
       "    <tr>\n",
       "      <th>6</th>\n",
       "      <td>안개</td>\n",
       "      <td>6.46</td>\n",
       "      <td>6.74</td>\n",
       "      <td>6.10</td>\n",
       "      <td>7.39</td>\n",
       "      <td>7.17</td>\n",
       "      <td>6.77</td>\n",
       "      <td>1.96</td>\n",
       "    </tr>\n",
       "  </tbody>\n",
       "</table>\n",
       "</div>"
      ],
      "text/plain": [
       "   분류    12    13    14    15    16    평균    차이\n",
       "0  합계  4.91  4.86  4.78  4.77  4.74  4.81  0.00\n",
       "1  기타  4.78  4.61  4.31  4.46  4.49  4.53 -0.28\n",
       "2  맑음  4.85  4.82  4.74  4.73  4.70  4.77 -0.04\n",
       "3   비  5.17  5.09  5.07  4.95  4.91  5.04  0.23\n",
       "4  흐림  5.23  5.12  5.04  5.04  5.12  5.11  0.30\n",
       "5   눈  5.54  5.87  5.29  5.54  5.68  5.58  0.77\n",
       "6  안개  6.46  6.74  6.10  7.39  7.17  6.77  1.96"
      ]
     },
     "execution_count": 132,
     "metadata": {},
     "output_type": "execute_result"
    }
   ],
   "source": [
    "df_sun['차이']=df_sun.평균-4.81\n",
    "df_sun"
   ]
  },
  {
   "cell_type": "code",
   "execution_count": 133,
   "metadata": {},
   "outputs": [
    {
     "name": "stderr",
     "output_type": "stream",
     "text": [
      "c:\\users\\user\\appdata\\local\\programs\\python\\python36\\lib\\site-packages\\matplotlib\\font_manager.py:1328: UserWarning: findfont: Font family ['\"C:/Windows/Fonts/NanumBarunGothic.ttf\"'] not found. Falling back to DejaVu Sans\n",
      "  (prop.get_family(), self.defaultFamily[fontext]))\n"
     ]
    },
    {
     "data": {
      "image/png": "[encoded data removed]",
      "text/plain": [
       "<Figure size 432x288 with 1 Axes>"
      ]
     },
     "metadata": {},
     "output_type": "display_data"
    }
   ],
   "source": [
    "ind = np.arange(df_sun.shape[0]-2)\n",
    "\n",
    "plt.bar(ind, df_sun.차이[2:])\n",
    "plt.xticks(ind, np.array(df_sun.분류[2:]));\n",
    "\n",
    "# 시군구별 평균 강우량, 강설량, 안개일수 추가?\n",
    "# 세부적인 시군구별 평균 안개일수나 날씨 수치들을 구하기 힘들다. 보통 다 시별로 나와있음.\n",
    "# 다른 날씨 특성들과 달리, 안개의 경우 안개사고다발지역이 존재. 이에  7-11년 사이 안개로 인한 교통사고 4건 이상 발생지역들의 사고발생건수를 사용해보기."
   ]
  },
  {
   "cell_type": "markdown",
   "metadata": {},
   "source": [
    "전체 사고위험도와의 차이를 보면, 안개낀날과 눈내리는 날에 특히 사고위험도가 높게 나타난다.        \n",
    "그래서 시군구별로 평균 강우량, 강설량, 안개일수를 추가하려고 했으나, 기상청 데이터가 시도 단위로만 데이터를 제공하는 것 같아서 구하지 못했음.                           \n",
    "                           \n",
    "다른 날씨 특성들과 달리, 안개의 경우에는 안개사고다발지역이라는 지표가 존재함. 즉 다른 날씨들에 비해 특히 안개가 교통사고에 큰 영향을 미친다고 생각. 이에 7~11년 사이에 안개로 이한 교통사고가 4건이상 발생한 지역들의 사고발생건수 변수로 사용해보기"
   ]
  },
  {
   "cell_type": "code",
   "execution_count": 136,
   "metadata": {},
   "outputs": [
    {
     "data": {
      "text/plain": [
       "시   군구  \n",
       "충북  진천군     13\n",
       "충남  예산군     12\n",
       "제주  서귀포시     9\n",
       "세종  세종       9\n",
       "경기  포천시      8\n",
       "Name: 발생건수, dtype: int64"
      ]
     },
     "execution_count": 136,
     "metadata": {},
     "output_type": "execute_result"
    }
   ],
   "source": [
    "df_fogregion=pd.read_csv('fog_region.csv',encoding='CP949')\n",
    "df_fogregion.groupby(['시','군구']).mean().발생건수.sort_values(ascending=False).head()"
   ]
  },
  {
   "cell_type": "markdown",
   "metadata": {},
   "source": [
    "충북 진천군이나 충남 예산군같이 특히 안개로 이한 교통사고가 많은 지역이 있음."
   ]
  },
  {
   "cell_type": "code",
   "execution_count": 137,
   "metadata": {},
   "outputs": [
    {
     "data": {
      "text/plain": [
       "0"
      ]
     },
     "execution_count": 137,
     "metadata": {},
     "output_type": "execute_result"
    }
   ],
   "source": [
    "temp = df_fogregion.groupby(['시','군구']).mean().발생건수\n",
    "\n",
    "for i,j in temp.index:\n",
    "    df.loc[(df.발생지시도==i)&(df.발생지시군구==j),'안개사고건수']=temp[i,j]\n",
    "    \n",
    "df.안개사고건수.isnull().sum()"
   ]
  },
  {
   "cell_type": "code",
   "execution_count": 138,
   "metadata": {},
   "outputs": [
    {
     "data": {
      "text/html": [
       "<div>\n",
       "<style scoped>\n",
       "    .dataframe tbody tr th:only-of-type {\n",
       "        vertical-align: middle;\n",
       "    }\n",
       "\n",
       "    .dataframe tbody tr th {\n",
       "        vertical-align: top;\n",
       "    }\n",
       "\n",
       "    .dataframe thead th {\n",
       "        text-align: right;\n",
       "    }\n",
       "</style>\n",
       "<table border=\"1\" class=\"dataframe\">\n",
       "  <thead>\n",
       "    <tr style=\"text-align: right;\">\n",
       "      <th></th>\n",
       "      <th>전체</th>\n",
       "      <th>no</th>\n",
       "      <th>yes</th>\n",
       "    </tr>\n",
       "  </thead>\n",
       "  <tbody>\n",
       "    <tr>\n",
       "      <th>사상자수</th>\n",
       "      <td>1.621520</td>\n",
       "      <td>1.619027</td>\n",
       "      <td>1.633410</td>\n",
       "    </tr>\n",
       "    <tr>\n",
       "      <th>사망자수</th>\n",
       "      <td>1.040899</td>\n",
       "      <td>1.041455</td>\n",
       "      <td>1.038249</td>\n",
       "    </tr>\n",
       "    <tr>\n",
       "      <th>중상자수</th>\n",
       "      <td>0.299996</td>\n",
       "      <td>0.297241</td>\n",
       "      <td>0.313134</td>\n",
       "    </tr>\n",
       "    <tr>\n",
       "      <th>경상자수</th>\n",
       "      <td>0.250509</td>\n",
       "      <td>0.248973</td>\n",
       "      <td>0.257834</td>\n",
       "    </tr>\n",
       "    <tr>\n",
       "      <th>부상신고자수</th>\n",
       "      <td>0.030115</td>\n",
       "      <td>0.031357</td>\n",
       "      <td>0.024194</td>\n",
       "    </tr>\n",
       "  </tbody>\n",
       "</table>\n",
       "</div>"
      ],
      "text/plain": [
       "              전체        no       yes\n",
       "사상자수    1.621520  1.619027  1.633410\n",
       "사망자수    1.040899  1.041455  1.038249\n",
       "중상자수    0.299996  0.297241  0.313134\n",
       "경상자수    0.250509  0.248973  0.257834\n",
       "부상신고자수  0.030115  0.031357  0.024194"
      ]
     },
     "execution_count": 138,
     "metadata": {},
     "output_type": "execute_result"
    }
   ],
   "source": [
    "a = []\n",
    "a.append(df.사상자수.mean())\n",
    "a.append(df.사망자수.mean())\n",
    "a.append(df.중상자수.mean())\n",
    "a.append(df.경상자수.mean())\n",
    "a.append(df.부상신고자수.mean())\n",
    "\n",
    "b=[]\n",
    "b.append(df[df.안개사고건수==0].사상자수.mean())\n",
    "b.append(df[df.안개사고건수==0].사망자수.mean())\n",
    "b.append(df[df.안개사고건수==0].중상자수.mean())\n",
    "b.append(df[df.안개사고건수==0].경상자수.mean())\n",
    "b.append(df[df.안개사고건수==0].부상신고자수.mean())\n",
    "\n",
    "c=[]\n",
    "c.append(df[df.안개사고건수!=0].사상자수.mean())\n",
    "c.append(df[df.안개사고건수!=0].사망자수.mean())\n",
    "c.append(df[df.안개사고건수!=0].중상자수.mean())\n",
    "c.append(df[df.안개사고건수!=0].경상자수.mean())\n",
    "c.append(df[df.안개사고건수!=0].부상신고자수.mean())\n",
    "\n",
    "temp = pd.DataFrame(index=['사상자수','사망자수','중상자수','경상자수','부상신고자수'])\n",
    "temp['전체']=a\n",
    "temp['no']=b\n",
    "temp['yes']=c\n",
    "\n",
    "temp"
   ]
  },
  {
   "cell_type": "code",
   "execution_count": 139,
   "metadata": {},
   "outputs": [
    {
     "name": "stderr",
     "output_type": "stream",
     "text": [
      "c:\\users\\user\\appdata\\local\\programs\\python\\python36\\lib\\site-packages\\matplotlib\\font_manager.py:1328: UserWarning: findfont: Font family ['\"C:/Windows/Fonts/NanumBarunGothic.ttf\"'] not found. Falling back to DejaVu Sans\n",
      "  (prop.get_family(), self.defaultFamily[fontext]))\n"
     ]
    },
    {
     "data": {
      "image/png": "[encoded data removed]",
      "text/plain": [
       "<Figure size 432x288 with 1 Axes>"
      ]
     },
     "metadata": {},
     "output_type": "display_data"
    }
   ],
   "source": [
    "x = np.arange(temp.shape[0])\n",
    "\n",
    "plt.bar(x-0.22, temp.전체   ,color='g',width=0.2, label='전체')\n",
    "plt.bar(x     , temp.no     ,color='b',width=0.2, label='no')\n",
    "plt.bar(x+0.22, temp.yes    ,color='r',width=0.2, label='yes')\n",
    "\n",
    "plt.legend()\n",
    "plt.xticks(x,np.array(temp.index));\n",
    "\n",
    "# 안개사고다발지역인지 아닌지는 부상자수에 영향을 미치지는 않는 것 같다. 우리나라에서는 워낙 잘 안일어나는 현상이라 그런것 같다."
   ]
  },
  {
   "cell_type": "markdown",
   "metadata": {},
   "source": [
    "우리나라에서 안개끼는 날이 그렇게 많지 않다보니, 안개가 많이 끼는 지역이더라도 피해자수 규모가 특히 높거나 하진 않음. 이 변수는 안쓰는게 좋을 것 같다"
   ]
  },
  {
   "cell_type": "markdown",
   "metadata": {},
   "source": [
    "# - 시군구 위험도"
   ]
  },
  {
   "cell_type": "code",
   "execution_count": 150,
   "metadata": {},
   "outputs": [
    {
     "data": {
      "text/html": [
       "<div>\n",
       "<style scoped>\n",
       "    .dataframe tbody tr th:only-of-type {\n",
       "        vertical-align: middle;\n",
       "    }\n",
       "\n",
       "    .dataframe tbody tr th {\n",
       "        vertical-align: top;\n",
       "    }\n",
       "\n",
       "    .dataframe thead th {\n",
       "        text-align: right;\n",
       "    }\n",
       "</style>\n",
       "<table border=\"1\" class=\"dataframe\">\n",
       "  <thead>\n",
       "    <tr style=\"text-align: right;\">\n",
       "      <th></th>\n",
       "      <th>시</th>\n",
       "      <th>군구</th>\n",
       "      <th>2013</th>\n",
       "      <th>2014</th>\n",
       "      <th>2015</th>\n",
       "      <th>2016</th>\n",
       "      <th>2017</th>\n",
       "      <th>평균</th>\n",
       "    </tr>\n",
       "  </thead>\n",
       "  <tbody>\n",
       "    <tr>\n",
       "      <th>0</th>\n",
       "      <td>전국</td>\n",
       "      <td>합계</td>\n",
       "      <td>4.86</td>\n",
       "      <td>4.78</td>\n",
       "      <td>4.77</td>\n",
       "      <td>4.74</td>\n",
       "      <td>4.71</td>\n",
       "      <td>4.77</td>\n",
       "    </tr>\n",
       "    <tr>\n",
       "      <th>1</th>\n",
       "      <td>서울</td>\n",
       "      <td>합계</td>\n",
       "      <td>4.43</td>\n",
       "      <td>4.34</td>\n",
       "      <td>4.33</td>\n",
       "      <td>4.28</td>\n",
       "      <td>4.29</td>\n",
       "      <td>4.33</td>\n",
       "    </tr>\n",
       "    <tr>\n",
       "      <th>2</th>\n",
       "      <td>서울</td>\n",
       "      <td>종로구</td>\n",
       "      <td>4.29</td>\n",
       "      <td>4.19</td>\n",
       "      <td>4.17</td>\n",
       "      <td>4.12</td>\n",
       "      <td>4.39</td>\n",
       "      <td>4.23</td>\n",
       "    </tr>\n",
       "    <tr>\n",
       "      <th>3</th>\n",
       "      <td>서울</td>\n",
       "      <td>중구</td>\n",
       "      <td>4.19</td>\n",
       "      <td>4.17</td>\n",
       "      <td>4.11</td>\n",
       "      <td>4.16</td>\n",
       "      <td>4.07</td>\n",
       "      <td>4.14</td>\n",
       "    </tr>\n",
       "    <tr>\n",
       "      <th>4</th>\n",
       "      <td>서울</td>\n",
       "      <td>용산구</td>\n",
       "      <td>4.48</td>\n",
       "      <td>4.45</td>\n",
       "      <td>4.32</td>\n",
       "      <td>4.45</td>\n",
       "      <td>4.48</td>\n",
       "      <td>4.44</td>\n",
       "    </tr>\n",
       "  </tbody>\n",
       "</table>\n",
       "</div>"
      ],
      "text/plain": [
       "    시   군구  2013  2014  2015  2016  2017    평균\n",
       "0  전국   합계  4.86  4.78  4.77  4.74  4.71  4.77\n",
       "1  서울   합계  4.43  4.34  4.33  4.28  4.29  4.33\n",
       "2  서울  종로구  4.29  4.19  4.17  4.12  4.39  4.23\n",
       "3  서울   중구  4.19  4.17  4.11  4.16  4.07  4.14\n",
       "4  서울  용산구  4.48  4.45  4.32  4.45  4.48  4.44"
      ]
     },
     "execution_count": 150,
     "metadata": {},
     "output_type": "execute_result"
    }
   ],
   "source": [
    "df_시군구위험도=pd.read_csv('safe_si.csv',encoding='CP949')\n",
    "df_시군구위험도.head()"
   ]
  },
  {
   "cell_type": "code",
   "execution_count": 338,
   "metadata": {},
   "outputs": [
    {
     "data": {
      "text/html": [
       "<div>\n",
       "<style scoped>\n",
       "    .dataframe tbody tr th:only-of-type {\n",
       "        vertical-align: middle;\n",
       "    }\n",
       "\n",
       "    .dataframe tbody tr th {\n",
       "        vertical-align: top;\n",
       "    }\n",
       "\n",
       "    .dataframe thead th {\n",
       "        text-align: right;\n",
       "    }\n",
       "</style>\n",
       "<table border=\"1\" class=\"dataframe\">\n",
       "  <thead>\n",
       "    <tr style=\"text-align: right;\">\n",
       "      <th></th>\n",
       "      <th>시</th>\n",
       "      <th>평균</th>\n",
       "      <th>차이</th>\n",
       "    </tr>\n",
       "  </thead>\n",
       "  <tbody>\n",
       "    <tr>\n",
       "      <th>1</th>\n",
       "      <td>서울</td>\n",
       "      <td>4.33</td>\n",
       "      <td>-0.44</td>\n",
       "    </tr>\n",
       "    <tr>\n",
       "      <th>27</th>\n",
       "      <td>부산</td>\n",
       "      <td>4.35</td>\n",
       "      <td>-0.42</td>\n",
       "    </tr>\n",
       "    <tr>\n",
       "      <th>44</th>\n",
       "      <td>대구</td>\n",
       "      <td>4.45</td>\n",
       "      <td>-0.32</td>\n",
       "    </tr>\n",
       "    <tr>\n",
       "      <th>76</th>\n",
       "      <td>울산</td>\n",
       "      <td>4.63</td>\n",
       "      <td>-0.14</td>\n",
       "    </tr>\n",
       "    <tr>\n",
       "      <th>53</th>\n",
       "      <td>인천</td>\n",
       "      <td>4.68</td>\n",
       "      <td>-0.09</td>\n",
       "    </tr>\n",
       "    <tr>\n",
       "      <th>70</th>\n",
       "      <td>대전</td>\n",
       "      <td>4.70</td>\n",
       "      <td>-0.07</td>\n",
       "    </tr>\n",
       "    <tr>\n",
       "      <th>225</th>\n",
       "      <td>경남</td>\n",
       "      <td>4.75</td>\n",
       "      <td>-0.02</td>\n",
       "    </tr>\n",
       "    <tr>\n",
       "      <th>0</th>\n",
       "      <td>전국</td>\n",
       "      <td>4.77</td>\n",
       "      <td>0.00</td>\n",
       "    </tr>\n",
       "    <tr>\n",
       "      <th>244</th>\n",
       "      <td>제주</td>\n",
       "      <td>4.79</td>\n",
       "      <td>0.02</td>\n",
       "    </tr>\n",
       "    <tr>\n",
       "      <th>84</th>\n",
       "      <td>경기</td>\n",
       "      <td>4.83</td>\n",
       "      <td>0.06</td>\n",
       "    </tr>\n",
       "    <tr>\n",
       "      <th>201</th>\n",
       "      <td>경북</td>\n",
       "      <td>4.95</td>\n",
       "      <td>0.18</td>\n",
       "    </tr>\n",
       "    <tr>\n",
       "      <th>64</th>\n",
       "      <td>광주</td>\n",
       "      <td>4.99</td>\n",
       "      <td>0.22</td>\n",
       "    </tr>\n",
       "    <tr>\n",
       "      <th>147</th>\n",
       "      <td>충남</td>\n",
       "      <td>5.16</td>\n",
       "      <td>0.39</td>\n",
       "    </tr>\n",
       "    <tr>\n",
       "      <th>163</th>\n",
       "      <td>전북</td>\n",
       "      <td>5.16</td>\n",
       "      <td>0.39</td>\n",
       "    </tr>\n",
       "    <tr>\n",
       "      <th>135</th>\n",
       "      <td>충북</td>\n",
       "      <td>5.23</td>\n",
       "      <td>0.46</td>\n",
       "    </tr>\n",
       "    <tr>\n",
       "      <th>116</th>\n",
       "      <td>강원</td>\n",
       "      <td>5.33</td>\n",
       "      <td>0.56</td>\n",
       "    </tr>\n",
       "    <tr>\n",
       "      <th>82</th>\n",
       "      <td>세종</td>\n",
       "      <td>5.33</td>\n",
       "      <td>0.56</td>\n",
       "    </tr>\n",
       "    <tr>\n",
       "      <th>178</th>\n",
       "      <td>전남</td>\n",
       "      <td>5.39</td>\n",
       "      <td>0.62</td>\n",
       "    </tr>\n",
       "  </tbody>\n",
       "</table>\n",
       "</div>"
      ],
      "text/plain": [
       "      시    평균    차이\n",
       "1    서울  4.33 -0.44\n",
       "27   부산  4.35 -0.42\n",
       "44   대구  4.45 -0.32\n",
       "76   울산  4.63 -0.14\n",
       "53   인천  4.68 -0.09\n",
       "70   대전  4.70 -0.07\n",
       "225  경남  4.75 -0.02\n",
       "0    전국  4.77  0.00\n",
       "244  제주  4.79  0.02\n",
       "84   경기  4.83  0.06\n",
       "201  경북  4.95  0.18\n",
       "64   광주  4.99  0.22\n",
       "147  충남  5.16  0.39\n",
       "163  전북  5.16  0.39\n",
       "135  충북  5.23  0.46\n",
       "116  강원  5.33  0.56\n",
       "82   세종  5.33  0.56\n",
       "178  전남  5.39  0.62"
      ]
     },
     "execution_count": 338,
     "metadata": {},
     "output_type": "execute_result"
    }
   ],
   "source": [
    "# 시도별 전국평균과의 차이 \n",
    "\n",
    "temp = df_시군구위험도.loc[df_시군구위험도.군구=='합계',['시','평균']]\n",
    "temp['차이']=df_시군구위험도.평균-4.77\n",
    "temp.loc[temp.차이.sort_values().index]"
   ]
  },
  {
   "cell_type": "code",
   "execution_count": 339,
   "metadata": {},
   "outputs": [],
   "source": [
    "temp = temp[1:]"
   ]
  },
  {
   "cell_type": "code",
   "execution_count": 341,
   "metadata": {},
   "outputs": [
    {
     "data": {
      "image/png": "[encoded data removed]",
      "text/plain": [
       "<Figure size 432x288 with 1 Axes>"
      ]
     },
     "metadata": {},
     "output_type": "display_data"
    }
   ],
   "source": [
    "ind = np.arange(temp.shape[0])\n",
    "\n",
    "plt.bar(ind,temp.차이)\n",
    "plt.xticks(ind, np.array(temp.시));\n",
    "\n",
    "# 전국평균위험도보다 특히 높은 시들이 있음. \n",
    "# 전남, 세종, 강원, 충북, 전북, 충남, 광주, 경북, 경기, 제주"
   ]
  },
  {
   "cell_type": "code",
   "execution_count": 344,
   "metadata": {},
   "outputs": [
    {
     "data": {
      "text/plain": [
       "경기    30\n",
       "경남    19\n",
       "전남    18\n",
       "경북    17\n",
       "충남    13\n",
       "전북    12\n",
       "강원    11\n",
       "충북    10\n",
       "인천     7\n",
       "제주     5\n",
       "서울     5\n",
       "대구     4\n",
       "광주     4\n",
       "부산     4\n",
       "울산     3\n",
       "대전     1\n",
       "Name: 발생지시도, dtype: int64"
      ]
     },
     "execution_count": 344,
     "metadata": {},
     "output_type": "execute_result"
    }
   ],
   "source": [
    "df[(df.사망자수>=3)|(df.사상자수>=20)].발생지시도.value_counts()"
   ]
  },
  {
   "cell_type": "code",
   "execution_count": 264,
   "metadata": {
    "scrolled": true
   },
   "outputs": [
    {
     "data": {
      "text/plain": [
       "25036"
      ]
     },
     "execution_count": 264,
     "metadata": {},
     "output_type": "execute_result"
    }
   ],
   "source": [
    "for i in temp.시.unique():\n",
    "    df.loc[df.발생지시도==i,'시_위험도'] = temp.loc[temp.시==i,'차이']\n",
    "\n",
    "df.시_위험도.isnull().sum()"
   ]
  },
  {
   "cell_type": "code",
   "execution_count": 269,
   "metadata": {},
   "outputs": [
    {
     "name": "stdout",
     "output_type": "stream",
     "text": [
      "서울\n",
      "부산\n",
      "대구\n",
      "인천\n",
      "광주\n",
      "대전\n",
      "울산\n",
      "세종\n",
      "경기\n",
      "강원\n",
      "충북\n",
      "충남\n",
      "전북\n",
      "전남\n",
      "경북\n",
      "경남\n",
      "제주\n"
     ]
    }
   ],
   "source": [
    "for i in temp.시.unique():\n",
    "    print(i)"
   ]
  },
  {
   "cell_type": "code",
   "execution_count": 263,
   "metadata": {},
   "outputs": [
    {
     "data": {
      "text/plain": [
       "1   -0.44\n",
       "Name: 차이, dtype: float64"
      ]
     },
     "execution_count": 263,
     "metadata": {},
     "output_type": "execute_result"
    }
   ],
   "source": [
    "temp.loc[temp.시=='서울','차이']"
   ]
  },
  {
   "cell_type": "code",
   "execution_count": null,
   "metadata": {},
   "outputs": [],
   "source": [
    "df.발생지시도"
   ]
  },
  {
   "cell_type": "code",
   "execution_count": null,
   "metadata": {},
   "outputs": [],
   "source": [
    "# 군구별 전국평균과의 차이 \n"
   ]
  },
  {
   "cell_type": "code",
   "execution_count": 245,
   "metadata": {},
   "outputs": [
    {
     "data": {
      "text/html": [
       "<div>\n",
       "<style scoped>\n",
       "    .dataframe tbody tr th:only-of-type {\n",
       "        vertical-align: middle;\n",
       "    }\n",
       "\n",
       "    .dataframe tbody tr th {\n",
       "        vertical-align: top;\n",
       "    }\n",
       "\n",
       "    .dataframe thead th {\n",
       "        text-align: right;\n",
       "    }\n",
       "</style>\n",
       "<table border=\"1\" class=\"dataframe\">\n",
       "  <thead>\n",
       "    <tr style=\"text-align: right;\">\n",
       "      <th></th>\n",
       "      <th>군구</th>\n",
       "      <th>평균</th>\n",
       "      <th>차이</th>\n",
       "    </tr>\n",
       "  </thead>\n",
       "  <tbody>\n",
       "    <tr>\n",
       "      <th>6</th>\n",
       "      <td>동대문구</td>\n",
       "      <td>3.98</td>\n",
       "      <td>-0.35</td>\n",
       "    </tr>\n",
       "    <tr>\n",
       "      <th>22</th>\n",
       "      <td>중랑구</td>\n",
       "      <td>4.11</td>\n",
       "      <td>-0.22</td>\n",
       "    </tr>\n",
       "    <tr>\n",
       "      <th>3</th>\n",
       "      <td>중구</td>\n",
       "      <td>4.14</td>\n",
       "      <td>-0.19</td>\n",
       "    </tr>\n",
       "    <tr>\n",
       "      <th>7</th>\n",
       "      <td>성북구</td>\n",
       "      <td>4.15</td>\n",
       "      <td>-0.18</td>\n",
       "    </tr>\n",
       "    <tr>\n",
       "      <th>25</th>\n",
       "      <td>강북구</td>\n",
       "      <td>4.16</td>\n",
       "      <td>-0.17</td>\n",
       "    </tr>\n",
       "    <tr>\n",
       "      <th>8</th>\n",
       "      <td>도봉구</td>\n",
       "      <td>4.16</td>\n",
       "      <td>-0.17</td>\n",
       "    </tr>\n",
       "    <tr>\n",
       "      <th>16</th>\n",
       "      <td>관악구</td>\n",
       "      <td>4.18</td>\n",
       "      <td>-0.15</td>\n",
       "    </tr>\n",
       "    <tr>\n",
       "      <th>2</th>\n",
       "      <td>종로구</td>\n",
       "      <td>4.23</td>\n",
       "      <td>-0.10</td>\n",
       "    </tr>\n",
       "    <tr>\n",
       "      <th>21</th>\n",
       "      <td>양천구</td>\n",
       "      <td>4.25</td>\n",
       "      <td>-0.08</td>\n",
       "    </tr>\n",
       "    <tr>\n",
       "      <th>9</th>\n",
       "      <td>은평구</td>\n",
       "      <td>4.28</td>\n",
       "      <td>-0.05</td>\n",
       "    </tr>\n",
       "    <tr>\n",
       "      <th>5</th>\n",
       "      <td>성동구</td>\n",
       "      <td>4.30</td>\n",
       "      <td>-0.03</td>\n",
       "    </tr>\n",
       "    <tr>\n",
       "      <th>19</th>\n",
       "      <td>송파구</td>\n",
       "      <td>4.30</td>\n",
       "      <td>-0.03</td>\n",
       "    </tr>\n",
       "    <tr>\n",
       "      <th>23</th>\n",
       "      <td>노원구</td>\n",
       "      <td>4.33</td>\n",
       "      <td>0.00</td>\n",
       "    </tr>\n",
       "    <tr>\n",
       "      <th>18</th>\n",
       "      <td>강동구</td>\n",
       "      <td>4.34</td>\n",
       "      <td>0.01</td>\n",
       "    </tr>\n",
       "    <tr>\n",
       "      <th>12</th>\n",
       "      <td>강서구</td>\n",
       "      <td>4.34</td>\n",
       "      <td>0.01</td>\n",
       "    </tr>\n",
       "    <tr>\n",
       "      <th>24</th>\n",
       "      <td>광진구</td>\n",
       "      <td>4.35</td>\n",
       "      <td>0.02</td>\n",
       "    </tr>\n",
       "    <tr>\n",
       "      <th>10</th>\n",
       "      <td>서대문구</td>\n",
       "      <td>4.36</td>\n",
       "      <td>0.03</td>\n",
       "    </tr>\n",
       "    <tr>\n",
       "      <th>17</th>\n",
       "      <td>강남구</td>\n",
       "      <td>4.39</td>\n",
       "      <td>0.06</td>\n",
       "    </tr>\n",
       "    <tr>\n",
       "      <th>13</th>\n",
       "      <td>구로구</td>\n",
       "      <td>4.40</td>\n",
       "      <td>0.07</td>\n",
       "    </tr>\n",
       "    <tr>\n",
       "      <th>15</th>\n",
       "      <td>동작구</td>\n",
       "      <td>4.40</td>\n",
       "      <td>0.07</td>\n",
       "    </tr>\n",
       "    <tr>\n",
       "      <th>4</th>\n",
       "      <td>용산구</td>\n",
       "      <td>4.44</td>\n",
       "      <td>0.11</td>\n",
       "    </tr>\n",
       "    <tr>\n",
       "      <th>14</th>\n",
       "      <td>영등포구</td>\n",
       "      <td>4.48</td>\n",
       "      <td>0.15</td>\n",
       "    </tr>\n",
       "    <tr>\n",
       "      <th>26</th>\n",
       "      <td>금천구</td>\n",
       "      <td>4.59</td>\n",
       "      <td>0.26</td>\n",
       "    </tr>\n",
       "    <tr>\n",
       "      <th>11</th>\n",
       "      <td>마포구</td>\n",
       "      <td>4.64</td>\n",
       "      <td>0.31</td>\n",
       "    </tr>\n",
       "    <tr>\n",
       "      <th>20</th>\n",
       "      <td>서초구</td>\n",
       "      <td>4.73</td>\n",
       "      <td>0.40</td>\n",
       "    </tr>\n",
       "  </tbody>\n",
       "</table>\n",
       "</div>"
      ],
      "text/plain": [
       "      군구    평균    차이\n",
       "6   동대문구  3.98 -0.35\n",
       "22   중랑구  4.11 -0.22\n",
       "3     중구  4.14 -0.19\n",
       "7    성북구  4.15 -0.18\n",
       "25   강북구  4.16 -0.17\n",
       "8    도봉구  4.16 -0.17\n",
       "16   관악구  4.18 -0.15\n",
       "2    종로구  4.23 -0.10\n",
       "21   양천구  4.25 -0.08\n",
       "9    은평구  4.28 -0.05\n",
       "5    성동구  4.30 -0.03\n",
       "19   송파구  4.30 -0.03\n",
       "23   노원구  4.33  0.00\n",
       "18   강동구  4.34  0.01\n",
       "12   강서구  4.34  0.01\n",
       "24   광진구  4.35  0.02\n",
       "10  서대문구  4.36  0.03\n",
       "17   강남구  4.39  0.06\n",
       "13   구로구  4.40  0.07\n",
       "15   동작구  4.40  0.07\n",
       "4    용산구  4.44  0.11\n",
       "14  영등포구  4.48  0.15\n",
       "26   금천구  4.59  0.26\n",
       "11   마포구  4.64  0.31\n",
       "20   서초구  4.73  0.40"
      ]
     },
     "execution_count": 245,
     "metadata": {},
     "output_type": "execute_result"
    }
   ],
   "source": [
    "# 군구별 전국평균과의 차이 \n",
    "\n",
    "temp = df_시군구위험도.loc[df_시군구위험도.시=='서울',['군구','평균']]\n",
    "temp['차이']=temp.평균-4.33\n",
    "temp=temp[1:]\n",
    "temp.loc[temp.차이.sort_values().index]"
   ]
  },
  {
   "cell_type": "markdown",
   "metadata": {},
   "source": [
    "# - 도로유형별 위험도"
   ]
  },
  {
   "cell_type": "markdown",
   "metadata": {},
   "source": [
    "대형교통사고들은 주로 차량평균속도가 높은 고속도로나 큰 도로에서 발생하지 않을까 생각. 그래서 도로별 사고위험도를 계산해봄."
   ]
  },
  {
   "cell_type": "code",
   "execution_count": 141,
   "metadata": {},
   "outputs": [
    {
     "data": {
      "text/html": [
       "<div>\n",
       "<style scoped>\n",
       "    .dataframe tbody tr th:only-of-type {\n",
       "        vertical-align: middle;\n",
       "    }\n",
       "\n",
       "    .dataframe tbody tr th {\n",
       "        vertical-align: top;\n",
       "    }\n",
       "\n",
       "    .dataframe thead th {\n",
       "        text-align: right;\n",
       "    }\n",
       "</style>\n",
       "<table border=\"1\" class=\"dataframe\">\n",
       "  <thead>\n",
       "    <tr style=\"text-align: right;\">\n",
       "      <th></th>\n",
       "      <th>도로유형</th>\n",
       "      <th>2012</th>\n",
       "      <th>2013</th>\n",
       "      <th>2014</th>\n",
       "      <th>2015</th>\n",
       "      <th>2016</th>\n",
       "      <th>평균</th>\n",
       "    </tr>\n",
       "  </thead>\n",
       "  <tbody>\n",
       "    <tr>\n",
       "      <th>0</th>\n",
       "      <td>합계</td>\n",
       "      <td>4.91</td>\n",
       "      <td>4.86</td>\n",
       "      <td>4.78</td>\n",
       "      <td>4.77</td>\n",
       "      <td>4.74</td>\n",
       "      <td>4.81</td>\n",
       "    </tr>\n",
       "    <tr>\n",
       "      <th>1</th>\n",
       "      <td>기타</td>\n",
       "      <td>4.00</td>\n",
       "      <td>3.97</td>\n",
       "      <td>3.87</td>\n",
       "      <td>3.85</td>\n",
       "      <td>3.80</td>\n",
       "      <td>3.90</td>\n",
       "    </tr>\n",
       "    <tr>\n",
       "      <th>2</th>\n",
       "      <td>특별광역시도</td>\n",
       "      <td>4.60</td>\n",
       "      <td>4.59</td>\n",
       "      <td>4.53</td>\n",
       "      <td>4.50</td>\n",
       "      <td>4.47</td>\n",
       "      <td>4.64</td>\n",
       "    </tr>\n",
       "    <tr>\n",
       "      <th>3</th>\n",
       "      <td>시도</td>\n",
       "      <td>4.82</td>\n",
       "      <td>4.81</td>\n",
       "      <td>4.78</td>\n",
       "      <td>4.73</td>\n",
       "      <td>4.74</td>\n",
       "      <td>4.78</td>\n",
       "    </tr>\n",
       "    <tr>\n",
       "      <th>4</th>\n",
       "      <td>지방도</td>\n",
       "      <td>5.34</td>\n",
       "      <td>5.29</td>\n",
       "      <td>5.12</td>\n",
       "      <td>5.18</td>\n",
       "      <td>5.12</td>\n",
       "      <td>5.21</td>\n",
       "    </tr>\n",
       "    <tr>\n",
       "      <th>5</th>\n",
       "      <td>일반국도</td>\n",
       "      <td>6.19</td>\n",
       "      <td>6.22</td>\n",
       "      <td>6.00</td>\n",
       "      <td>5.94</td>\n",
       "      <td>5.70</td>\n",
       "      <td>6.01</td>\n",
       "    </tr>\n",
       "    <tr>\n",
       "      <th>6</th>\n",
       "      <td>고속국도</td>\n",
       "      <td>8.30</td>\n",
       "      <td>8.25</td>\n",
       "      <td>8.10</td>\n",
       "      <td>7.99</td>\n",
       "      <td>7.87</td>\n",
       "      <td>8.10</td>\n",
       "    </tr>\n",
       "  </tbody>\n",
       "</table>\n",
       "</div>"
      ],
      "text/plain": [
       "     도로유형  2012  2013  2014  2015  2016    평균\n",
       "0      합계  4.91  4.86  4.78  4.77  4.74  4.81\n",
       "1      기타  4.00  3.97  3.87  3.85  3.80  3.90\n",
       "2  특별광역시도  4.60  4.59  4.53  4.50  4.47  4.64\n",
       "3      시도  4.82  4.81  4.78  4.73  4.74  4.78\n",
       "4     지방도  5.34  5.29  5.12  5.18  5.12  5.21\n",
       "5    일반국도  6.19  6.22  6.00  5.94  5.70  6.01\n",
       "6    고속국도  8.30  8.25  8.10  7.99  7.87  8.10"
      ]
     },
     "execution_count": 141,
     "metadata": {},
     "output_type": "execute_result"
    }
   ],
   "source": [
    "df_도로=pd.read_csv('safe_road.csv',encoding='CP949')\n",
    "df_도로"
   ]
  },
  {
   "cell_type": "code",
   "execution_count": 142,
   "metadata": {},
   "outputs": [
    {
     "data": {
      "text/html": [
       "<div>\n",
       "<style scoped>\n",
       "    .dataframe tbody tr th:only-of-type {\n",
       "        vertical-align: middle;\n",
       "    }\n",
       "\n",
       "    .dataframe tbody tr th {\n",
       "        vertical-align: top;\n",
       "    }\n",
       "\n",
       "    .dataframe thead th {\n",
       "        text-align: right;\n",
       "    }\n",
       "</style>\n",
       "<table border=\"1\" class=\"dataframe\">\n",
       "  <thead>\n",
       "    <tr style=\"text-align: right;\">\n",
       "      <th></th>\n",
       "      <th>도로유형</th>\n",
       "      <th>차이</th>\n",
       "    </tr>\n",
       "  </thead>\n",
       "  <tbody>\n",
       "    <tr>\n",
       "      <th>2</th>\n",
       "      <td>특별광역시도</td>\n",
       "      <td>-0.17</td>\n",
       "    </tr>\n",
       "    <tr>\n",
       "      <th>3</th>\n",
       "      <td>시도</td>\n",
       "      <td>-0.03</td>\n",
       "    </tr>\n",
       "    <tr>\n",
       "      <th>4</th>\n",
       "      <td>지방도</td>\n",
       "      <td>0.40</td>\n",
       "    </tr>\n",
       "    <tr>\n",
       "      <th>5</th>\n",
       "      <td>일반국도</td>\n",
       "      <td>1.20</td>\n",
       "    </tr>\n",
       "    <tr>\n",
       "      <th>6</th>\n",
       "      <td>고속국도</td>\n",
       "      <td>3.29</td>\n",
       "    </tr>\n",
       "  </tbody>\n",
       "</table>\n",
       "</div>"
      ],
      "text/plain": [
       "     도로유형    차이\n",
       "2  특별광역시도 -0.17\n",
       "3      시도 -0.03\n",
       "4     지방도  0.40\n",
       "5    일반국도  1.20\n",
       "6    고속국도  3.29"
      ]
     },
     "execution_count": 142,
     "metadata": {},
     "output_type": "execute_result"
    }
   ],
   "source": [
    "df_도로['차이']=df_도로.평균-4.81\n",
    "temp = df_도로[['도로유형','차이']]\n",
    "temp = temp[2:]\n",
    "temp"
   ]
  },
  {
   "cell_type": "code",
   "execution_count": 143,
   "metadata": {},
   "outputs": [
    {
     "name": "stderr",
     "output_type": "stream",
     "text": [
      "c:\\users\\user\\appdata\\local\\programs\\python\\python36\\lib\\site-packages\\matplotlib\\font_manager.py:1328: UserWarning: findfont: Font family ['\"C:/Windows/Fonts/NanumBarunGothic.ttf\"'] not found. Falling back to DejaVu Sans\n",
      "  (prop.get_family(), self.defaultFamily[fontext]))\n"
     ]
    },
    {
     "data": {
      "image/png": "[encoded data removed]",
      "text/plain": [
       "<Figure size 432x288 with 1 Axes>"
      ]
     },
     "metadata": {},
     "output_type": "display_data"
    }
   ],
   "source": [
    "ind = np.arange(temp.shape[0])\n",
    "\n",
    "plt.bar(ind,temp.차이)\n",
    "plt.xticks(ind, np.array(temp.도로유형));\n",
    "\n",
    "# 보통 고속도로와 일반국도에서 사고가 났을 때, 건당 피해수치가 높은 것 같다.\n",
    "# 지역별 고속국도, 일반국도"
   ]
  },
  {
   "cell_type": "markdown",
   "metadata": {},
   "source": [
    "보면 고속도로의 사고위험도가 유난히 높게 나타남. 규모가 큰 교통사고는 주로 고속도로에서 발생할까?                   \n",
    "현재 데이터에는 사고가 어느 도로에서 발생하는지 구체적으로 보여주지 않아서 직접 몇몇 사고들을 찾아봄. 찾아보니 주로 고속도로에서 발생하거나, 그 지역 주요 도로에서 발생하는 것 같음. 이에 시군구별 도로 데이터를 찾아서 어떻게 활용할 지 생각해보기."
   ]
  }
 ],
 "metadata": {
  "kernelspec": {
   "display_name": "Python 3",
   "language": "python",
   "name": "python3"
  },
  "language_info": {
   "codemirror_mode": {
    "name": "ipython",
    "version": 3
   },
   "file_extension": ".py",
   "mimetype": "text/x-python",
   "name": "python",
   "nbconvert_exporter": "python",
   "pygments_lexer": "ipython3",
   "version": "3.6.5"
  }
 },
 "nbformat": 4,
 "nbformat_minor": 2
}
